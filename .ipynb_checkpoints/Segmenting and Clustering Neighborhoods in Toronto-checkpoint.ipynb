{
 "cells": [
  {
   "cell_type": "markdown",
   "metadata": {},
   "source": [
    "# Assignment Capstone: Segmenting and Clustering Neighborhoods in Toronto\n",
    "\n",
    "by Sushant Deshpande"
   ]
  },
  {
   "cell_type": "markdown",
   "metadata": {},
   "source": [
    "Let's start by importing all the libraries that will be used in this notebook"
   ]
  },
  {
   "cell_type": "code",
   "execution_count": 1,
   "metadata": {},
   "outputs": [
    {
     "name": "stdout",
     "output_type": "stream",
     "text": [
      "Libraries imported.\n"
     ]
    }
   ],
   "source": [
    "from bs4 import BeautifulSoup\n",
    "import csv\n",
    "import matplotlib as mpl\n",
    "import matplotlib.pyplot as plt\n",
    "import seaborn as sns\n",
    "import numpy as np\n",
    "import pandas as pd\n",
    "import json\n",
    "from geopy.geocoders import Nominatim\n",
    "import requests\n",
    "from pandas.io.json import json_normalize\n",
    "import matplotlib.cm as cm\n",
    "import matplotlib.colors as colors\n",
    "from sklearn.cluster import KMeans\n",
    "import folium # map rendering library\n",
    "print('Libraries imported.')"
   ]
  },
  {
   "cell_type": "markdown",
   "metadata": {},
   "source": [
    "### Accessing the webpage\n",
    "Let's access the wikipedia paage that lista all the postal codes for Toronto and save it in a pandas dataframe"
   ]
  },
  {
   "cell_type": "code",
   "execution_count": 2,
   "metadata": {},
   "outputs": [
    {
     "data": {
      "text/html": [
       "<div>\n",
       "<style scoped>\n",
       "    .dataframe tbody tr th:only-of-type {\n",
       "        vertical-align: middle;\n",
       "    }\n",
       "\n",
       "    .dataframe tbody tr th {\n",
       "        vertical-align: top;\n",
       "    }\n",
       "\n",
       "    .dataframe thead th {\n",
       "        text-align: right;\n",
       "    }\n",
       "</style>\n",
       "<table border=\"1\" class=\"dataframe\">\n",
       "  <thead>\n",
       "    <tr style=\"text-align: right;\">\n",
       "      <th></th>\n",
       "      <th>Postal Code</th>\n",
       "      <th>Community</th>\n",
       "      <th>Neighbourhood</th>\n",
       "    </tr>\n",
       "  </thead>\n",
       "  <tbody>\n",
       "    <tr>\n",
       "      <th>0</th>\n",
       "      <td>M1A</td>\n",
       "      <td>Not assigned</td>\n",
       "      <td>Not assigned</td>\n",
       "    </tr>\n",
       "    <tr>\n",
       "      <th>1</th>\n",
       "      <td>M2A</td>\n",
       "      <td>Not assigned</td>\n",
       "      <td>Not assigned</td>\n",
       "    </tr>\n",
       "    <tr>\n",
       "      <th>2</th>\n",
       "      <td>M3A</td>\n",
       "      <td>North York</td>\n",
       "      <td>Parkwoods</td>\n",
       "    </tr>\n",
       "    <tr>\n",
       "      <th>3</th>\n",
       "      <td>M4A</td>\n",
       "      <td>North York</td>\n",
       "      <td>Victoria Village</td>\n",
       "    </tr>\n",
       "    <tr>\n",
       "      <th>4</th>\n",
       "      <td>M5A</td>\n",
       "      <td>Downtown Toronto</td>\n",
       "      <td>Regent Park, Harbourfront</td>\n",
       "    </tr>\n",
       "  </tbody>\n",
       "</table>\n",
       "</div>"
      ],
      "text/plain": [
       "  Postal Code         Community              Neighbourhood\n",
       "0         M1A      Not assigned               Not assigned\n",
       "1         M2A      Not assigned               Not assigned\n",
       "2         M3A        North York                  Parkwoods\n",
       "3         M4A        North York           Victoria Village\n",
       "4         M5A  Downtown Toronto  Regent Park, Harbourfront"
      ]
     },
     "execution_count": 2,
     "metadata": {},
     "output_type": "execute_result"
    }
   ],
   "source": [
    "url = \"https://en.wikipedia.org/wiki/List_of_postal_codes_of_Canada:_M\"\n",
    "tables = pd.read_html(url)\n",
    "table_df = tables[0]\n",
    "table_df.head()"
   ]
  },
  {
   "cell_type": "markdown",
   "metadata": {},
   "source": [
    "### Data cleanup\n",
    "Delete \\n] and ["
   ]
  },
  {
   "cell_type": "code",
   "execution_count": 3,
   "metadata": {},
   "outputs": [
    {
     "data": {
      "text/html": [
       "<div>\n",
       "<style scoped>\n",
       "    .dataframe tbody tr th:only-of-type {\n",
       "        vertical-align: middle;\n",
       "    }\n",
       "\n",
       "    .dataframe tbody tr th {\n",
       "        vertical-align: top;\n",
       "    }\n",
       "\n",
       "    .dataframe thead th {\n",
       "        text-align: right;\n",
       "    }\n",
       "</style>\n",
       "<table border=\"1\" class=\"dataframe\">\n",
       "  <thead>\n",
       "    <tr style=\"text-align: right;\">\n",
       "      <th></th>\n",
       "      <th>PostalCode</th>\n",
       "      <th>Borough</th>\n",
       "      <th>Neighborhood</th>\n",
       "    </tr>\n",
       "  </thead>\n",
       "  <tbody>\n",
       "    <tr>\n",
       "      <th>0</th>\n",
       "      <td>M1A</td>\n",
       "      <td>Not assigned</td>\n",
       "      <td>Not assigned</td>\n",
       "    </tr>\n",
       "    <tr>\n",
       "      <th>1</th>\n",
       "      <td>M2A</td>\n",
       "      <td>Not assigned</td>\n",
       "      <td>Not assigned</td>\n",
       "    </tr>\n",
       "    <tr>\n",
       "      <th>2</th>\n",
       "      <td>M3A</td>\n",
       "      <td>North York</td>\n",
       "      <td>Parkwoods</td>\n",
       "    </tr>\n",
       "    <tr>\n",
       "      <th>3</th>\n",
       "      <td>M4A</td>\n",
       "      <td>North York</td>\n",
       "      <td>Victoria Village</td>\n",
       "    </tr>\n",
       "    <tr>\n",
       "      <th>4</th>\n",
       "      <td>M5A</td>\n",
       "      <td>Downtown Toronto</td>\n",
       "      <td>Regent Park, Harbourfront</td>\n",
       "    </tr>\n",
       "  </tbody>\n",
       "</table>\n",
       "</div>"
      ],
      "text/plain": [
       "  PostalCode           Borough               Neighborhood\n",
       "0        M1A      Not assigned               Not assigned\n",
       "1        M2A      Not assigned               Not assigned\n",
       "2        M3A        North York                  Parkwoods\n",
       "3        M4A        North York           Victoria Village\n",
       "4        M5A  Downtown Toronto  Regent Park, Harbourfront"
      ]
     },
     "execution_count": 3,
     "metadata": {},
     "output_type": "execute_result"
    }
   ],
   "source": [
    "table_df.columns = ['PostalCode', 'Borough', 'Neighborhood']\n",
    "table_df.head()"
   ]
  },
  {
   "cell_type": "markdown",
   "metadata": {},
   "source": [
    "Delete the cells that contain NaN values and reset index."
   ]
  },
  {
   "cell_type": "markdown",
   "metadata": {},
   "source": [
    "Finally, we need to get the shape of our dataframe, so I used the .shape method"
   ]
  },
  {
   "cell_type": "code",
   "execution_count": 4,
   "metadata": {},
   "outputs": [
    {
     "data": {
      "text/plain": [
       "(180, 3)"
      ]
     },
     "execution_count": 4,
     "metadata": {},
     "output_type": "execute_result"
    }
   ],
   "source": [
    "table_df.shape"
   ]
  },
  {
   "cell_type": "markdown",
   "metadata": {},
   "source": [
    "## I tried to use the Geocoder Python package, but it wasn't working for me so I went ahead with the alternate method mentioned on the submission page\n",
    "\n",
    "I downloaded the Geospatial_Coordinates.csv file and renamed the headers to PostalCode, Latitude, Longitude."
   ]
  },
  {
   "cell_type": "code",
   "execution_count": 5,
   "metadata": {
    "scrolled": true
   },
   "outputs": [
    {
     "data": {
      "text/html": [
       "<div>\n",
       "<style scoped>\n",
       "    .dataframe tbody tr th:only-of-type {\n",
       "        vertical-align: middle;\n",
       "    }\n",
       "\n",
       "    .dataframe tbody tr th {\n",
       "        vertical-align: top;\n",
       "    }\n",
       "\n",
       "    .dataframe thead th {\n",
       "        text-align: right;\n",
       "    }\n",
       "</style>\n",
       "<table border=\"1\" class=\"dataframe\">\n",
       "  <thead>\n",
       "    <tr style=\"text-align: right;\">\n",
       "      <th></th>\n",
       "      <th>PostalCode</th>\n",
       "      <th>Latitude</th>\n",
       "      <th>Longitude</th>\n",
       "    </tr>\n",
       "  </thead>\n",
       "  <tbody>\n",
       "    <tr>\n",
       "      <th>0</th>\n",
       "      <td>M1B</td>\n",
       "      <td>43.806686</td>\n",
       "      <td>-79.194353</td>\n",
       "    </tr>\n",
       "    <tr>\n",
       "      <th>1</th>\n",
       "      <td>M1C</td>\n",
       "      <td>43.784535</td>\n",
       "      <td>-79.160497</td>\n",
       "    </tr>\n",
       "    <tr>\n",
       "      <th>2</th>\n",
       "      <td>M1E</td>\n",
       "      <td>43.763573</td>\n",
       "      <td>-79.188711</td>\n",
       "    </tr>\n",
       "    <tr>\n",
       "      <th>3</th>\n",
       "      <td>M1G</td>\n",
       "      <td>43.770992</td>\n",
       "      <td>-79.216917</td>\n",
       "    </tr>\n",
       "    <tr>\n",
       "      <th>4</th>\n",
       "      <td>M1H</td>\n",
       "      <td>43.773136</td>\n",
       "      <td>-79.239476</td>\n",
       "    </tr>\n",
       "  </tbody>\n",
       "</table>\n",
       "</div>"
      ],
      "text/plain": [
       "  PostalCode   Latitude  Longitude\n",
       "0        M1B  43.806686 -79.194353\n",
       "1        M1C  43.784535 -79.160497\n",
       "2        M1E  43.763573 -79.188711\n",
       "3        M1G  43.770992 -79.216917\n",
       "4        M1H  43.773136 -79.239476"
      ]
     },
     "execution_count": 5,
     "metadata": {},
     "output_type": "execute_result"
    }
   ],
   "source": [
    "cor_df = pd.read_csv(\"Geospatial_Coordinates.csv\")\n",
    "cor_df.columns = ['PostalCode', 'Latitude', 'Longitude']\n",
    "cor_df.head()"
   ]
  },
  {
   "cell_type": "markdown",
   "metadata": {},
   "source": [
    "We need to make sure that the datatypes of Latitude and Longitude are float. So I merged the imported csv file with my final dataframe on PostalCode i.e. merge the 2 dataframes in such a way that Postal code remains the same and the Latitude and Longitude for that PostalCode anr in corresponding cells."
   ]
  },
  {
   "cell_type": "code",
   "execution_count": 6,
   "metadata": {},
   "outputs": [
    {
     "data": {
      "text/html": [
       "<div>\n",
       "<style scoped>\n",
       "    .dataframe tbody tr th:only-of-type {\n",
       "        vertical-align: middle;\n",
       "    }\n",
       "\n",
       "    .dataframe tbody tr th {\n",
       "        vertical-align: top;\n",
       "    }\n",
       "\n",
       "    .dataframe thead th {\n",
       "        text-align: right;\n",
       "    }\n",
       "</style>\n",
       "<table border=\"1\" class=\"dataframe\">\n",
       "  <thead>\n",
       "    <tr style=\"text-align: right;\">\n",
       "      <th></th>\n",
       "      <th>PostalCode</th>\n",
       "      <th>Borough</th>\n",
       "      <th>Neighborhood</th>\n",
       "      <th>Latitude</th>\n",
       "      <th>Longitude</th>\n",
       "    </tr>\n",
       "  </thead>\n",
       "  <tbody>\n",
       "    <tr>\n",
       "      <th>0</th>\n",
       "      <td>M3A</td>\n",
       "      <td>North York</td>\n",
       "      <td>Parkwoods</td>\n",
       "      <td>43.753259</td>\n",
       "      <td>-79.329656</td>\n",
       "    </tr>\n",
       "    <tr>\n",
       "      <th>1</th>\n",
       "      <td>M4A</td>\n",
       "      <td>North York</td>\n",
       "      <td>Victoria Village</td>\n",
       "      <td>43.725882</td>\n",
       "      <td>-79.315572</td>\n",
       "    </tr>\n",
       "    <tr>\n",
       "      <th>2</th>\n",
       "      <td>M5A</td>\n",
       "      <td>Downtown Toronto</td>\n",
       "      <td>Regent Park, Harbourfront</td>\n",
       "      <td>43.654260</td>\n",
       "      <td>-79.360636</td>\n",
       "    </tr>\n",
       "    <tr>\n",
       "      <th>3</th>\n",
       "      <td>M6A</td>\n",
       "      <td>North York</td>\n",
       "      <td>Lawrence Manor, Lawrence Heights</td>\n",
       "      <td>43.718518</td>\n",
       "      <td>-79.464763</td>\n",
       "    </tr>\n",
       "    <tr>\n",
       "      <th>4</th>\n",
       "      <td>M7A</td>\n",
       "      <td>Downtown Toronto</td>\n",
       "      <td>Queen's Park, Ontario Provincial Government</td>\n",
       "      <td>43.662301</td>\n",
       "      <td>-79.389494</td>\n",
       "    </tr>\n",
       "  </tbody>\n",
       "</table>\n",
       "</div>"
      ],
      "text/plain": [
       "  PostalCode           Borough                                 Neighborhood  \\\n",
       "0        M3A        North York                                    Parkwoods   \n",
       "1        M4A        North York                             Victoria Village   \n",
       "2        M5A  Downtown Toronto                    Regent Park, Harbourfront   \n",
       "3        M6A        North York             Lawrence Manor, Lawrence Heights   \n",
       "4        M7A  Downtown Toronto  Queen's Park, Ontario Provincial Government   \n",
       "\n",
       "    Latitude  Longitude  \n",
       "0  43.753259 -79.329656  \n",
       "1  43.725882 -79.315572  \n",
       "2  43.654260 -79.360636  \n",
       "3  43.718518 -79.464763  \n",
       "4  43.662301 -79.389494  "
      ]
     },
     "execution_count": 6,
     "metadata": {},
     "output_type": "execute_result"
    }
   ],
   "source": [
    "final_df = pd.merge(table_df, cor_df, on=['PostalCode'])\n",
    "final_df[['Latitude', 'Longitude']] = final_df[['Latitude', 'Longitude']].astype(float)\n",
    "final_df.head()"
   ]
  },
  {
   "cell_type": "markdown",
   "metadata": {},
   "source": [
    "Let's get the geograpical coordinate of Toronto City."
   ]
  },
  {
   "cell_type": "code",
   "execution_count": 7,
   "metadata": {},
   "outputs": [
    {
     "name": "stdout",
     "output_type": "stream",
     "text": [
      "The geograpical coordinate of Toronto City are 43.6534817, -79.3839347.\n"
     ]
    }
   ],
   "source": [
    "address = 'Toronto, ON'\n",
    "\n",
    "geolocator = Nominatim(user_agent=\"http\")\n",
    "location = geolocator.geocode(address)\n",
    "latitude = location.latitude\n",
    "longitude = location.longitude\n",
    "print('The geograpical coordinate of Toronto City are {}, {}.'.format(latitude, longitude))"
   ]
  },
  {
   "cell_type": "markdown",
   "metadata": {},
   "source": [
    "Now let's create a map of Toronto displaying our data."
   ]
  },
  {
   "cell_type": "code",
   "execution_count": 9,
   "metadata": {},
   "outputs": [
    {
     "data": {
      "text/html": [
       "<div style=\"width:100%;\"><div style=\"position:relative;width:100%;height:0;padding-bottom:60%;\"><span style=\"color:#565656\">Make this Notebook Trusted to load map: File -> Trust Notebook</span><iframe src=\"about:blank\" style=\"position:absolute;width:100%;height:100%;left:0;top:0;border:none !important;\" data-html=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 onload=\"this.contentDocument.open();this.contentDocument.write(atob(this.getAttribute('data-html')));this.contentDocument.close();\" allowfullscreen webkitallowfullscreen mozallowfullscreen></iframe></div></div>"
      ],
      "text/plain": [
       "<folium.folium.Map at 0x160f1c0f248>"
      ]
     },
     "execution_count": 9,
     "metadata": {},
     "output_type": "execute_result"
    }
   ],
   "source": [
    "# create map of Toronto using latitude and longitude values\n",
    "map_toronto = folium.Map(location=[latitude, longitude], zoom_start=10)\n",
    "\n",
    "# add markers to map\n",
    "for lat, lng, borough, neighborhood in zip(final_df['Latitude'],\n",
    "                                           final_df['Longitude'],\n",
    "                                           final_df['Borough'],\n",
    "                                           final_df['Neighborhood']):\n",
    "    label = '{}, {}'.format(neighborhood, borough)\n",
    "    label = folium.Popup(label, parse_html=True)\n",
    "    folium.CircleMarker(\n",
    "        [lat, lng],\n",
    "        radius=5,\n",
    "        popup=label,\n",
    "        color='blue',\n",
    "        fill=True,\n",
    "        fill_color='#3186cc',\n",
    "        fill_opacity=0.7,\n",
    "        parse_html=False).add_to(map_toronto)  \n",
    "    \n",
    "map_toronto"
   ]
  },
  {
   "cell_type": "markdown",
   "metadata": {},
   "source": [
    "I am working with only boroughs that contain the word Toronto. So I created a new dataframe which has this data by filtering data10"
   ]
  },
  {
   "cell_type": "code",
   "execution_count": 10,
   "metadata": {},
   "outputs": [
    {
     "data": {
      "text/html": [
       "<div>\n",
       "<style scoped>\n",
       "    .dataframe tbody tr th:only-of-type {\n",
       "        vertical-align: middle;\n",
       "    }\n",
       "\n",
       "    .dataframe tbody tr th {\n",
       "        vertical-align: top;\n",
       "    }\n",
       "\n",
       "    .dataframe thead th {\n",
       "        text-align: right;\n",
       "    }\n",
       "</style>\n",
       "<table border=\"1\" class=\"dataframe\">\n",
       "  <thead>\n",
       "    <tr style=\"text-align: right;\">\n",
       "      <th></th>\n",
       "      <th>PostalCode</th>\n",
       "      <th>Borough</th>\n",
       "      <th>Neighborhood</th>\n",
       "      <th>Latitude</th>\n",
       "      <th>Longitude</th>\n",
       "    </tr>\n",
       "  </thead>\n",
       "  <tbody>\n",
       "    <tr>\n",
       "      <th>0</th>\n",
       "      <td>M5A</td>\n",
       "      <td>Downtown Toronto</td>\n",
       "      <td>Regent Park, Harbourfront</td>\n",
       "      <td>43.654260</td>\n",
       "      <td>-79.360636</td>\n",
       "    </tr>\n",
       "    <tr>\n",
       "      <th>1</th>\n",
       "      <td>M7A</td>\n",
       "      <td>Downtown Toronto</td>\n",
       "      <td>Queen's Park, Ontario Provincial Government</td>\n",
       "      <td>43.662301</td>\n",
       "      <td>-79.389494</td>\n",
       "    </tr>\n",
       "    <tr>\n",
       "      <th>2</th>\n",
       "      <td>M5B</td>\n",
       "      <td>Downtown Toronto</td>\n",
       "      <td>Garden District, Ryerson</td>\n",
       "      <td>43.657162</td>\n",
       "      <td>-79.378937</td>\n",
       "    </tr>\n",
       "    <tr>\n",
       "      <th>3</th>\n",
       "      <td>M5C</td>\n",
       "      <td>Downtown Toronto</td>\n",
       "      <td>St. James Town</td>\n",
       "      <td>43.651494</td>\n",
       "      <td>-79.375418</td>\n",
       "    </tr>\n",
       "    <tr>\n",
       "      <th>4</th>\n",
       "      <td>M4E</td>\n",
       "      <td>East Toronto</td>\n",
       "      <td>The Beaches</td>\n",
       "      <td>43.676357</td>\n",
       "      <td>-79.293031</td>\n",
       "    </tr>\n",
       "  </tbody>\n",
       "</table>\n",
       "</div>"
      ],
      "text/plain": [
       "  PostalCode           Borough                                 Neighborhood  \\\n",
       "0        M5A  Downtown Toronto                    Regent Park, Harbourfront   \n",
       "1        M7A  Downtown Toronto  Queen's Park, Ontario Provincial Government   \n",
       "2        M5B  Downtown Toronto                     Garden District, Ryerson   \n",
       "3        M5C  Downtown Toronto                               St. James Town   \n",
       "4        M4E      East Toronto                                  The Beaches   \n",
       "\n",
       "    Latitude  Longitude  \n",
       "0  43.654260 -79.360636  \n",
       "1  43.662301 -79.389494  \n",
       "2  43.657162 -79.378937  \n",
       "3  43.651494 -79.375418  \n",
       "4  43.676357 -79.293031  "
      ]
     },
     "execution_count": 10,
     "metadata": {},
     "output_type": "execute_result"
    }
   ],
   "source": [
    "toronto_df = final_df[final_df['Borough'].str.contains('Toronto')].reset_index(drop=True)\n",
    "toronto_df.head()"
   ]
  },
  {
   "cell_type": "code",
   "execution_count": 11,
   "metadata": {
    "scrolled": true
   },
   "outputs": [],
   "source": [
    "# @hidden_cell\n",
    "from config import CLIENT_ID, CLIENT_SECRET\n",
    "VERSION = '20180604'\n",
    "LIMIT = 500"
   ]
  },
  {
   "cell_type": "markdown",
   "metadata": {},
   "source": [
    "#### Let's explore the first neighborhood in our dataframe.\n",
    "\n",
    "Get the neighborhood's name."
   ]
  },
  {
   "cell_type": "code",
   "execution_count": 12,
   "metadata": {},
   "outputs": [
    {
     "data": {
      "text/plain": [
       "'Regent Park, Harbourfront'"
      ]
     },
     "execution_count": 12,
     "metadata": {},
     "output_type": "execute_result"
    }
   ],
   "source": [
    "toronto_df.loc[0, 'Neighborhood']"
   ]
  },
  {
   "cell_type": "markdown",
   "metadata": {},
   "source": [
    "Get the neighborhood's latitude and longitude values."
   ]
  },
  {
   "cell_type": "code",
   "execution_count": 13,
   "metadata": {},
   "outputs": [
    {
     "name": "stdout",
     "output_type": "stream",
     "text": [
      "Latitude and longitude values of Regent Park, Harbourfront are 43.6542599, -79.3606359.\n"
     ]
    }
   ],
   "source": [
    "neighborhood_latitude = toronto_df.loc[0, 'Latitude'] # neighborhood latitude value\n",
    "neighborhood_longitude = toronto_df.loc[0, 'Longitude'] # neighborhood longitude value\n",
    "\n",
    "neighborhood_name = toronto_df.loc[0, 'Neighborhood'] # neighborhood name\n",
    "\n",
    "print('Latitude and longitude values of {} are {}, {}.'.format(neighborhood_name, \n",
    "                                                               neighborhood_latitude, \n",
    "                                                               neighborhood_longitude))"
   ]
  },
  {
   "cell_type": "markdown",
   "metadata": {},
   "source": [
    "#### Now, let's get the top 100 venues that are in The Beaches within a radius of 500 meters.\n",
    "\n",
    "First, let's create the GET request URL."
   ]
  },
  {
   "cell_type": "code",
   "execution_count": 14,
   "metadata": {},
   "outputs": [],
   "source": [
    "LIMIT = 500\n",
    "radius = 1000\n",
    "\n",
    "url_4s = 'https://api.foursquare.com/v2/venues/explore?&client_id={}&client_secret={}&v={}&ll={},{}&radius={}&limit={}'.format(\n",
    "    CLIENT_ID, \n",
    "    CLIENT_SECRET, \n",
    "    VERSION, \n",
    "    neighborhood_latitude, \n",
    "    neighborhood_longitude, \n",
    "    radius, \n",
    "    LIMIT)"
   ]
  },
  {
   "cell_type": "markdown",
   "metadata": {},
   "source": [
    "Send the GET request.\n",
    "Let's borrow the get_category_type function from the Foursquare lab and clean the json and structure it into a pandas dataframe."
   ]
  },
  {
   "cell_type": "code",
   "execution_count": 15,
   "metadata": {},
   "outputs": [
    {
     "name": "stderr",
     "output_type": "stream",
     "text": [
      "C:\\ProgramData\\Anaconda3\\lib\\site-packages\\ipykernel_launcher.py:16: FutureWarning: pandas.io.json.json_normalize is deprecated, use pandas.json_normalize instead\n",
      "  app.launch_new_instance()\n"
     ]
    },
    {
     "data": {
      "text/html": [
       "<div>\n",
       "<style scoped>\n",
       "    .dataframe tbody tr th:only-of-type {\n",
       "        vertical-align: middle;\n",
       "    }\n",
       "\n",
       "    .dataframe tbody tr th {\n",
       "        vertical-align: top;\n",
       "    }\n",
       "\n",
       "    .dataframe thead th {\n",
       "        text-align: right;\n",
       "    }\n",
       "</style>\n",
       "<table border=\"1\" class=\"dataframe\">\n",
       "  <thead>\n",
       "    <tr style=\"text-align: right;\">\n",
       "      <th></th>\n",
       "      <th>name</th>\n",
       "      <th>categories</th>\n",
       "      <th>lat</th>\n",
       "      <th>lng</th>\n",
       "    </tr>\n",
       "  </thead>\n",
       "  <tbody>\n",
       "    <tr>\n",
       "      <th>0</th>\n",
       "      <td>Roselle Desserts</td>\n",
       "      <td>Bakery</td>\n",
       "      <td>43.653447</td>\n",
       "      <td>-79.362017</td>\n",
       "    </tr>\n",
       "    <tr>\n",
       "      <th>1</th>\n",
       "      <td>Tandem Coffee</td>\n",
       "      <td>Coffee Shop</td>\n",
       "      <td>43.653559</td>\n",
       "      <td>-79.361809</td>\n",
       "    </tr>\n",
       "    <tr>\n",
       "      <th>2</th>\n",
       "      <td>Cooper Koo Family YMCA</td>\n",
       "      <td>Distribution Center</td>\n",
       "      <td>43.653249</td>\n",
       "      <td>-79.358008</td>\n",
       "    </tr>\n",
       "    <tr>\n",
       "      <th>3</th>\n",
       "      <td>Impact Kitchen</td>\n",
       "      <td>Restaurant</td>\n",
       "      <td>43.656369</td>\n",
       "      <td>-79.356980</td>\n",
       "    </tr>\n",
       "    <tr>\n",
       "      <th>4</th>\n",
       "      <td>The Distillery Historic District</td>\n",
       "      <td>Historic Site</td>\n",
       "      <td>43.650244</td>\n",
       "      <td>-79.359323</td>\n",
       "    </tr>\n",
       "  </tbody>\n",
       "</table>\n",
       "</div>"
      ],
      "text/plain": [
       "                               name           categories        lat        lng\n",
       "0                  Roselle Desserts               Bakery  43.653447 -79.362017\n",
       "1                     Tandem Coffee          Coffee Shop  43.653559 -79.361809\n",
       "2            Cooper Koo Family YMCA  Distribution Center  43.653249 -79.358008\n",
       "3                    Impact Kitchen           Restaurant  43.656369 -79.356980\n",
       "4  The Distillery Historic District        Historic Site  43.650244 -79.359323"
      ]
     },
     "execution_count": 15,
     "metadata": {},
     "output_type": "execute_result"
    }
   ],
   "source": [
    "results = requests.get(url_4s).json()\n",
    "\n",
    "# function that extracts the category of the venue\n",
    "def get_category_type(row):\n",
    "    try:\n",
    "        categories_list = row['categories']\n",
    "    except:\n",
    "        categories_list = row['venue.categories']\n",
    "        \n",
    "    if len(categories_list) == 0:\n",
    "        return None\n",
    "    else:\n",
    "        return categories_list[0]['name']\n",
    "    \n",
    "venues = results['response']['groups'][0]['items']\n",
    "nearby_venues = json_normalize(venues) # flatten JSON\n",
    "# filter columns\n",
    "filtered_columns = ['venue.name',\n",
    "                    'venue.categories',\n",
    "                    'venue.location.lat',\n",
    "                    'venue.location.lng']\n",
    "nearby_venues =nearby_venues.loc[:, filtered_columns]\n",
    "# filter the category for each row\n",
    "nearby_venues['venue.categories'] = nearby_venues.apply(get_category_type, axis=1)\n",
    "# clean columns\n",
    "nearby_venues.columns = [col.split(\".\")[-1] for col in nearby_venues.columns]\n",
    "nearby_venues.head()"
   ]
  },
  {
   "cell_type": "code",
   "execution_count": 16,
   "metadata": {},
   "outputs": [
    {
     "name": "stdout",
     "output_type": "stream",
     "text": [
      "100 venues were returned by Foursquare.\n"
     ]
    }
   ],
   "source": [
    "print('{} venues were returned by Foursquare.'.format(nearby_venues.shape[0]))"
   ]
  },
  {
   "cell_type": "markdown",
   "metadata": {},
   "source": [
    "#### Let's create a function to repeat the same process to all the neighborhoods in Toronto"
   ]
  },
  {
   "cell_type": "code",
   "execution_count": 17,
   "metadata": {},
   "outputs": [],
   "source": [
    "def getNearbyVenues(names, latitudes, longitudes, radius=500):\n",
    "    \n",
    "    venues_list=[]\n",
    "    for name, lat, lng in zip(names, latitudes, longitudes):\n",
    "        print(name)\n",
    "\n",
    "        url_4s1 = 'https://api.foursquare.com/v2/venues/explore?&client_id={}&client_secret={}&v={}&ll={},{}&radius={}&limit={}'.format(\n",
    "            CLIENT_ID, \n",
    "            CLIENT_SECRET, \n",
    "            VERSION, \n",
    "            lat, \n",
    "            lng, \n",
    "            radius, \n",
    "            LIMIT)\n",
    "\n",
    "        results = requests.get(url_4s1).json()[\"response\"]['groups'][0]['items']\n",
    "\n",
    "        venues_list.append([(\n",
    "            name, \n",
    "            lat, \n",
    "            lng, \n",
    "            v['venue']['name'], \n",
    "            v['venue']['location']['lat'], \n",
    "            v['venue']['location']['lng'],  \n",
    "            v['venue']['categories'][0]['name']) for v in results])\n",
    "\n",
    "    nearby_venues = pd.DataFrame([item for venue_list in venues_list for item in venue_list])\n",
    "    nearby_venues.columns = ['Neighborhood', \n",
    "                  'Neighborhood Latitude', \n",
    "                  'Neighborhood Longitude', \n",
    "                  'Venue', \n",
    "                  'Venue Latitude', \n",
    "                  'Venue Longitude', \n",
    "                  'Venue Category']\n",
    "    \n",
    "    return(nearby_venues)"
   ]
  },
  {
   "cell_type": "markdown",
   "metadata": {},
   "source": [
    "#### Now we write the code to run the above function on each neighborhood and create a new dataframe called toronto_venues."
   ]
  },
  {
   "cell_type": "code",
   "execution_count": 19,
   "metadata": {},
   "outputs": [
    {
     "name": "stdout",
     "output_type": "stream",
     "text": [
      "Regent Park, Harbourfront\n",
      "Queen's Park, Ontario Provincial Government\n",
      "Garden District, Ryerson\n",
      "St. James Town\n",
      "The Beaches\n",
      "Berczy Park\n",
      "Central Bay Street\n",
      "Christie\n",
      "Richmond, Adelaide, King\n",
      "Dufferin, Dovercourt Village\n",
      "Harbourfront East, Union Station, Toronto Islands\n",
      "Little Portugal, Trinity\n",
      "The Danforth West, Riverdale\n",
      "Toronto Dominion Centre, Design Exchange\n",
      "Brockton, Parkdale Village, Exhibition Place\n",
      "India Bazaar, The Beaches West\n",
      "Commerce Court, Victoria Hotel\n",
      "Studio District\n",
      "Lawrence Park\n",
      "Roselawn\n",
      "Davisville North\n",
      "Forest Hill North & West, Forest Hill Road Park\n",
      "High Park, The Junction South\n",
      "North Toronto West, Lawrence Park\n",
      "The Annex, North Midtown, Yorkville\n",
      "Parkdale, Roncesvalles\n",
      "Davisville\n",
      "University of Toronto, Harbord\n",
      "Runnymede, Swansea\n",
      "Moore Park, Summerhill East\n",
      "Kensington Market, Chinatown, Grange Park\n",
      "Summerhill West, Rathnelly, South Hill, Forest Hill SE, Deer Park\n",
      "CN Tower, King and Spadina, Railway Lands, Harbourfront West, Bathurst Quay, South Niagara, Island airport\n",
      "Rosedale\n",
      "Stn A PO Boxes\n",
      "St. James Town, Cabbagetown\n",
      "First Canadian Place, Underground city\n",
      "Church and Wellesley\n",
      "Business reply mail Processing Centre, South Central Letter Processing Plant Toronto\n"
     ]
    }
   ],
   "source": [
    "toronto_venues = getNearbyVenues(names=toronto_df['Neighborhood'],\n",
    "                                   latitudes=toronto_df['Latitude'],\n",
    "                                   longitudes=toronto_df['Longitude']\n",
    "                                  )"
   ]
  },
  {
   "cell_type": "markdown",
   "metadata": {},
   "source": [
    "#### Let's check the size of the resulting dataframe"
   ]
  },
  {
   "cell_type": "code",
   "execution_count": 20,
   "metadata": {},
   "outputs": [
    {
     "name": "stdout",
     "output_type": "stream",
     "text": [
      "(1647, 7)\n"
     ]
    },
    {
     "data": {
      "text/html": [
       "<div>\n",
       "<style scoped>\n",
       "    .dataframe tbody tr th:only-of-type {\n",
       "        vertical-align: middle;\n",
       "    }\n",
       "\n",
       "    .dataframe tbody tr th {\n",
       "        vertical-align: top;\n",
       "    }\n",
       "\n",
       "    .dataframe thead th {\n",
       "        text-align: right;\n",
       "    }\n",
       "</style>\n",
       "<table border=\"1\" class=\"dataframe\">\n",
       "  <thead>\n",
       "    <tr style=\"text-align: right;\">\n",
       "      <th></th>\n",
       "      <th>Neighborhood</th>\n",
       "      <th>Neighborhood Latitude</th>\n",
       "      <th>Neighborhood Longitude</th>\n",
       "      <th>Venue</th>\n",
       "      <th>Venue Latitude</th>\n",
       "      <th>Venue Longitude</th>\n",
       "      <th>Venue Category</th>\n",
       "    </tr>\n",
       "  </thead>\n",
       "  <tbody>\n",
       "    <tr>\n",
       "      <th>0</th>\n",
       "      <td>Regent Park, Harbourfront</td>\n",
       "      <td>43.65426</td>\n",
       "      <td>-79.360636</td>\n",
       "      <td>Roselle Desserts</td>\n",
       "      <td>43.653447</td>\n",
       "      <td>-79.362017</td>\n",
       "      <td>Bakery</td>\n",
       "    </tr>\n",
       "    <tr>\n",
       "      <th>1</th>\n",
       "      <td>Regent Park, Harbourfront</td>\n",
       "      <td>43.65426</td>\n",
       "      <td>-79.360636</td>\n",
       "      <td>Tandem Coffee</td>\n",
       "      <td>43.653559</td>\n",
       "      <td>-79.361809</td>\n",
       "      <td>Coffee Shop</td>\n",
       "    </tr>\n",
       "    <tr>\n",
       "      <th>2</th>\n",
       "      <td>Regent Park, Harbourfront</td>\n",
       "      <td>43.65426</td>\n",
       "      <td>-79.360636</td>\n",
       "      <td>Cooper Koo Family YMCA</td>\n",
       "      <td>43.653249</td>\n",
       "      <td>-79.358008</td>\n",
       "      <td>Distribution Center</td>\n",
       "    </tr>\n",
       "    <tr>\n",
       "      <th>3</th>\n",
       "      <td>Regent Park, Harbourfront</td>\n",
       "      <td>43.65426</td>\n",
       "      <td>-79.360636</td>\n",
       "      <td>Impact Kitchen</td>\n",
       "      <td>43.656369</td>\n",
       "      <td>-79.356980</td>\n",
       "      <td>Restaurant</td>\n",
       "    </tr>\n",
       "    <tr>\n",
       "      <th>4</th>\n",
       "      <td>Regent Park, Harbourfront</td>\n",
       "      <td>43.65426</td>\n",
       "      <td>-79.360636</td>\n",
       "      <td>Body Blitz Spa East</td>\n",
       "      <td>43.654735</td>\n",
       "      <td>-79.359874</td>\n",
       "      <td>Spa</td>\n",
       "    </tr>\n",
       "  </tbody>\n",
       "</table>\n",
       "</div>"
      ],
      "text/plain": [
       "                Neighborhood  Neighborhood Latitude  Neighborhood Longitude  \\\n",
       "0  Regent Park, Harbourfront               43.65426              -79.360636   \n",
       "1  Regent Park, Harbourfront               43.65426              -79.360636   \n",
       "2  Regent Park, Harbourfront               43.65426              -79.360636   \n",
       "3  Regent Park, Harbourfront               43.65426              -79.360636   \n",
       "4  Regent Park, Harbourfront               43.65426              -79.360636   \n",
       "\n",
       "                    Venue  Venue Latitude  Venue Longitude  \\\n",
       "0        Roselle Desserts       43.653447       -79.362017   \n",
       "1           Tandem Coffee       43.653559       -79.361809   \n",
       "2  Cooper Koo Family YMCA       43.653249       -79.358008   \n",
       "3          Impact Kitchen       43.656369       -79.356980   \n",
       "4     Body Blitz Spa East       43.654735       -79.359874   \n",
       "\n",
       "        Venue Category  \n",
       "0               Bakery  \n",
       "1          Coffee Shop  \n",
       "2  Distribution Center  \n",
       "3           Restaurant  \n",
       "4                  Spa  "
      ]
     },
     "execution_count": 20,
     "metadata": {},
     "output_type": "execute_result"
    }
   ],
   "source": [
    "print(toronto_venues.shape)\n",
    "toronto_venues.head()"
   ]
  },
  {
   "cell_type": "markdown",
   "metadata": {},
   "source": [
    "#### Let's check how many venues were returned for each neighborhood and find out how many unique categories can be curated from all the returned venues"
   ]
  },
  {
   "cell_type": "code",
   "execution_count": 21,
   "metadata": {},
   "outputs": [
    {
     "name": "stdout",
     "output_type": "stream",
     "text": [
      "There are 235 uniques categories.\n"
     ]
    }
   ],
   "source": [
    "toronto_venues.groupby('Neighborhood').count()\n",
    "print('There are {} uniques categories.'.format(len(toronto_venues['Venue Category'].unique())))"
   ]
  },
  {
   "cell_type": "markdown",
   "metadata": {},
   "source": [
    "### Now let's analyze each neighborhood"
   ]
  },
  {
   "cell_type": "code",
   "execution_count": 22,
   "metadata": {},
   "outputs": [
    {
     "data": {
      "text/html": [
       "<div>\n",
       "<style scoped>\n",
       "    .dataframe tbody tr th:only-of-type {\n",
       "        vertical-align: middle;\n",
       "    }\n",
       "\n",
       "    .dataframe tbody tr th {\n",
       "        vertical-align: top;\n",
       "    }\n",
       "\n",
       "    .dataframe thead th {\n",
       "        text-align: right;\n",
       "    }\n",
       "</style>\n",
       "<table border=\"1\" class=\"dataframe\">\n",
       "  <thead>\n",
       "    <tr style=\"text-align: right;\">\n",
       "      <th></th>\n",
       "      <th>Yoga Studio</th>\n",
       "      <th>Afghan Restaurant</th>\n",
       "      <th>Airport</th>\n",
       "      <th>Airport Food Court</th>\n",
       "      <th>Airport Gate</th>\n",
       "      <th>Airport Lounge</th>\n",
       "      <th>Airport Service</th>\n",
       "      <th>Airport Terminal</th>\n",
       "      <th>American Restaurant</th>\n",
       "      <th>Antique Shop</th>\n",
       "      <th>...</th>\n",
       "      <th>Theme Restaurant</th>\n",
       "      <th>Toy / Game Store</th>\n",
       "      <th>Trail</th>\n",
       "      <th>Train Station</th>\n",
       "      <th>Vegetarian / Vegan Restaurant</th>\n",
       "      <th>Video Game Store</th>\n",
       "      <th>Vietnamese Restaurant</th>\n",
       "      <th>Wine Bar</th>\n",
       "      <th>Wine Shop</th>\n",
       "      <th>Women's Store</th>\n",
       "    </tr>\n",
       "  </thead>\n",
       "  <tbody>\n",
       "    <tr>\n",
       "      <th>0</th>\n",
       "      <td>0</td>\n",
       "      <td>0</td>\n",
       "      <td>0</td>\n",
       "      <td>0</td>\n",
       "      <td>0</td>\n",
       "      <td>0</td>\n",
       "      <td>0</td>\n",
       "      <td>0</td>\n",
       "      <td>0</td>\n",
       "      <td>0</td>\n",
       "      <td>...</td>\n",
       "      <td>0</td>\n",
       "      <td>0</td>\n",
       "      <td>0</td>\n",
       "      <td>0</td>\n",
       "      <td>0</td>\n",
       "      <td>0</td>\n",
       "      <td>0</td>\n",
       "      <td>0</td>\n",
       "      <td>0</td>\n",
       "      <td>0</td>\n",
       "    </tr>\n",
       "    <tr>\n",
       "      <th>1</th>\n",
       "      <td>0</td>\n",
       "      <td>0</td>\n",
       "      <td>0</td>\n",
       "      <td>0</td>\n",
       "      <td>0</td>\n",
       "      <td>0</td>\n",
       "      <td>0</td>\n",
       "      <td>0</td>\n",
       "      <td>0</td>\n",
       "      <td>0</td>\n",
       "      <td>...</td>\n",
       "      <td>0</td>\n",
       "      <td>0</td>\n",
       "      <td>0</td>\n",
       "      <td>0</td>\n",
       "      <td>0</td>\n",
       "      <td>0</td>\n",
       "      <td>0</td>\n",
       "      <td>0</td>\n",
       "      <td>0</td>\n",
       "      <td>0</td>\n",
       "    </tr>\n",
       "    <tr>\n",
       "      <th>2</th>\n",
       "      <td>0</td>\n",
       "      <td>0</td>\n",
       "      <td>0</td>\n",
       "      <td>0</td>\n",
       "      <td>0</td>\n",
       "      <td>0</td>\n",
       "      <td>0</td>\n",
       "      <td>0</td>\n",
       "      <td>0</td>\n",
       "      <td>0</td>\n",
       "      <td>...</td>\n",
       "      <td>0</td>\n",
       "      <td>0</td>\n",
       "      <td>0</td>\n",
       "      <td>0</td>\n",
       "      <td>0</td>\n",
       "      <td>0</td>\n",
       "      <td>0</td>\n",
       "      <td>0</td>\n",
       "      <td>0</td>\n",
       "      <td>0</td>\n",
       "    </tr>\n",
       "    <tr>\n",
       "      <th>3</th>\n",
       "      <td>0</td>\n",
       "      <td>0</td>\n",
       "      <td>0</td>\n",
       "      <td>0</td>\n",
       "      <td>0</td>\n",
       "      <td>0</td>\n",
       "      <td>0</td>\n",
       "      <td>0</td>\n",
       "      <td>0</td>\n",
       "      <td>0</td>\n",
       "      <td>...</td>\n",
       "      <td>0</td>\n",
       "      <td>0</td>\n",
       "      <td>0</td>\n",
       "      <td>0</td>\n",
       "      <td>0</td>\n",
       "      <td>0</td>\n",
       "      <td>0</td>\n",
       "      <td>0</td>\n",
       "      <td>0</td>\n",
       "      <td>0</td>\n",
       "    </tr>\n",
       "    <tr>\n",
       "      <th>4</th>\n",
       "      <td>0</td>\n",
       "      <td>0</td>\n",
       "      <td>0</td>\n",
       "      <td>0</td>\n",
       "      <td>0</td>\n",
       "      <td>0</td>\n",
       "      <td>0</td>\n",
       "      <td>0</td>\n",
       "      <td>0</td>\n",
       "      <td>0</td>\n",
       "      <td>...</td>\n",
       "      <td>0</td>\n",
       "      <td>0</td>\n",
       "      <td>0</td>\n",
       "      <td>0</td>\n",
       "      <td>0</td>\n",
       "      <td>0</td>\n",
       "      <td>0</td>\n",
       "      <td>0</td>\n",
       "      <td>0</td>\n",
       "      <td>0</td>\n",
       "    </tr>\n",
       "  </tbody>\n",
       "</table>\n",
       "<p>5 rows × 235 columns</p>\n",
       "</div>"
      ],
      "text/plain": [
       "   Yoga Studio  Afghan Restaurant  Airport  Airport Food Court  Airport Gate  \\\n",
       "0            0                  0        0                   0             0   \n",
       "1            0                  0        0                   0             0   \n",
       "2            0                  0        0                   0             0   \n",
       "3            0                  0        0                   0             0   \n",
       "4            0                  0        0                   0             0   \n",
       "\n",
       "   Airport Lounge  Airport Service  Airport Terminal  American Restaurant  \\\n",
       "0               0                0                 0                    0   \n",
       "1               0                0                 0                    0   \n",
       "2               0                0                 0                    0   \n",
       "3               0                0                 0                    0   \n",
       "4               0                0                 0                    0   \n",
       "\n",
       "   Antique Shop  ...  Theme Restaurant  Toy / Game Store  Trail  \\\n",
       "0             0  ...                 0                 0      0   \n",
       "1             0  ...                 0                 0      0   \n",
       "2             0  ...                 0                 0      0   \n",
       "3             0  ...                 0                 0      0   \n",
       "4             0  ...                 0                 0      0   \n",
       "\n",
       "   Train Station  Vegetarian / Vegan Restaurant  Video Game Store  \\\n",
       "0              0                              0                 0   \n",
       "1              0                              0                 0   \n",
       "2              0                              0                 0   \n",
       "3              0                              0                 0   \n",
       "4              0                              0                 0   \n",
       "\n",
       "   Vietnamese Restaurant  Wine Bar  Wine Shop  Women's Store  \n",
       "0                      0         0          0              0  \n",
       "1                      0         0          0              0  \n",
       "2                      0         0          0              0  \n",
       "3                      0         0          0              0  \n",
       "4                      0         0          0              0  \n",
       "\n",
       "[5 rows x 235 columns]"
      ]
     },
     "execution_count": 22,
     "metadata": {},
     "output_type": "execute_result"
    }
   ],
   "source": [
    "# one hot encoding\n",
    "toronto_onehot = pd.get_dummies(toronto_venues[['Venue Category']], prefix=\"\", prefix_sep=\"\")\n",
    "\n",
    "# add neighborhood column back to dataframe\n",
    "toronto_onehot['Neighborhood'] = toronto_venues['Neighborhood'] \n",
    "\n",
    "# move neighborhood column to the first column\n",
    "fixed_columns = [toronto_onehot.columns[-1]] + list(toronto_onehot.columns[:-1])\n",
    "toronto_onehot = toronto_onehot[fixed_columns]\n",
    "\n",
    "toronto_onehot.head()"
   ]
  },
  {
   "cell_type": "markdown",
   "metadata": {},
   "source": [
    "#### Next, let's group rows by neighborhood and by taking the mean of the frequency of occurrence of each category and let's print each neighborhood along with the top 5 most common venues"
   ]
  },
  {
   "cell_type": "code",
   "execution_count": 23,
   "metadata": {
    "scrolled": true
   },
   "outputs": [],
   "source": [
    "toronto_grouped = toronto_onehot.groupby('Neighborhood').mean().reset_index()\n",
    "num_top_venues = 5\n",
    "\n",
    "for hood in toronto_grouped['Neighborhood']:\n",
    "    #print(\"----\"+hood+\"----\")\n",
    "    temp = toronto_grouped[toronto_grouped['Neighborhood'] == hood].T.reset_index()\n",
    "    temp.columns = ['venue','freq']\n",
    "    temp = temp.iloc[1:]\n",
    "    temp['freq'] = temp['freq'].astype(float)\n",
    "    temp = temp.round({'freq': 2})\n",
    "    #print(temp.sort_values('freq', ascending=False).reset_index(drop=True).head(num_top_venues))\n",
    "    #print('\\n')"
   ]
  },
  {
   "cell_type": "markdown",
   "metadata": {},
   "source": [
    "#### Let's put that into a pandas dataframe\n",
    "\n",
    "First, let's write a function to sort the venues in descending order."
   ]
  },
  {
   "cell_type": "code",
   "execution_count": 24,
   "metadata": {},
   "outputs": [],
   "source": [
    "def return_most_common_venues(row, num_top_venues):\n",
    "    row_categories = row.iloc[1:]\n",
    "    row_categories_sorted = row_categories.sort_values(ascending=False)\n",
    "    \n",
    "    return row_categories_sorted.index.values[0:num_top_venues]"
   ]
  },
  {
   "cell_type": "markdown",
   "metadata": {},
   "source": [
    "Now let's create the new dataframe and display the top 10 venues for each neighborhood."
   ]
  },
  {
   "cell_type": "code",
   "execution_count": 25,
   "metadata": {},
   "outputs": [
    {
     "data": {
      "text/html": [
       "<div>\n",
       "<style scoped>\n",
       "    .dataframe tbody tr th:only-of-type {\n",
       "        vertical-align: middle;\n",
       "    }\n",
       "\n",
       "    .dataframe tbody tr th {\n",
       "        vertical-align: top;\n",
       "    }\n",
       "\n",
       "    .dataframe thead th {\n",
       "        text-align: right;\n",
       "    }\n",
       "</style>\n",
       "<table border=\"1\" class=\"dataframe\">\n",
       "  <thead>\n",
       "    <tr style=\"text-align: right;\">\n",
       "      <th></th>\n",
       "      <th>Neighborhood</th>\n",
       "      <th>1st Most Common Venue</th>\n",
       "      <th>2nd Most Common Venue</th>\n",
       "      <th>3rd Most Common Venue</th>\n",
       "      <th>4th Most Common Venue</th>\n",
       "      <th>5th Most Common Venue</th>\n",
       "      <th>6th Most Common Venue</th>\n",
       "      <th>7th Most Common Venue</th>\n",
       "      <th>8th Most Common Venue</th>\n",
       "      <th>9th Most Common Venue</th>\n",
       "      <th>10th Most Common Venue</th>\n",
       "    </tr>\n",
       "  </thead>\n",
       "  <tbody>\n",
       "    <tr>\n",
       "      <th>0</th>\n",
       "      <td>Berczy Park</td>\n",
       "      <td>Coffee Shop</td>\n",
       "      <td>Farmers Market</td>\n",
       "      <td>Cheese Shop</td>\n",
       "      <td>Cocktail Bar</td>\n",
       "      <td>Beer Bar</td>\n",
       "      <td>Seafood Restaurant</td>\n",
       "      <td>Bakery</td>\n",
       "      <td>Café</td>\n",
       "      <td>Restaurant</td>\n",
       "      <td>Department Store</td>\n",
       "    </tr>\n",
       "    <tr>\n",
       "      <th>1</th>\n",
       "      <td>Brockton, Parkdale Village, Exhibition Place</td>\n",
       "      <td>Café</td>\n",
       "      <td>Bakery</td>\n",
       "      <td>Performing Arts Venue</td>\n",
       "      <td>Coffee Shop</td>\n",
       "      <td>Breakfast Spot</td>\n",
       "      <td>Stadium</td>\n",
       "      <td>Furniture / Home Store</td>\n",
       "      <td>Climbing Gym</td>\n",
       "      <td>Burrito Place</td>\n",
       "      <td>Italian Restaurant</td>\n",
       "    </tr>\n",
       "    <tr>\n",
       "      <th>2</th>\n",
       "      <td>Business reply mail Processing Centre, South C...</td>\n",
       "      <td>Skate Park</td>\n",
       "      <td>Garden</td>\n",
       "      <td>Fast Food Restaurant</td>\n",
       "      <td>Auto Workshop</td>\n",
       "      <td>Farmers Market</td>\n",
       "      <td>Burrito Place</td>\n",
       "      <td>Spa</td>\n",
       "      <td>Restaurant</td>\n",
       "      <td>Pizza Place</td>\n",
       "      <td>Butcher</td>\n",
       "    </tr>\n",
       "    <tr>\n",
       "      <th>3</th>\n",
       "      <td>CN Tower, King and Spadina, Railway Lands, Har...</td>\n",
       "      <td>Airport Lounge</td>\n",
       "      <td>Airport Service</td>\n",
       "      <td>Airport Terminal</td>\n",
       "      <td>Coffee Shop</td>\n",
       "      <td>Harbor / Marina</td>\n",
       "      <td>Plane</td>\n",
       "      <td>Rental Car Location</td>\n",
       "      <td>Sculpture Garden</td>\n",
       "      <td>Boutique</td>\n",
       "      <td>Bar</td>\n",
       "    </tr>\n",
       "    <tr>\n",
       "      <th>4</th>\n",
       "      <td>Central Bay Street</td>\n",
       "      <td>Coffee Shop</td>\n",
       "      <td>Sandwich Place</td>\n",
       "      <td>Café</td>\n",
       "      <td>Italian Restaurant</td>\n",
       "      <td>Japanese Restaurant</td>\n",
       "      <td>Salad Place</td>\n",
       "      <td>Bubble Tea Shop</td>\n",
       "      <td>Burger Joint</td>\n",
       "      <td>Juice Bar</td>\n",
       "      <td>Department Store</td>\n",
       "    </tr>\n",
       "  </tbody>\n",
       "</table>\n",
       "</div>"
      ],
      "text/plain": [
       "                                        Neighborhood 1st Most Common Venue  \\\n",
       "0                                        Berczy Park           Coffee Shop   \n",
       "1       Brockton, Parkdale Village, Exhibition Place                  Café   \n",
       "2  Business reply mail Processing Centre, South C...            Skate Park   \n",
       "3  CN Tower, King and Spadina, Railway Lands, Har...        Airport Lounge   \n",
       "4                                 Central Bay Street           Coffee Shop   \n",
       "\n",
       "  2nd Most Common Venue  3rd Most Common Venue 4th Most Common Venue  \\\n",
       "0        Farmers Market            Cheese Shop          Cocktail Bar   \n",
       "1                Bakery  Performing Arts Venue           Coffee Shop   \n",
       "2                Garden   Fast Food Restaurant         Auto Workshop   \n",
       "3       Airport Service       Airport Terminal           Coffee Shop   \n",
       "4        Sandwich Place                   Café    Italian Restaurant   \n",
       "\n",
       "  5th Most Common Venue 6th Most Common Venue   7th Most Common Venue  \\\n",
       "0              Beer Bar    Seafood Restaurant                  Bakery   \n",
       "1        Breakfast Spot               Stadium  Furniture / Home Store   \n",
       "2        Farmers Market         Burrito Place                     Spa   \n",
       "3       Harbor / Marina                 Plane     Rental Car Location   \n",
       "4   Japanese Restaurant           Salad Place         Bubble Tea Shop   \n",
       "\n",
       "  8th Most Common Venue 9th Most Common Venue 10th Most Common Venue  \n",
       "0                  Café            Restaurant       Department Store  \n",
       "1          Climbing Gym         Burrito Place     Italian Restaurant  \n",
       "2            Restaurant           Pizza Place                Butcher  \n",
       "3      Sculpture Garden              Boutique                    Bar  \n",
       "4          Burger Joint             Juice Bar       Department Store  "
      ]
     },
     "execution_count": 25,
     "metadata": {},
     "output_type": "execute_result"
    }
   ],
   "source": [
    "num_top_venues = 10\n",
    "\n",
    "indicators = ['st', 'nd', 'rd']\n",
    "\n",
    "# create columns according to number of top venues\n",
    "columns = ['Neighborhood']\n",
    "for ind in np.arange(num_top_venues):\n",
    "    try:\n",
    "        columns.append('{}{} Most Common Venue'.format(ind+1, indicators[ind]))\n",
    "    except:\n",
    "        columns.append('{}th Most Common Venue'.format(ind+1))\n",
    "\n",
    "# create a new dataframe\n",
    "neighborhoods_venues_sorted = pd.DataFrame(columns=columns)\n",
    "neighborhoods_venues_sorted['Neighborhood'] = toronto_grouped['Neighborhood']\n",
    "\n",
    "for ind in np.arange(toronto_grouped.shape[0]):\n",
    "    neighborhoods_venues_sorted.iloc[ind, 1:] = return_most_common_venues(toronto_grouped.iloc[ind, :], num_top_venues)\n",
    "\n",
    "neighborhoods_venues_sorted.head()"
   ]
  },
  {
   "cell_type": "markdown",
   "metadata": {},
   "source": [
    "## Now we cluster our neighborhoods\n",
    "\n",
    "Run k-means to cluster the neighborhood into 5 clusters."
   ]
  },
  {
   "cell_type": "code",
   "execution_count": 26,
   "metadata": {},
   "outputs": [
    {
     "data": {
      "text/plain": [
       "array([0, 0, 0, 0, 0, 0, 0, 0, 0, 0])"
      ]
     },
     "execution_count": 26,
     "metadata": {},
     "output_type": "execute_result"
    }
   ],
   "source": [
    "kclusters = 5\n",
    "\n",
    "toronto_grouped_clustering = toronto_grouped.drop('Neighborhood', 1)\n",
    "\n",
    "kmeans = KMeans(n_clusters=kclusters, random_state=0).fit(toronto_grouped_clustering)\n",
    "\n",
    "kmeans.labels_[0:10]"
   ]
  },
  {
   "cell_type": "markdown",
   "metadata": {},
   "source": [
    "Let's create a new dataframe that includes the cluster as well as the top 10 venues for each neighborhood."
   ]
  },
  {
   "cell_type": "code",
   "execution_count": 28,
   "metadata": {},
   "outputs": [
    {
     "data": {
      "text/html": [
       "<div>\n",
       "<style scoped>\n",
       "    .dataframe tbody tr th:only-of-type {\n",
       "        vertical-align: middle;\n",
       "    }\n",
       "\n",
       "    .dataframe tbody tr th {\n",
       "        vertical-align: top;\n",
       "    }\n",
       "\n",
       "    .dataframe thead th {\n",
       "        text-align: right;\n",
       "    }\n",
       "</style>\n",
       "<table border=\"1\" class=\"dataframe\">\n",
       "  <thead>\n",
       "    <tr style=\"text-align: right;\">\n",
       "      <th></th>\n",
       "      <th>PostalCode</th>\n",
       "      <th>Borough</th>\n",
       "      <th>Neighborhood</th>\n",
       "      <th>Latitude</th>\n",
       "      <th>Longitude</th>\n",
       "      <th>Cluster Labels</th>\n",
       "      <th>1st Most Common Venue</th>\n",
       "      <th>2nd Most Common Venue</th>\n",
       "      <th>3rd Most Common Venue</th>\n",
       "      <th>4th Most Common Venue</th>\n",
       "      <th>5th Most Common Venue</th>\n",
       "      <th>6th Most Common Venue</th>\n",
       "      <th>7th Most Common Venue</th>\n",
       "      <th>8th Most Common Venue</th>\n",
       "      <th>9th Most Common Venue</th>\n",
       "      <th>10th Most Common Venue</th>\n",
       "    </tr>\n",
       "  </thead>\n",
       "  <tbody>\n",
       "    <tr>\n",
       "      <th>0</th>\n",
       "      <td>M5A</td>\n",
       "      <td>Downtown Toronto</td>\n",
       "      <td>Regent Park, Harbourfront</td>\n",
       "      <td>43.654260</td>\n",
       "      <td>-79.360636</td>\n",
       "      <td>0</td>\n",
       "      <td>Coffee Shop</td>\n",
       "      <td>Bakery</td>\n",
       "      <td>Café</td>\n",
       "      <td>Pub</td>\n",
       "      <td>Park</td>\n",
       "      <td>Breakfast Spot</td>\n",
       "      <td>Theater</td>\n",
       "      <td>Yoga Studio</td>\n",
       "      <td>Shoe Store</td>\n",
       "      <td>Brewery</td>\n",
       "    </tr>\n",
       "    <tr>\n",
       "      <th>1</th>\n",
       "      <td>M7A</td>\n",
       "      <td>Downtown Toronto</td>\n",
       "      <td>Queen's Park, Ontario Provincial Government</td>\n",
       "      <td>43.662301</td>\n",
       "      <td>-79.389494</td>\n",
       "      <td>0</td>\n",
       "      <td>Coffee Shop</td>\n",
       "      <td>College Cafeteria</td>\n",
       "      <td>Yoga Studio</td>\n",
       "      <td>Beer Bar</td>\n",
       "      <td>Italian Restaurant</td>\n",
       "      <td>Smoothie Shop</td>\n",
       "      <td>Portuguese Restaurant</td>\n",
       "      <td>Bar</td>\n",
       "      <td>Bank</td>\n",
       "      <td>Mexican Restaurant</td>\n",
       "    </tr>\n",
       "    <tr>\n",
       "      <th>2</th>\n",
       "      <td>M5B</td>\n",
       "      <td>Downtown Toronto</td>\n",
       "      <td>Garden District, Ryerson</td>\n",
       "      <td>43.657162</td>\n",
       "      <td>-79.378937</td>\n",
       "      <td>0</td>\n",
       "      <td>Clothing Store</td>\n",
       "      <td>Coffee Shop</td>\n",
       "      <td>Café</td>\n",
       "      <td>Japanese Restaurant</td>\n",
       "      <td>Cosmetics Shop</td>\n",
       "      <td>Bubble Tea Shop</td>\n",
       "      <td>Middle Eastern Restaurant</td>\n",
       "      <td>Electronics Store</td>\n",
       "      <td>Bookstore</td>\n",
       "      <td>Italian Restaurant</td>\n",
       "    </tr>\n",
       "    <tr>\n",
       "      <th>3</th>\n",
       "      <td>M5C</td>\n",
       "      <td>Downtown Toronto</td>\n",
       "      <td>St. James Town</td>\n",
       "      <td>43.651494</td>\n",
       "      <td>-79.375418</td>\n",
       "      <td>0</td>\n",
       "      <td>Café</td>\n",
       "      <td>Coffee Shop</td>\n",
       "      <td>Cocktail Bar</td>\n",
       "      <td>American Restaurant</td>\n",
       "      <td>Beer Bar</td>\n",
       "      <td>Gastropub</td>\n",
       "      <td>Restaurant</td>\n",
       "      <td>Clothing Store</td>\n",
       "      <td>Gym</td>\n",
       "      <td>Japanese Restaurant</td>\n",
       "    </tr>\n",
       "    <tr>\n",
       "      <th>4</th>\n",
       "      <td>M4E</td>\n",
       "      <td>East Toronto</td>\n",
       "      <td>The Beaches</td>\n",
       "      <td>43.676357</td>\n",
       "      <td>-79.293031</td>\n",
       "      <td>0</td>\n",
       "      <td>Health Food Store</td>\n",
       "      <td>Pub</td>\n",
       "      <td>Trail</td>\n",
       "      <td>Distribution Center</td>\n",
       "      <td>Department Store</td>\n",
       "      <td>Dessert Shop</td>\n",
       "      <td>Dim Sum Restaurant</td>\n",
       "      <td>Diner</td>\n",
       "      <td>Discount Store</td>\n",
       "      <td>Women's Store</td>\n",
       "    </tr>\n",
       "  </tbody>\n",
       "</table>\n",
       "</div>"
      ],
      "text/plain": [
       "  PostalCode           Borough                                 Neighborhood  \\\n",
       "0        M5A  Downtown Toronto                    Regent Park, Harbourfront   \n",
       "1        M7A  Downtown Toronto  Queen's Park, Ontario Provincial Government   \n",
       "2        M5B  Downtown Toronto                     Garden District, Ryerson   \n",
       "3        M5C  Downtown Toronto                               St. James Town   \n",
       "4        M4E      East Toronto                                  The Beaches   \n",
       "\n",
       "    Latitude  Longitude  Cluster Labels 1st Most Common Venue  \\\n",
       "0  43.654260 -79.360636               0           Coffee Shop   \n",
       "1  43.662301 -79.389494               0           Coffee Shop   \n",
       "2  43.657162 -79.378937               0        Clothing Store   \n",
       "3  43.651494 -79.375418               0                  Café   \n",
       "4  43.676357 -79.293031               0     Health Food Store   \n",
       "\n",
       "  2nd Most Common Venue 3rd Most Common Venue 4th Most Common Venue  \\\n",
       "0                Bakery                  Café                   Pub   \n",
       "1     College Cafeteria           Yoga Studio              Beer Bar   \n",
       "2           Coffee Shop                  Café   Japanese Restaurant   \n",
       "3           Coffee Shop          Cocktail Bar   American Restaurant   \n",
       "4                   Pub                 Trail   Distribution Center   \n",
       "\n",
       "  5th Most Common Venue 6th Most Common Venue      7th Most Common Venue  \\\n",
       "0                  Park        Breakfast Spot                    Theater   \n",
       "1    Italian Restaurant         Smoothie Shop      Portuguese Restaurant   \n",
       "2        Cosmetics Shop       Bubble Tea Shop  Middle Eastern Restaurant   \n",
       "3              Beer Bar             Gastropub                 Restaurant   \n",
       "4      Department Store          Dessert Shop         Dim Sum Restaurant   \n",
       "\n",
       "  8th Most Common Venue 9th Most Common Venue 10th Most Common Venue  \n",
       "0           Yoga Studio            Shoe Store                Brewery  \n",
       "1                   Bar                  Bank     Mexican Restaurant  \n",
       "2     Electronics Store             Bookstore     Italian Restaurant  \n",
       "3        Clothing Store                   Gym    Japanese Restaurant  \n",
       "4                 Diner        Discount Store          Women's Store  "
      ]
     },
     "execution_count": 28,
     "metadata": {},
     "output_type": "execute_result"
    }
   ],
   "source": [
    "toronto_merged = toronto_df\n",
    "\n",
    "toronto_merged['Cluster Labels'] = kmeans.labels_\n",
    "\n",
    "toronto_merged = toronto_merged.join(neighborhoods_venues_sorted.set_index('Neighborhood'), on='Neighborhood')\n",
    "\n",
    "toronto_merged.head()"
   ]
  },
  {
   "cell_type": "markdown",
   "metadata": {},
   "source": [
    "Let's visualize the resulting clusters"
   ]
  },
  {
   "cell_type": "code",
   "execution_count": 29,
   "metadata": {},
   "outputs": [
    {
     "data": {
      "text/html": [
       "<div style=\"width:100%;\"><div style=\"position:relative;width:100%;height:0;padding-bottom:60%;\"><span style=\"color:#565656\">Make this Notebook Trusted to load map: File -> Trust Notebook</span><iframe src=\"about:blank\" style=\"position:absolute;width:100%;height:100%;left:0;top:0;border:none !important;\" data-html=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 onload=\"this.contentDocument.open();this.contentDocument.write(atob(this.getAttribute('data-html')));this.contentDocument.close();\" allowfullscreen webkitallowfullscreen mozallowfullscreen></iframe></div></div>"
      ],
      "text/plain": [
       "<folium.folium.Map at 0x160f1f7bc88>"
      ]
     },
     "execution_count": 29,
     "metadata": {},
     "output_type": "execute_result"
    }
   ],
   "source": [
    "map_clusters = folium.Map(location=[latitude, longitude], zoom_start=11)\n",
    "\n",
    "# set color scheme for the clusters\n",
    "x = np.arange(kclusters)\n",
    "ys = [i+x+(i*x)**2 for i in range(kclusters)]\n",
    "colors_array = cm.rainbow(np.linspace(0, 1, len(ys)))\n",
    "rainbow = [colors.rgb2hex(i) for i in colors_array]\n",
    "\n",
    "# add markers to the map\n",
    "markers_colors = []\n",
    "for lat, lon, poi, cluster in zip(toronto_merged['Latitude'],\n",
    "                                  toronto_merged['Longitude'],\n",
    "                                  toronto_merged['Neighborhood'],\n",
    "                                  toronto_merged['Cluster Labels']):\n",
    "    label = folium.Popup(str(poi) + ' Cluster ' + str(cluster), parse_html=True)\n",
    "    folium.CircleMarker(\n",
    "        [lat, lon],\n",
    "        radius=5,\n",
    "        popup=label,\n",
    "        color=rainbow[cluster-1],\n",
    "        fill=True,\n",
    "        fill_color=rainbow[cluster-1],\n",
    "        fill_opacity=0.7).add_to(map_clusters)\n",
    "       \n",
    "map_clusters"
   ]
  },
  {
   "cell_type": "markdown",
   "metadata": {},
   "source": [
    "### Cluster 1"
   ]
  },
  {
   "cell_type": "code",
   "execution_count": 30,
   "metadata": {},
   "outputs": [
    {
     "data": {
      "text/html": [
       "<div>\n",
       "<style scoped>\n",
       "    .dataframe tbody tr th:only-of-type {\n",
       "        vertical-align: middle;\n",
       "    }\n",
       "\n",
       "    .dataframe tbody tr th {\n",
       "        vertical-align: top;\n",
       "    }\n",
       "\n",
       "    .dataframe thead th {\n",
       "        text-align: right;\n",
       "    }\n",
       "</style>\n",
       "<table border=\"1\" class=\"dataframe\">\n",
       "  <thead>\n",
       "    <tr style=\"text-align: right;\">\n",
       "      <th></th>\n",
       "      <th>Borough</th>\n",
       "      <th>1st Most Common Venue</th>\n",
       "      <th>2nd Most Common Venue</th>\n",
       "      <th>3rd Most Common Venue</th>\n",
       "      <th>4th Most Common Venue</th>\n",
       "      <th>5th Most Common Venue</th>\n",
       "      <th>6th Most Common Venue</th>\n",
       "      <th>7th Most Common Venue</th>\n",
       "      <th>8th Most Common Venue</th>\n",
       "      <th>9th Most Common Venue</th>\n",
       "      <th>10th Most Common Venue</th>\n",
       "    </tr>\n",
       "  </thead>\n",
       "  <tbody>\n",
       "    <tr>\n",
       "      <th>0</th>\n",
       "      <td>Downtown Toronto</td>\n",
       "      <td>Coffee Shop</td>\n",
       "      <td>Bakery</td>\n",
       "      <td>Café</td>\n",
       "      <td>Pub</td>\n",
       "      <td>Park</td>\n",
       "      <td>Breakfast Spot</td>\n",
       "      <td>Theater</td>\n",
       "      <td>Yoga Studio</td>\n",
       "      <td>Shoe Store</td>\n",
       "      <td>Brewery</td>\n",
       "    </tr>\n",
       "    <tr>\n",
       "      <th>1</th>\n",
       "      <td>Downtown Toronto</td>\n",
       "      <td>Coffee Shop</td>\n",
       "      <td>College Cafeteria</td>\n",
       "      <td>Yoga Studio</td>\n",
       "      <td>Beer Bar</td>\n",
       "      <td>Italian Restaurant</td>\n",
       "      <td>Smoothie Shop</td>\n",
       "      <td>Portuguese Restaurant</td>\n",
       "      <td>Bar</td>\n",
       "      <td>Bank</td>\n",
       "      <td>Mexican Restaurant</td>\n",
       "    </tr>\n",
       "    <tr>\n",
       "      <th>2</th>\n",
       "      <td>Downtown Toronto</td>\n",
       "      <td>Clothing Store</td>\n",
       "      <td>Coffee Shop</td>\n",
       "      <td>Café</td>\n",
       "      <td>Japanese Restaurant</td>\n",
       "      <td>Cosmetics Shop</td>\n",
       "      <td>Bubble Tea Shop</td>\n",
       "      <td>Middle Eastern Restaurant</td>\n",
       "      <td>Electronics Store</td>\n",
       "      <td>Bookstore</td>\n",
       "      <td>Italian Restaurant</td>\n",
       "    </tr>\n",
       "    <tr>\n",
       "      <th>3</th>\n",
       "      <td>Downtown Toronto</td>\n",
       "      <td>Café</td>\n",
       "      <td>Coffee Shop</td>\n",
       "      <td>Cocktail Bar</td>\n",
       "      <td>American Restaurant</td>\n",
       "      <td>Beer Bar</td>\n",
       "      <td>Gastropub</td>\n",
       "      <td>Restaurant</td>\n",
       "      <td>Clothing Store</td>\n",
       "      <td>Gym</td>\n",
       "      <td>Japanese Restaurant</td>\n",
       "    </tr>\n",
       "    <tr>\n",
       "      <th>4</th>\n",
       "      <td>East Toronto</td>\n",
       "      <td>Health Food Store</td>\n",
       "      <td>Pub</td>\n",
       "      <td>Trail</td>\n",
       "      <td>Distribution Center</td>\n",
       "      <td>Department Store</td>\n",
       "      <td>Dessert Shop</td>\n",
       "      <td>Dim Sum Restaurant</td>\n",
       "      <td>Diner</td>\n",
       "      <td>Discount Store</td>\n",
       "      <td>Women's Store</td>\n",
       "    </tr>\n",
       "  </tbody>\n",
       "</table>\n",
       "</div>"
      ],
      "text/plain": [
       "            Borough 1st Most Common Venue 2nd Most Common Venue  \\\n",
       "0  Downtown Toronto           Coffee Shop                Bakery   \n",
       "1  Downtown Toronto           Coffee Shop     College Cafeteria   \n",
       "2  Downtown Toronto        Clothing Store           Coffee Shop   \n",
       "3  Downtown Toronto                  Café           Coffee Shop   \n",
       "4      East Toronto     Health Food Store                   Pub   \n",
       "\n",
       "  3rd Most Common Venue 4th Most Common Venue 5th Most Common Venue  \\\n",
       "0                  Café                   Pub                  Park   \n",
       "1           Yoga Studio              Beer Bar    Italian Restaurant   \n",
       "2                  Café   Japanese Restaurant        Cosmetics Shop   \n",
       "3          Cocktail Bar   American Restaurant              Beer Bar   \n",
       "4                 Trail   Distribution Center      Department Store   \n",
       "\n",
       "  6th Most Common Venue      7th Most Common Venue 8th Most Common Venue  \\\n",
       "0        Breakfast Spot                    Theater           Yoga Studio   \n",
       "1         Smoothie Shop      Portuguese Restaurant                   Bar   \n",
       "2       Bubble Tea Shop  Middle Eastern Restaurant     Electronics Store   \n",
       "3             Gastropub                 Restaurant        Clothing Store   \n",
       "4          Dessert Shop         Dim Sum Restaurant                 Diner   \n",
       "\n",
       "  9th Most Common Venue 10th Most Common Venue  \n",
       "0            Shoe Store                Brewery  \n",
       "1                  Bank     Mexican Restaurant  \n",
       "2             Bookstore     Italian Restaurant  \n",
       "3                   Gym    Japanese Restaurant  \n",
       "4        Discount Store          Women's Store  "
      ]
     },
     "execution_count": 30,
     "metadata": {},
     "output_type": "execute_result"
    }
   ],
   "source": [
    "cluster_1a = toronto_merged.loc[toronto_merged['Cluster Labels'] == 0,\n",
    "                                 toronto_merged.columns[[1] + list(range(5, toronto_merged.shape[1]))]]\n",
    "cluster_1 = cluster_1a.drop(['Cluster Labels'], axis=1)\n",
    "cluster_1.head()"
   ]
  },
  {
   "cell_type": "code",
   "execution_count": 31,
   "metadata": {
    "scrolled": false
   },
   "outputs": [
    {
     "data": {
      "text/html": [
       "<div style=\"width:100%;\"><div style=\"position:relative;width:100%;height:0;padding-bottom:60%;\"><span style=\"color:#565656\">Make this Notebook Trusted to load map: File -> Trust Notebook</span><iframe src=\"about:blank\" style=\"position:absolute;width:100%;height:100%;left:0;top:0;border:none !important;\" data-html=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 onload=\"this.contentDocument.open();this.contentDocument.write(atob(this.getAttribute('data-html')));this.contentDocument.close();\" allowfullscreen webkitallowfullscreen mozallowfullscreen></iframe></div></div>"
      ],
      "text/plain": [
       "<folium.folium.Map at 0x160f1ebfb48>"
      ]
     },
     "execution_count": 31,
     "metadata": {},
     "output_type": "execute_result"
    }
   ],
   "source": [
    "map_clusters_1 = folium.Map(location=[latitude, longitude], zoom_start=11)\n",
    "\n",
    "# set color scheme for the clusters\n",
    "x = np.arange(kclusters)\n",
    "ys = [i+x+(i*x)**2 for i in range(kclusters)]\n",
    "colors_array = cm.rainbow(np.linspace(0, 1, len(ys)))\n",
    "rainbow = [colors.rgb2hex(i) for i in colors_array]\n",
    "\n",
    "# add markers to the map\n",
    "markers_colors = []\n",
    "for lat, lon, poi, cluster in zip(toronto_merged['Latitude'],\n",
    "                                  toronto_merged['Longitude'],\n",
    "                                  cluster_1['Borough'],\n",
    "                                  toronto_merged['Cluster Labels']):\n",
    "    label = folium.Popup(str(poi) + ' Cluster ' + str(cluster), parse_html=True)\n",
    "    folium.CircleMarker(\n",
    "        [lat, lon],\n",
    "        radius=5,\n",
    "        popup=label,\n",
    "        color=rainbow[cluster-1],\n",
    "        fill=True,\n",
    "        fill_color=rainbow[cluster-1],\n",
    "        fill_opacity=0.7).add_to(map_clusters_1)\n",
    "       \n",
    "map_clusters_1"
   ]
  },
  {
   "cell_type": "markdown",
   "metadata": {},
   "source": [
    "### Cluster 2"
   ]
  },
  {
   "cell_type": "code",
   "execution_count": 32,
   "metadata": {},
   "outputs": [
    {
     "data": {
      "text/html": [
       "<div>\n",
       "<style scoped>\n",
       "    .dataframe tbody tr th:only-of-type {\n",
       "        vertical-align: middle;\n",
       "    }\n",
       "\n",
       "    .dataframe tbody tr th {\n",
       "        vertical-align: top;\n",
       "    }\n",
       "\n",
       "    .dataframe thead th {\n",
       "        text-align: right;\n",
       "    }\n",
       "</style>\n",
       "<table border=\"1\" class=\"dataframe\">\n",
       "  <thead>\n",
       "    <tr style=\"text-align: right;\">\n",
       "      <th></th>\n",
       "      <th>Borough</th>\n",
       "      <th>1st Most Common Venue</th>\n",
       "      <th>2nd Most Common Venue</th>\n",
       "      <th>3rd Most Common Venue</th>\n",
       "      <th>4th Most Common Venue</th>\n",
       "      <th>5th Most Common Venue</th>\n",
       "      <th>6th Most Common Venue</th>\n",
       "      <th>7th Most Common Venue</th>\n",
       "      <th>8th Most Common Venue</th>\n",
       "      <th>9th Most Common Venue</th>\n",
       "      <th>10th Most Common Venue</th>\n",
       "    </tr>\n",
       "  </thead>\n",
       "  <tbody>\n",
       "    <tr>\n",
       "      <th>18</th>\n",
       "      <td>Central Toronto</td>\n",
       "      <td>Park</td>\n",
       "      <td>Bus Line</td>\n",
       "      <td>Swim School</td>\n",
       "      <td>Women's Store</td>\n",
       "      <td>Department Store</td>\n",
       "      <td>Eastern European Restaurant</td>\n",
       "      <td>Dumpling Restaurant</td>\n",
       "      <td>Donut Shop</td>\n",
       "      <td>Doner Restaurant</td>\n",
       "      <td>Dog Run</td>\n",
       "    </tr>\n",
       "    <tr>\n",
       "      <th>26</th>\n",
       "      <td>Central Toronto</td>\n",
       "      <td>Pizza Place</td>\n",
       "      <td>Dessert Shop</td>\n",
       "      <td>Sandwich Place</td>\n",
       "      <td>Gym</td>\n",
       "      <td>Café</td>\n",
       "      <td>Italian Restaurant</td>\n",
       "      <td>Sushi Restaurant</td>\n",
       "      <td>Coffee Shop</td>\n",
       "      <td>Pharmacy</td>\n",
       "      <td>Brewery</td>\n",
       "    </tr>\n",
       "  </tbody>\n",
       "</table>\n",
       "</div>"
      ],
      "text/plain": [
       "            Borough 1st Most Common Venue 2nd Most Common Venue  \\\n",
       "18  Central Toronto                  Park              Bus Line   \n",
       "26  Central Toronto           Pizza Place          Dessert Shop   \n",
       "\n",
       "   3rd Most Common Venue 4th Most Common Venue 5th Most Common Venue  \\\n",
       "18           Swim School         Women's Store      Department Store   \n",
       "26        Sandwich Place                   Gym                  Café   \n",
       "\n",
       "          6th Most Common Venue 7th Most Common Venue 8th Most Common Venue  \\\n",
       "18  Eastern European Restaurant   Dumpling Restaurant            Donut Shop   \n",
       "26           Italian Restaurant      Sushi Restaurant           Coffee Shop   \n",
       "\n",
       "   9th Most Common Venue 10th Most Common Venue  \n",
       "18      Doner Restaurant                Dog Run  \n",
       "26              Pharmacy                Brewery  "
      ]
     },
     "execution_count": 32,
     "metadata": {},
     "output_type": "execute_result"
    }
   ],
   "source": [
    "cluster_2a = toronto_merged.loc[toronto_merged['Cluster Labels'] == 1, \n",
    "                                toronto_merged.columns[[1] + list(range(5, toronto_merged.shape[1]))]]\n",
    "cluster_2 = cluster_2a.drop(['Cluster Labels'], axis=1)\n",
    "cluster_2.head()"
   ]
  },
  {
   "cell_type": "code",
   "execution_count": 33,
   "metadata": {},
   "outputs": [
    {
     "data": {
      "text/html": [
       "<div style=\"width:100%;\"><div style=\"position:relative;width:100%;height:0;padding-bottom:60%;\"><span style=\"color:#565656\">Make this Notebook Trusted to load map: File -> Trust Notebook</span><iframe src=\"about:blank\" style=\"position:absolute;width:100%;height:100%;left:0;top:0;border:none !important;\" data-html=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 onload=\"this.contentDocument.open();this.contentDocument.write(atob(this.getAttribute('data-html')));this.contentDocument.close();\" allowfullscreen webkitallowfullscreen mozallowfullscreen></iframe></div></div>"
      ],
      "text/plain": [
       "<folium.folium.Map at 0x160f1edbb08>"
      ]
     },
     "execution_count": 33,
     "metadata": {},
     "output_type": "execute_result"
    }
   ],
   "source": [
    "map_clusters_2 = folium.Map(location=[latitude, longitude], zoom_start=11)\n",
    "\n",
    "# set color scheme for the clusters\n",
    "x = np.arange(kclusters)\n",
    "ys = [i+x+(i*x)**2 for i in range(kclusters)]\n",
    "colors_array = cm.rainbow(np.linspace(0, 1, len(ys)))\n",
    "rainbow = [colors.rgb2hex(i) for i in colors_array]\n",
    "\n",
    "# add markers to the map\n",
    "markers_colors = []\n",
    "for lat, lon, poi, cluster in zip(toronto_merged['Latitude'],\n",
    "                                  toronto_merged['Longitude'],\n",
    "                                  cluster_2['Borough'],\n",
    "                                  toronto_merged['Cluster Labels']):\n",
    "    label = folium.Popup(str(poi) + ' Cluster ' + str(cluster), parse_html=True)\n",
    "    folium.CircleMarker(\n",
    "        [lat, lon],\n",
    "        radius=5,\n",
    "        popup=label,\n",
    "        color=rainbow[cluster-1],\n",
    "        fill=True,\n",
    "        fill_color=rainbow[cluster-1],\n",
    "        fill_opacity=0.7).add_to(map_clusters_2)\n",
    "       \n",
    "map_clusters_2"
   ]
  },
  {
   "cell_type": "markdown",
   "metadata": {},
   "source": [
    "### Cluster 3"
   ]
  },
  {
   "cell_type": "code",
   "execution_count": 34,
   "metadata": {},
   "outputs": [
    {
     "data": {
      "text/html": [
       "<div>\n",
       "<style scoped>\n",
       "    .dataframe tbody tr th:only-of-type {\n",
       "        vertical-align: middle;\n",
       "    }\n",
       "\n",
       "    .dataframe tbody tr th {\n",
       "        vertical-align: top;\n",
       "    }\n",
       "\n",
       "    .dataframe thead th {\n",
       "        text-align: right;\n",
       "    }\n",
       "</style>\n",
       "<table border=\"1\" class=\"dataframe\">\n",
       "  <thead>\n",
       "    <tr style=\"text-align: right;\">\n",
       "      <th></th>\n",
       "      <th>Borough</th>\n",
       "      <th>1st Most Common Venue</th>\n",
       "      <th>2nd Most Common Venue</th>\n",
       "      <th>3rd Most Common Venue</th>\n",
       "      <th>4th Most Common Venue</th>\n",
       "      <th>5th Most Common Venue</th>\n",
       "      <th>6th Most Common Venue</th>\n",
       "      <th>7th Most Common Venue</th>\n",
       "      <th>8th Most Common Venue</th>\n",
       "      <th>9th Most Common Venue</th>\n",
       "      <th>10th Most Common Venue</th>\n",
       "    </tr>\n",
       "  </thead>\n",
       "  <tbody>\n",
       "    <tr>\n",
       "      <th>20</th>\n",
       "      <td>Central Toronto</td>\n",
       "      <td>Sandwich Place</td>\n",
       "      <td>Food &amp; Drink Shop</td>\n",
       "      <td>Park</td>\n",
       "      <td>Pizza Place</td>\n",
       "      <td>Gym</td>\n",
       "      <td>Gym / Fitness Center</td>\n",
       "      <td>Breakfast Spot</td>\n",
       "      <td>Department Store</td>\n",
       "      <td>Hotel</td>\n",
       "      <td>Women's Store</td>\n",
       "    </tr>\n",
       "  </tbody>\n",
       "</table>\n",
       "</div>"
      ],
      "text/plain": [
       "            Borough 1st Most Common Venue 2nd Most Common Venue  \\\n",
       "20  Central Toronto        Sandwich Place     Food & Drink Shop   \n",
       "\n",
       "   3rd Most Common Venue 4th Most Common Venue 5th Most Common Venue  \\\n",
       "20                  Park           Pizza Place                   Gym   \n",
       "\n",
       "   6th Most Common Venue 7th Most Common Venue 8th Most Common Venue  \\\n",
       "20  Gym / Fitness Center        Breakfast Spot      Department Store   \n",
       "\n",
       "   9th Most Common Venue 10th Most Common Venue  \n",
       "20                 Hotel          Women's Store  "
      ]
     },
     "execution_count": 34,
     "metadata": {},
     "output_type": "execute_result"
    }
   ],
   "source": [
    "cluster_3a = toronto_merged.loc[toronto_merged['Cluster Labels'] == 2,\n",
    "                                toronto_merged.columns[[1] + list(range(5, toronto_merged.shape[1]))]]\n",
    "cluster_3 = cluster_3a.drop(['Cluster Labels'], axis=1)\n",
    "cluster_3.head()"
   ]
  },
  {
   "cell_type": "code",
   "execution_count": 35,
   "metadata": {},
   "outputs": [
    {
     "data": {
      "text/html": [
       "<div style=\"width:100%;\"><div style=\"position:relative;width:100%;height:0;padding-bottom:60%;\"><span style=\"color:#565656\">Make this Notebook Trusted to load map: File -> Trust Notebook</span><iframe src=\"about:blank\" style=\"position:absolute;width:100%;height:100%;left:0;top:0;border:none !important;\" data-html=PCFET0NUWVBFIGh0bWw+CjxoZWFkPiAgICAKICAgIDxtZXRhIGh0dHAtZXF1aXY9ImNvbnRlbnQtdHlwZSIgY29udGVudD0idGV4dC9odG1sOyBjaGFyc2V0PVVURi04IiAvPgogICAgCiAgICAgICAgPHNjcmlwdD4KICAgICAgICAgICAgTF9OT19UT1VDSCA9IGZhbHNlOwogICAgICAgICAgICBMX0RJU0FCTEVfM0QgPSBmYWxzZTsKICAgICAgICA8L3NjcmlwdD4KICAgIAogICAgPHNjcmlwdCBzcmM9Imh0dHBzOi8vY2RuLmpzZGVsaXZyLm5ldC9ucG0vbGVhZmxldEAxLjYuMC9kaXN0L2xlYWZsZXQuanMiPjwvc2NyaXB0PgogICAgPHNjcmlwdCBzcmM9Imh0dHBzOi8vY29kZS5qcXVlcnkuY29tL2pxdWVyeS0xLjEyLjQubWluLmpzIj48L3NjcmlwdD4KICAgIDxzY3JpcHQgc3JjPSJodHRwczovL21heGNkbi5ib290c3RyYXBjZG4uY29tL2Jvb3RzdHJhcC8zLjIuMC9qcy9ib290c3RyYXAubWluLmpzIj48L3NjcmlwdD4KICAgIDxzY3JpcHQgc3JjPSJodHRwczovL2NkbmpzLmNsb3VkZmxhcmUuY29tL2FqYXgvbGlicy9MZWFmbGV0LmF3ZXNvbWUtbWFya2Vycy8yLjAuMi9sZWFmbGV0LmF3ZXNvbWUtbWFya2Vycy5qcyI+PC9zY3JpcHQ+CiAgICA8bGluayByZWw9InN0eWxlc2hlZXQiIGhyZWY9Imh0dHBzOi8vY2RuLmpzZGVsaXZyLm5ldC9ucG0vbGVhZmxldEAxLjYuMC9kaXN0L2xlYWZsZXQuY3NzIi8+CiAgICA8bGluayByZWw9InN0eWxlc2hlZXQiIGhyZWY9Imh0dHBzOi8vbWF4Y2RuLmJvb3RzdHJhcGNkbi5jb20vYm9vdHN0cmFwLzMuMi4wL2Nzcy9ib290c3RyYXAubWluLmNzcyIvPgogICAgPGxpbmsgcmVsPSJzdHlsZXNoZWV0IiBocmVmPSJodHRwczovL21heGNkbi5ib290c3RyYXBjZG4uY29tL2Jvb3RzdHJhcC8zLjIuMC9jc3MvYm9vdHN0cmFwLXRoZW1lLm1pbi5jc3MiLz4KICAgIDxsaW5rIHJlbD0ic3R5bGVzaGVldCIgaHJlZj0iaHR0cHM6Ly9tYXhjZG4uYm9vdHN0cmFwY2RuLmNvbS9mb250LWF3ZXNvbWUvNC42LjMvY3NzL2ZvbnQtYXdlc29tZS5taW4uY3NzIi8+CiAgICA8bGluayByZWw9InN0eWxlc2hlZXQiIGhyZWY9Imh0dHBzOi8vY2RuanMuY2xvdWRmbGFyZS5jb20vYWpheC9saWJzL0xlYWZsZXQuYXdlc29tZS1tYXJrZXJzLzIuMC4yL2xlYWZsZXQuYXdlc29tZS1tYXJrZXJzLmNzcyIvPgogICAgPGxpbmsgcmVsPSJzdHlsZXNoZWV0IiBocmVmPSJodHRwczovL3Jhd2Nkbi5naXRoYWNrLmNvbS9weXRob24tdmlzdWFsaXphdGlvbi9mb2xpdW0vbWFzdGVyL2ZvbGl1bS90ZW1wbGF0ZXMvbGVhZmxldC5hd2Vzb21lLnJvdGF0ZS5jc3MiLz4KICAgIDxzdHlsZT5odG1sLCBib2R5IHt3aWR0aDogMTAwJTtoZWlnaHQ6IDEwMCU7bWFyZ2luOiAwO3BhZGRpbmc6IDA7fTwvc3R5bGU+CiAgICA8c3R5bGU+I21hcCB7cG9zaXRpb246YWJzb2x1dGU7dG9wOjA7Ym90dG9tOjA7cmlnaHQ6MDtsZWZ0OjA7fTwvc3R5bGU+CiAgICAKICAgICAgICAgICAgPG1ldGEgbmFtZT0idmlld3BvcnQiIGNvbnRlbnQ9IndpZHRoPWRldmljZS13aWR0aCwKICAgICAgICAgICAgICAgIGluaXRpYWwtc2NhbGU9MS4wLCBtYXhpbXVtLXNjYWxlPTEuMCwgdXNlci1zY2FsYWJsZT1ubyIgLz4KICAgICAgICAgICAgPHN0eWxlPgogICAgICAgICAgICAgICAgI21hcF83NzUzM2M4NmE5YzM0ZWZiYTMxYzFkNWU3NjI2NTgwMiB7CiAgICAgICAgICAgICAgICAgICAgcG9zaXRpb246IHJlbGF0aXZlOwogICAgICAgICAgICAgICAgICAgIHdpZHRoOiAxMDAuMCU7CiAgICAgICAgICAgICAgICAgICAgaGVpZ2h0OiAxMDAuMCU7CiAgICAgICAgICAgICAgICAgICAgbGVmdDogMC4wJTsKICAgICAgICAgICAgICAgICAgICB0b3A6IDAuMCU7CiAgICAgICAgICAgICAgICB9CiAgICAgICAgICAgIDwvc3R5bGU+CiAgICAgICAgCjwvaGVhZD4KPGJvZHk+ICAgIAogICAgCiAgICAgICAgICAgIDxkaXYgY2xhc3M9ImZvbGl1bS1tYXAiIGlkPSJtYXBfNzc1MzNjODZhOWMzNGVmYmEzMWMxZDVlNzYyNjU4MDIiID48L2Rpdj4KICAgICAgICAKPC9ib2R5Pgo8c2NyaXB0PiAgICAKICAgIAogICAgICAgICAgICB2YXIgbWFwXzc3NTMzYzg2YTljMzRlZmJhMzFjMWQ1ZTc2MjY1ODAyID0gTC5tYXAoCiAgICAgICAgICAgICAgICAibWFwXzc3NTMzYzg2YTljMzRlZmJhMzFjMWQ1ZTc2MjY1ODAyIiwKICAgICAgICAgICAgICAgIHsKICAgICAgICAgICAgICAgICAgICBjZW50ZXI6IFs0My42NTM0ODE3LCAtNzkuMzgzOTM0N10sCiAgICAgICAgICAgICAgICAgICAgY3JzOiBMLkNSUy5FUFNHMzg1NywKICAgICAgICAgICAgICAgICAgICB6b29tOiAxMSwKICAgICAgICAgICAgICAgICAgICB6b29tQ29udHJvbDogdHJ1ZSwKICAgICAgICAgICAgICAgICAgICBwcmVmZXJDYW52YXM6IGZhbHNlLAogICAgICAgICAgICAgICAgfQogICAgICAgICAgICApOwoKICAgICAgICAgICAgCgogICAgICAgIAogICAgCiAgICAgICAgICAgIHZhciB0aWxlX2xheWVyX2ZjZThhYjkwNDg2NzRhNWU5ODM1ZjhkOTQ3NDdhOGFmID0gTC50aWxlTGF5ZXIoCiAgICAgICAgICAgICAgICAiaHR0cHM6Ly97c30udGlsZS5vcGVuc3RyZWV0bWFwLm9yZy97en0ve3h9L3t5fS5wbmciLAogICAgICAgICAgICAgICAgeyJhdHRyaWJ1dGlvbiI6ICJEYXRhIGJ5IFx1MDAyNmNvcHk7IFx1MDAzY2EgaHJlZj1cImh0dHA6Ly9vcGVuc3RyZWV0bWFwLm9yZ1wiXHUwMDNlT3BlblN0cmVldE1hcFx1MDAzYy9hXHUwMDNlLCB1bmRlciBcdTAwM2NhIGhyZWY9XCJodHRwOi8vd3d3Lm9wZW5zdHJlZXRtYXAub3JnL2NvcHlyaWdodFwiXHUwMDNlT0RiTFx1MDAzYy9hXHUwMDNlLiIsICJkZXRlY3RSZXRpbmEiOiBmYWxzZSwgIm1heE5hdGl2ZVpvb20iOiAxOCwgIm1heFpvb20iOiAxOCwgIm1pblpvb20iOiAwLCAibm9XcmFwIjogZmFsc2UsICJvcGFjaXR5IjogMSwgInN1YmRvbWFpbnMiOiAiYWJjIiwgInRtcyI6IGZhbHNlfQogICAgICAgICAgICApLmFkZFRvKG1hcF83NzUzM2M4NmE5YzM0ZWZiYTMxYzFkNWU3NjI2NTgwMik7CiAgICAgICAgCiAgICAKICAgICAgICAgICAgdmFyIGNpcmNsZV9tYXJrZXJfYzNkNjFlNGJmZjgyNDllMmE0MjA4OGE2ZmEzNDIxNTEgPSBMLmNpcmNsZU1hcmtlcigKICAgICAgICAgICAgICAgIFs0My42NTQyNTk5LCAtNzkuMzYwNjM1OV0sCiAgICAgICAgICAgICAgICB7ImJ1YmJsaW5nTW91c2VFdmVudHMiOiB0cnVlLCAiY29sb3IiOiAiI2ZmMDAwMCIsICJkYXNoQXJyYXkiOiBudWxsLCAiZGFzaE9mZnNldCI6IG51bGwsICJmaWxsIjogdHJ1ZSwgImZpbGxDb2xvciI6ICIjZmYwMDAwIiwgImZpbGxPcGFjaXR5IjogMC43LCAiZmlsbFJ1bGUiOiAiZXZlbm9kZCIsICJsaW5lQ2FwIjogInJvdW5kIiwgImxpbmVKb2luIjogInJvdW5kIiwgIm9wYWNpdHkiOiAxLjAsICJyYWRpdXMiOiA1LCAic3Ryb2tlIjogdHJ1ZSwgIndlaWdodCI6IDN9CiAgICAgICAgICAgICkuYWRkVG8obWFwXzc3NTMzYzg2YTljMzRlZmJhMzFjMWQ1ZTc2MjY1ODAyKTsKICAgICAgICAKICAgIAogICAgICAgIHZhciBwb3B1cF9lMDcxMWM4OGYxYTQ0ODU2YjVjNzY4NTFmZTRkMGIwNyA9IEwucG9wdXAoeyJtYXhXaWR0aCI6ICIxMDAlIn0pOwoKICAgICAgICAKICAgICAgICAgICAgdmFyIGh0bWxfMWY5YzJlNGFmZjA5NDU5NDliN2VmOGM0YjRmNTcwNTkgPSAkKGA8ZGl2IGlkPSJodG1sXzFmOWMyZTRhZmYwOTQ1OTQ5YjdlZjhjNGI0ZjU3MDU5IiBzdHlsZT0id2lkdGg6IDEwMC4wJTsgaGVpZ2h0OiAxMDAuMCU7Ij5DZW50cmFsIFRvcm9udG8gQ2x1c3RlciAwPC9kaXY+YClbMF07CiAgICAgICAgICAgIHBvcHVwX2UwNzExYzg4ZjFhNDQ4NTZiNWM3Njg1MWZlNGQwYjA3LnNldENvbnRlbnQoaHRtbF8xZjljMmU0YWZmMDk0NTk0OWI3ZWY4YzRiNGY1NzA1OSk7CiAgICAgICAgCgogICAgICAgIGNpcmNsZV9tYXJrZXJfYzNkNjFlNGJmZjgyNDllMmE0MjA4OGE2ZmEzNDIxNTEuYmluZFBvcHVwKHBvcHVwX2UwNzExYzg4ZjFhNDQ4NTZiNWM3Njg1MWZlNGQwYjA3KQogICAgICAgIDsKCiAgICAgICAgCiAgICAKPC9zY3JpcHQ+ onload=\"this.contentDocument.open();this.contentDocument.write(atob(this.getAttribute('data-html')));this.contentDocument.close();\" allowfullscreen webkitallowfullscreen mozallowfullscreen></iframe></div></div>"
      ],
      "text/plain": [
       "<folium.folium.Map at 0x160f1ee70c8>"
      ]
     },
     "execution_count": 35,
     "metadata": {},
     "output_type": "execute_result"
    }
   ],
   "source": [
    "map_clusters_3 = folium.Map(location=[latitude, longitude], zoom_start=11)\n",
    "\n",
    "# set color scheme for the clusters\n",
    "x = np.arange(kclusters)\n",
    "ys = [i+x+(i*x)**2 for i in range(kclusters)]\n",
    "colors_array = cm.rainbow(np.linspace(0, 1, len(ys)))\n",
    "rainbow = [colors.rgb2hex(i) for i in colors_array]\n",
    "\n",
    "# add markers to the map\n",
    "markers_colors = []\n",
    "for lat, lon, poi, cluster in zip(toronto_merged['Latitude'],\n",
    "                                  toronto_merged['Longitude'],\n",
    "                                  cluster_3['Borough'],\n",
    "                                  toronto_merged['Cluster Labels']):\n",
    "    label = folium.Popup(str(poi) + ' Cluster ' + str(cluster), parse_html=True)\n",
    "    folium.CircleMarker(\n",
    "        [lat, lon],\n",
    "        radius=5,\n",
    "        popup=label,\n",
    "        color=rainbow[cluster-1],\n",
    "        fill=True,\n",
    "        fill_color=rainbow[cluster-1],\n",
    "        fill_opacity=0.7).add_to(map_clusters_3)\n",
    "       \n",
    "map_clusters_3"
   ]
  },
  {
   "cell_type": "markdown",
   "metadata": {},
   "source": [
    "### Cluster 4"
   ]
  },
  {
   "cell_type": "code",
   "execution_count": 36,
   "metadata": {},
   "outputs": [
    {
     "data": {
      "text/html": [
       "<div>\n",
       "<style scoped>\n",
       "    .dataframe tbody tr th:only-of-type {\n",
       "        vertical-align: middle;\n",
       "    }\n",
       "\n",
       "    .dataframe tbody tr th {\n",
       "        vertical-align: top;\n",
       "    }\n",
       "\n",
       "    .dataframe thead th {\n",
       "        text-align: right;\n",
       "    }\n",
       "</style>\n",
       "<table border=\"1\" class=\"dataframe\">\n",
       "  <thead>\n",
       "    <tr style=\"text-align: right;\">\n",
       "      <th></th>\n",
       "      <th>Borough</th>\n",
       "      <th>1st Most Common Venue</th>\n",
       "      <th>2nd Most Common Venue</th>\n",
       "      <th>3rd Most Common Venue</th>\n",
       "      <th>4th Most Common Venue</th>\n",
       "      <th>5th Most Common Venue</th>\n",
       "      <th>6th Most Common Venue</th>\n",
       "      <th>7th Most Common Venue</th>\n",
       "      <th>8th Most Common Venue</th>\n",
       "      <th>9th Most Common Venue</th>\n",
       "      <th>10th Most Common Venue</th>\n",
       "    </tr>\n",
       "  </thead>\n",
       "  <tbody>\n",
       "    <tr>\n",
       "      <th>12</th>\n",
       "      <td>East Toronto</td>\n",
       "      <td>Greek Restaurant</td>\n",
       "      <td>Coffee Shop</td>\n",
       "      <td>Italian Restaurant</td>\n",
       "      <td>Ice Cream Shop</td>\n",
       "      <td>Furniture / Home Store</td>\n",
       "      <td>Restaurant</td>\n",
       "      <td>Bookstore</td>\n",
       "      <td>Bubble Tea Shop</td>\n",
       "      <td>Bakery</td>\n",
       "      <td>Pub</td>\n",
       "    </tr>\n",
       "  </tbody>\n",
       "</table>\n",
       "</div>"
      ],
      "text/plain": [
       "         Borough 1st Most Common Venue 2nd Most Common Venue  \\\n",
       "12  East Toronto      Greek Restaurant           Coffee Shop   \n",
       "\n",
       "   3rd Most Common Venue 4th Most Common Venue   5th Most Common Venue  \\\n",
       "12    Italian Restaurant        Ice Cream Shop  Furniture / Home Store   \n",
       "\n",
       "   6th Most Common Venue 7th Most Common Venue 8th Most Common Venue  \\\n",
       "12            Restaurant             Bookstore       Bubble Tea Shop   \n",
       "\n",
       "   9th Most Common Venue 10th Most Common Venue  \n",
       "12                Bakery                    Pub  "
      ]
     },
     "execution_count": 36,
     "metadata": {},
     "output_type": "execute_result"
    }
   ],
   "source": [
    "cluster_4a = toronto_merged.loc[toronto_merged['Cluster Labels'] == 3,\n",
    "                                toronto_merged.columns[[1] + list(range(5, toronto_merged.shape[1]))]]\n",
    "cluster_4 = cluster_4a.drop(['Cluster Labels'], axis=1)\n",
    "cluster_4.head()"
   ]
  },
  {
   "cell_type": "code",
   "execution_count": 37,
   "metadata": {},
   "outputs": [
    {
     "data": {
      "text/html": [
       "<div style=\"width:100%;\"><div style=\"position:relative;width:100%;height:0;padding-bottom:60%;\"><span style=\"color:#565656\">Make this Notebook Trusted to load map: File -> Trust Notebook</span><iframe src=\"about:blank\" style=\"position:absolute;width:100%;height:100%;left:0;top:0;border:none !important;\" data-html=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 onload=\"this.contentDocument.open();this.contentDocument.write(atob(this.getAttribute('data-html')));this.contentDocument.close();\" allowfullscreen webkitallowfullscreen mozallowfullscreen></iframe></div></div>"
      ],
      "text/plain": [
       "<folium.folium.Map at 0x160f1c1e488>"
      ]
     },
     "execution_count": 37,
     "metadata": {},
     "output_type": "execute_result"
    }
   ],
   "source": [
    "map_clusters_4 = folium.Map(location=[latitude, longitude], zoom_start=11)\n",
    "\n",
    "# set color scheme for the clusters\n",
    "x = np.arange(kclusters)\n",
    "ys = [i+x+(i*x)**2 for i in range(kclusters)]\n",
    "colors_array = cm.rainbow(np.linspace(0, 1, len(ys)))\n",
    "rainbow = [colors.rgb2hex(i) for i in colors_array]\n",
    "\n",
    "# add markers to the map\n",
    "markers_colors = []\n",
    "for lat, lon, poi, cluster in zip(toronto_merged['Latitude'],\n",
    "                                  toronto_merged['Longitude'],\n",
    "                                  cluster_4['Borough'],\n",
    "                                  toronto_merged['Cluster Labels']):\n",
    "    label = folium.Popup(str(poi) + ' Cluster ' + str(cluster), parse_html=True)\n",
    "    folium.CircleMarker(\n",
    "        [lat, lon],\n",
    "        radius=5,\n",
    "        popup=label,\n",
    "        color=rainbow[cluster-1],\n",
    "        fill=True,\n",
    "        fill_color=rainbow[cluster-1],\n",
    "        fill_opacity=0.7).add_to(map_clusters_4)\n",
    "       \n",
    "map_clusters_4"
   ]
  },
  {
   "cell_type": "markdown",
   "metadata": {},
   "source": [
    "### Cluster 5"
   ]
  },
  {
   "cell_type": "code",
   "execution_count": 38,
   "metadata": {},
   "outputs": [
    {
     "data": {
      "text/html": [
       "<div>\n",
       "<style scoped>\n",
       "    .dataframe tbody tr th:only-of-type {\n",
       "        vertical-align: middle;\n",
       "    }\n",
       "\n",
       "    .dataframe tbody tr th {\n",
       "        vertical-align: top;\n",
       "    }\n",
       "\n",
       "    .dataframe thead th {\n",
       "        text-align: right;\n",
       "    }\n",
       "</style>\n",
       "<table border=\"1\" class=\"dataframe\">\n",
       "  <thead>\n",
       "    <tr style=\"text-align: right;\">\n",
       "      <th></th>\n",
       "      <th>Borough</th>\n",
       "      <th>1st Most Common Venue</th>\n",
       "      <th>2nd Most Common Venue</th>\n",
       "      <th>3rd Most Common Venue</th>\n",
       "      <th>4th Most Common Venue</th>\n",
       "      <th>5th Most Common Venue</th>\n",
       "      <th>6th Most Common Venue</th>\n",
       "      <th>7th Most Common Venue</th>\n",
       "      <th>8th Most Common Venue</th>\n",
       "      <th>9th Most Common Venue</th>\n",
       "      <th>10th Most Common Venue</th>\n",
       "    </tr>\n",
       "  </thead>\n",
       "  <tbody>\n",
       "    <tr>\n",
       "      <th>27</th>\n",
       "      <td>Downtown Toronto</td>\n",
       "      <td>Café</td>\n",
       "      <td>Sandwich Place</td>\n",
       "      <td>Bar</td>\n",
       "      <td>Japanese Restaurant</td>\n",
       "      <td>Bookstore</td>\n",
       "      <td>Bakery</td>\n",
       "      <td>Yoga Studio</td>\n",
       "      <td>Italian Restaurant</td>\n",
       "      <td>Beer Bar</td>\n",
       "      <td>Beer Store</td>\n",
       "    </tr>\n",
       "  </tbody>\n",
       "</table>\n",
       "</div>"
      ],
      "text/plain": [
       "             Borough 1st Most Common Venue 2nd Most Common Venue  \\\n",
       "27  Downtown Toronto                  Café        Sandwich Place   \n",
       "\n",
       "   3rd Most Common Venue 4th Most Common Venue 5th Most Common Venue  \\\n",
       "27                   Bar   Japanese Restaurant             Bookstore   \n",
       "\n",
       "   6th Most Common Venue 7th Most Common Venue 8th Most Common Venue  \\\n",
       "27                Bakery           Yoga Studio    Italian Restaurant   \n",
       "\n",
       "   9th Most Common Venue 10th Most Common Venue  \n",
       "27              Beer Bar             Beer Store  "
      ]
     },
     "execution_count": 38,
     "metadata": {},
     "output_type": "execute_result"
    }
   ],
   "source": [
    "cluster_5a = toronto_merged.loc[toronto_merged['Cluster Labels'] == 4,\n",
    "                                toronto_merged.columns[[1] + list(range(5, toronto_merged.shape[1]))]]\n",
    "cluster_5 = cluster_5a.drop(['Cluster Labels'], axis=1)\n",
    "cluster_5.head()"
   ]
  },
  {
   "cell_type": "code",
   "execution_count": 39,
   "metadata": {},
   "outputs": [
    {
     "data": {
      "text/html": [
       "<div style=\"width:100%;\"><div style=\"position:relative;width:100%;height:0;padding-bottom:60%;\"><span style=\"color:#565656\">Make this Notebook Trusted to load map: File -> Trust Notebook</span><iframe src=\"about:blank\" style=\"position:absolute;width:100%;height:100%;left:0;top:0;border:none !important;\" data-html=PCFET0NUWVBFIGh0bWw+CjxoZWFkPiAgICAKICAgIDxtZXRhIGh0dHAtZXF1aXY9ImNvbnRlbnQtdHlwZSIgY29udGVudD0idGV4dC9odG1sOyBjaGFyc2V0PVVURi04IiAvPgogICAgCiAgICAgICAgPHNjcmlwdD4KICAgICAgICAgICAgTF9OT19UT1VDSCA9IGZhbHNlOwogICAgICAgICAgICBMX0RJU0FCTEVfM0QgPSBmYWxzZTsKICAgICAgICA8L3NjcmlwdD4KICAgIAogICAgPHNjcmlwdCBzcmM9Imh0dHBzOi8vY2RuLmpzZGVsaXZyLm5ldC9ucG0vbGVhZmxldEAxLjYuMC9kaXN0L2xlYWZsZXQuanMiPjwvc2NyaXB0PgogICAgPHNjcmlwdCBzcmM9Imh0dHBzOi8vY29kZS5qcXVlcnkuY29tL2pxdWVyeS0xLjEyLjQubWluLmpzIj48L3NjcmlwdD4KICAgIDxzY3JpcHQgc3JjPSJodHRwczovL21heGNkbi5ib290c3RyYXBjZG4uY29tL2Jvb3RzdHJhcC8zLjIuMC9qcy9ib290c3RyYXAubWluLmpzIj48L3NjcmlwdD4KICAgIDxzY3JpcHQgc3JjPSJodHRwczovL2NkbmpzLmNsb3VkZmxhcmUuY29tL2FqYXgvbGlicy9MZWFmbGV0LmF3ZXNvbWUtbWFya2Vycy8yLjAuMi9sZWFmbGV0LmF3ZXNvbWUtbWFya2Vycy5qcyI+PC9zY3JpcHQ+CiAgICA8bGluayByZWw9InN0eWxlc2hlZXQiIGhyZWY9Imh0dHBzOi8vY2RuLmpzZGVsaXZyLm5ldC9ucG0vbGVhZmxldEAxLjYuMC9kaXN0L2xlYWZsZXQuY3NzIi8+CiAgICA8bGluayByZWw9InN0eWxlc2hlZXQiIGhyZWY9Imh0dHBzOi8vbWF4Y2RuLmJvb3RzdHJhcGNkbi5jb20vYm9vdHN0cmFwLzMuMi4wL2Nzcy9ib290c3RyYXAubWluLmNzcyIvPgogICAgPGxpbmsgcmVsPSJzdHlsZXNoZWV0IiBocmVmPSJodHRwczovL21heGNkbi5ib290c3RyYXBjZG4uY29tL2Jvb3RzdHJhcC8zLjIuMC9jc3MvYm9vdHN0cmFwLXRoZW1lLm1pbi5jc3MiLz4KICAgIDxsaW5rIHJlbD0ic3R5bGVzaGVldCIgaHJlZj0iaHR0cHM6Ly9tYXhjZG4uYm9vdHN0cmFwY2RuLmNvbS9mb250LWF3ZXNvbWUvNC42LjMvY3NzL2ZvbnQtYXdlc29tZS5taW4uY3NzIi8+CiAgICA8bGluayByZWw9InN0eWxlc2hlZXQiIGhyZWY9Imh0dHBzOi8vY2RuanMuY2xvdWRmbGFyZS5jb20vYWpheC9saWJzL0xlYWZsZXQuYXdlc29tZS1tYXJrZXJzLzIuMC4yL2xlYWZsZXQuYXdlc29tZS1tYXJrZXJzLmNzcyIvPgogICAgPGxpbmsgcmVsPSJzdHlsZXNoZWV0IiBocmVmPSJodHRwczovL3Jhd2Nkbi5naXRoYWNrLmNvbS9weXRob24tdmlzdWFsaXphdGlvbi9mb2xpdW0vbWFzdGVyL2ZvbGl1bS90ZW1wbGF0ZXMvbGVhZmxldC5hd2Vzb21lLnJvdGF0ZS5jc3MiLz4KICAgIDxzdHlsZT5odG1sLCBib2R5IHt3aWR0aDogMTAwJTtoZWlnaHQ6IDEwMCU7bWFyZ2luOiAwO3BhZGRpbmc6IDA7fTwvc3R5bGU+CiAgICA8c3R5bGU+I21hcCB7cG9zaXRpb246YWJzb2x1dGU7dG9wOjA7Ym90dG9tOjA7cmlnaHQ6MDtsZWZ0OjA7fTwvc3R5bGU+CiAgICAKICAgICAgICAgICAgPG1ldGEgbmFtZT0idmlld3BvcnQiIGNvbnRlbnQ9IndpZHRoPWRldmljZS13aWR0aCwKICAgICAgICAgICAgICAgIGluaXRpYWwtc2NhbGU9MS4wLCBtYXhpbXVtLXNjYWxlPTEuMCwgdXNlci1zY2FsYWJsZT1ubyIgLz4KICAgICAgICAgICAgPHN0eWxlPgogICAgICAgICAgICAgICAgI21hcF8wMjk4ZDFiZmNiNDA0MzExYjFhYTVhMDc4MjZkYTE5MCB7CiAgICAgICAgICAgICAgICAgICAgcG9zaXRpb246IHJlbGF0aXZlOwogICAgICAgICAgICAgICAgICAgIHdpZHRoOiAxMDAuMCU7CiAgICAgICAgICAgICAgICAgICAgaGVpZ2h0OiAxMDAuMCU7CiAgICAgICAgICAgICAgICAgICAgbGVmdDogMC4wJTsKICAgICAgICAgICAgICAgICAgICB0b3A6IDAuMCU7CiAgICAgICAgICAgICAgICB9CiAgICAgICAgICAgIDwvc3R5bGU+CiAgICAgICAgCjwvaGVhZD4KPGJvZHk+ICAgIAogICAgCiAgICAgICAgICAgIDxkaXYgY2xhc3M9ImZvbGl1bS1tYXAiIGlkPSJtYXBfMDI5OGQxYmZjYjQwNDMxMWIxYWE1YTA3ODI2ZGExOTAiID48L2Rpdj4KICAgICAgICAKPC9ib2R5Pgo8c2NyaXB0PiAgICAKICAgIAogICAgICAgICAgICB2YXIgbWFwXzAyOThkMWJmY2I0MDQzMTFiMWFhNWEwNzgyNmRhMTkwID0gTC5tYXAoCiAgICAgICAgICAgICAgICAibWFwXzAyOThkMWJmY2I0MDQzMTFiMWFhNWEwNzgyNmRhMTkwIiwKICAgICAgICAgICAgICAgIHsKICAgICAgICAgICAgICAgICAgICBjZW50ZXI6IFs0My42NTM0ODE3LCAtNzkuMzgzOTM0N10sCiAgICAgICAgICAgICAgICAgICAgY3JzOiBMLkNSUy5FUFNHMzg1NywKICAgICAgICAgICAgICAgICAgICB6b29tOiAxMSwKICAgICAgICAgICAgICAgICAgICB6b29tQ29udHJvbDogdHJ1ZSwKICAgICAgICAgICAgICAgICAgICBwcmVmZXJDYW52YXM6IGZhbHNlLAogICAgICAgICAgICAgICAgfQogICAgICAgICAgICApOwoKICAgICAgICAgICAgCgogICAgICAgIAogICAgCiAgICAgICAgICAgIHZhciB0aWxlX2xheWVyXzQ5ZGVkYTk5ZmI4MzQwNGJhNWNiMTgzYTVlNTk1ZTI0ID0gTC50aWxlTGF5ZXIoCiAgICAgICAgICAgICAgICAiaHR0cHM6Ly97c30udGlsZS5vcGVuc3RyZWV0bWFwLm9yZy97en0ve3h9L3t5fS5wbmciLAogICAgICAgICAgICAgICAgeyJhdHRyaWJ1dGlvbiI6ICJEYXRhIGJ5IFx1MDAyNmNvcHk7IFx1MDAzY2EgaHJlZj1cImh0dHA6Ly9vcGVuc3RyZWV0bWFwLm9yZ1wiXHUwMDNlT3BlblN0cmVldE1hcFx1MDAzYy9hXHUwMDNlLCB1bmRlciBcdTAwM2NhIGhyZWY9XCJodHRwOi8vd3d3Lm9wZW5zdHJlZXRtYXAub3JnL2NvcHlyaWdodFwiXHUwMDNlT0RiTFx1MDAzYy9hXHUwMDNlLiIsICJkZXRlY3RSZXRpbmEiOiBmYWxzZSwgIm1heE5hdGl2ZVpvb20iOiAxOCwgIm1heFpvb20iOiAxOCwgIm1pblpvb20iOiAwLCAibm9XcmFwIjogZmFsc2UsICJvcGFjaXR5IjogMSwgInN1YmRvbWFpbnMiOiAiYWJjIiwgInRtcyI6IGZhbHNlfQogICAgICAgICAgICApLmFkZFRvKG1hcF8wMjk4ZDFiZmNiNDA0MzExYjFhYTVhMDc4MjZkYTE5MCk7CiAgICAgICAgCiAgICAKICAgICAgICAgICAgdmFyIGNpcmNsZV9tYXJrZXJfYWFmMzYwZjg3YTQ4NDdiMGI3YmY5Y2U5NWMwZWM2ZDEgPSBMLmNpcmNsZU1hcmtlcigKICAgICAgICAgICAgICAgIFs0My42NTQyNTk5LCAtNzkuMzYwNjM1OV0sCiAgICAgICAgICAgICAgICB7ImJ1YmJsaW5nTW91c2VFdmVudHMiOiB0cnVlLCAiY29sb3IiOiAiI2ZmMDAwMCIsICJkYXNoQXJyYXkiOiBudWxsLCAiZGFzaE9mZnNldCI6IG51bGwsICJmaWxsIjogdHJ1ZSwgImZpbGxDb2xvciI6ICIjZmYwMDAwIiwgImZpbGxPcGFjaXR5IjogMC43LCAiZmlsbFJ1bGUiOiAiZXZlbm9kZCIsICJsaW5lQ2FwIjogInJvdW5kIiwgImxpbmVKb2luIjogInJvdW5kIiwgIm9wYWNpdHkiOiAxLjAsICJyYWRpdXMiOiA1LCAic3Ryb2tlIjogdHJ1ZSwgIndlaWdodCI6IDN9CiAgICAgICAgICAgICkuYWRkVG8obWFwXzAyOThkMWJmY2I0MDQzMTFiMWFhNWEwNzgyNmRhMTkwKTsKICAgICAgICAKICAgIAogICAgICAgIHZhciBwb3B1cF9iODZiODRlOTU4YTg0NTg3YTZlMTJlMmFjNmMwNmY4ZSA9IEwucG9wdXAoeyJtYXhXaWR0aCI6ICIxMDAlIn0pOwoKICAgICAgICAKICAgICAgICAgICAgdmFyIGh0bWxfYTNjMWJkMGZlODczNGQ3Y2I1NTVmODFkNjFmMTgwNzAgPSAkKGA8ZGl2IGlkPSJodG1sX2EzYzFiZDBmZTg3MzRkN2NiNTU1ZjgxZDYxZjE4MDcwIiBzdHlsZT0id2lkdGg6IDEwMC4wJTsgaGVpZ2h0OiAxMDAuMCU7Ij5Eb3dudG93biBUb3JvbnRvIENsdXN0ZXIgMDwvZGl2PmApWzBdOwogICAgICAgICAgICBwb3B1cF9iODZiODRlOTU4YTg0NTg3YTZlMTJlMmFjNmMwNmY4ZS5zZXRDb250ZW50KGh0bWxfYTNjMWJkMGZlODczNGQ3Y2I1NTVmODFkNjFmMTgwNzApOwogICAgICAgIAoKICAgICAgICBjaXJjbGVfbWFya2VyX2FhZjM2MGY4N2E0ODQ3YjBiN2JmOWNlOTVjMGVjNmQxLmJpbmRQb3B1cChwb3B1cF9iODZiODRlOTU4YTg0NTg3YTZlMTJlMmFjNmMwNmY4ZSkKICAgICAgICA7CgogICAgICAgIAogICAgCjwvc2NyaXB0Pg== onload=\"this.contentDocument.open();this.contentDocument.write(atob(this.getAttribute('data-html')));this.contentDocument.close();\" allowfullscreen webkitallowfullscreen mozallowfullscreen></iframe></div></div>"
      ],
      "text/plain": [
       "<folium.folium.Map at 0x160f1e88ec8>"
      ]
     },
     "execution_count": 39,
     "metadata": {},
     "output_type": "execute_result"
    }
   ],
   "source": [
    "map_clusters_5 = folium.Map(location=[latitude, longitude], zoom_start=11)\n",
    "\n",
    "# set color scheme for the clusters\n",
    "x = np.arange(kclusters)\n",
    "ys = [i+x+(i*x)**2 for i in range(kclusters)]\n",
    "colors_array = cm.rainbow(np.linspace(0, 1, len(ys)))\n",
    "rainbow = [colors.rgb2hex(i) for i in colors_array]\n",
    "\n",
    "# add markers to the map\n",
    "markers_colors = []\n",
    "for lat, lon, poi, cluster in zip(toronto_merged['Latitude'],\n",
    "                                  toronto_merged['Longitude'],\n",
    "                                  cluster_5['Borough'],\n",
    "                                  toronto_merged['Cluster Labels']):\n",
    "    label = folium.Popup(str(poi) + ' Cluster ' + str(cluster), parse_html=True)\n",
    "    folium.CircleMarker(\n",
    "        [lat, lon],\n",
    "        radius=5,\n",
    "        popup=label,\n",
    "        color=rainbow[cluster-1],\n",
    "        fill=True,\n",
    "        fill_color=rainbow[cluster-1],\n",
    "        fill_opacity=0.7).add_to(map_clusters_5)\n",
    "       \n",
    "map_clusters_5"
   ]
  },
  {
   "cell_type": "code",
   "execution_count": null,
   "metadata": {},
   "outputs": [],
   "source": []
  }
 ],
 "metadata": {
  "kernelspec": {
   "display_name": "Python 3",
   "language": "python",
   "name": "python3"
  },
  "language_info": {
   "codemirror_mode": {
    "name": "ipython",
    "version": 3
   },
   "file_extension": ".py",
   "mimetype": "text/x-python",
   "name": "python",
   "nbconvert_exporter": "python",
   "pygments_lexer": "ipython3",
   "version": "3.7.6"
  }
 },
 "nbformat": 4,
 "nbformat_minor": 2
}
