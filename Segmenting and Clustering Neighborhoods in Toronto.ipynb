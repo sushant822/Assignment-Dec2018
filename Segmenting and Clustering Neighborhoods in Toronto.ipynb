{
 "cells": [
  {
   "cell_type": "markdown",
   "metadata": {},
   "source": [
    "# <center>Segmenting and Clustering Neighborhoods in Toronto</center>\n",
    "### <center>by Sushant Deshpande</center>"
   ]
  },
  {
   "cell_type": "markdown",
   "metadata": {},
   "source": [
    "Let's start by importing all the libraries that will be used in this notebook"
   ]
  },
  {
   "cell_type": "code",
   "execution_count": 1,
   "metadata": {},
   "outputs": [
    {
     "name": "stdout",
     "output_type": "stream",
     "text": [
      "Libraries imported.\n"
     ]
    }
   ],
   "source": [
    "from bs4 import BeautifulSoup\n",
    "import csv\n",
    "import matplotlib as mpl\n",
    "import matplotlib.pyplot as plt\n",
    "import seaborn as sns\n",
    "import numpy as np\n",
    "import pandas as pd\n",
    "import json\n",
    "from geopy.geocoders import Nominatim\n",
    "import requests\n",
    "from pandas.io.json import json_normalize\n",
    "import matplotlib.cm as cm\n",
    "import matplotlib.colors as colors\n",
    "from sklearn.cluster import KMeans\n",
    "import folium # map rendering library\n",
    "import warnings\n",
    "warnings.filterwarnings('ignore')\n",
    "print('Libraries imported.')"
   ]
  },
  {
   "cell_type": "markdown",
   "metadata": {},
   "source": [
    "### Accessing the webpage\n",
    "Let's access the wikipedia paage that lista all the postal codes for Toronto and save it in a pandas dataframe"
   ]
  },
  {
   "cell_type": "code",
   "execution_count": 2,
   "metadata": {},
   "outputs": [
    {
     "data": {
      "text/html": [
       "<div>\n",
       "<style scoped>\n",
       "    .dataframe tbody tr th:only-of-type {\n",
       "        vertical-align: middle;\n",
       "    }\n",
       "\n",
       "    .dataframe tbody tr th {\n",
       "        vertical-align: top;\n",
       "    }\n",
       "\n",
       "    .dataframe thead th {\n",
       "        text-align: right;\n",
       "    }\n",
       "</style>\n",
       "<table border=\"1\" class=\"dataframe\">\n",
       "  <thead>\n",
       "    <tr style=\"text-align: right;\">\n",
       "      <th></th>\n",
       "      <th>Postal Code</th>\n",
       "      <th>Borough</th>\n",
       "      <th>Neighbourhood</th>\n",
       "    </tr>\n",
       "  </thead>\n",
       "  <tbody>\n",
       "    <tr>\n",
       "      <th>0</th>\n",
       "      <td>M1A</td>\n",
       "      <td>Not assigned</td>\n",
       "      <td>Not assigned</td>\n",
       "    </tr>\n",
       "    <tr>\n",
       "      <th>1</th>\n",
       "      <td>M2A</td>\n",
       "      <td>Not assigned</td>\n",
       "      <td>Not assigned</td>\n",
       "    </tr>\n",
       "    <tr>\n",
       "      <th>2</th>\n",
       "      <td>M3A</td>\n",
       "      <td>North York</td>\n",
       "      <td>Parkwoods</td>\n",
       "    </tr>\n",
       "    <tr>\n",
       "      <th>3</th>\n",
       "      <td>M4A</td>\n",
       "      <td>North York</td>\n",
       "      <td>Victoria Village</td>\n",
       "    </tr>\n",
       "    <tr>\n",
       "      <th>4</th>\n",
       "      <td>M5A</td>\n",
       "      <td>Downtown Toronto</td>\n",
       "      <td>Regent Park, Harbourfront</td>\n",
       "    </tr>\n",
       "  </tbody>\n",
       "</table>\n",
       "</div>"
      ],
      "text/plain": [
       "  Postal Code           Borough              Neighbourhood\n",
       "0         M1A      Not assigned               Not assigned\n",
       "1         M2A      Not assigned               Not assigned\n",
       "2         M3A        North York                  Parkwoods\n",
       "3         M4A        North York           Victoria Village\n",
       "4         M5A  Downtown Toronto  Regent Park, Harbourfront"
      ]
     },
     "execution_count": 2,
     "metadata": {},
     "output_type": "execute_result"
    }
   ],
   "source": [
    "url = \"https://en.wikipedia.org/wiki/List_of_postal_codes_of_Canada:_M\"\n",
    "tables = pd.read_html(url)\n",
    "table_df = tables[0]\n",
    "table_df.head()"
   ]
  },
  {
   "cell_type": "markdown",
   "metadata": {},
   "source": [
    "### Data cleanup"
   ]
  },
  {
   "cell_type": "code",
   "execution_count": 3,
   "metadata": {},
   "outputs": [
    {
     "data": {
      "text/html": [
       "<div>\n",
       "<style scoped>\n",
       "    .dataframe tbody tr th:only-of-type {\n",
       "        vertical-align: middle;\n",
       "    }\n",
       "\n",
       "    .dataframe tbody tr th {\n",
       "        vertical-align: top;\n",
       "    }\n",
       "\n",
       "    .dataframe thead th {\n",
       "        text-align: right;\n",
       "    }\n",
       "</style>\n",
       "<table border=\"1\" class=\"dataframe\">\n",
       "  <thead>\n",
       "    <tr style=\"text-align: right;\">\n",
       "      <th></th>\n",
       "      <th>PostalCode</th>\n",
       "      <th>Borough</th>\n",
       "      <th>Neighborhood</th>\n",
       "    </tr>\n",
       "  </thead>\n",
       "  <tbody>\n",
       "    <tr>\n",
       "      <th>0</th>\n",
       "      <td>M1A</td>\n",
       "      <td>Not assigned</td>\n",
       "      <td>Not assigned</td>\n",
       "    </tr>\n",
       "    <tr>\n",
       "      <th>1</th>\n",
       "      <td>M2A</td>\n",
       "      <td>Not assigned</td>\n",
       "      <td>Not assigned</td>\n",
       "    </tr>\n",
       "    <tr>\n",
       "      <th>2</th>\n",
       "      <td>M3A</td>\n",
       "      <td>North York</td>\n",
       "      <td>Parkwoods</td>\n",
       "    </tr>\n",
       "    <tr>\n",
       "      <th>3</th>\n",
       "      <td>M4A</td>\n",
       "      <td>North York</td>\n",
       "      <td>Victoria Village</td>\n",
       "    </tr>\n",
       "    <tr>\n",
       "      <th>4</th>\n",
       "      <td>M5A</td>\n",
       "      <td>Downtown Toronto</td>\n",
       "      <td>Regent Park, Harbourfront</td>\n",
       "    </tr>\n",
       "  </tbody>\n",
       "</table>\n",
       "</div>"
      ],
      "text/plain": [
       "  PostalCode           Borough               Neighborhood\n",
       "0        M1A      Not assigned               Not assigned\n",
       "1        M2A      Not assigned               Not assigned\n",
       "2        M3A        North York                  Parkwoods\n",
       "3        M4A        North York           Victoria Village\n",
       "4        M5A  Downtown Toronto  Regent Park, Harbourfront"
      ]
     },
     "execution_count": 3,
     "metadata": {},
     "output_type": "execute_result"
    }
   ],
   "source": [
    "table_df.columns = ['PostalCode', 'Borough', 'Neighborhood']\n",
    "table_df.head()"
   ]
  },
  {
   "cell_type": "markdown",
   "metadata": {},
   "source": [
    "Delete the cells that contain NaN values and reset index."
   ]
  },
  {
   "cell_type": "markdown",
   "metadata": {},
   "source": [
    "Finally, we need to get the shape of our dataframe, so I used the .shape method"
   ]
  },
  {
   "cell_type": "code",
   "execution_count": 4,
   "metadata": {},
   "outputs": [
    {
     "data": {
      "text/plain": [
       "(180, 3)"
      ]
     },
     "execution_count": 4,
     "metadata": {},
     "output_type": "execute_result"
    }
   ],
   "source": [
    "table_df.shape"
   ]
  },
  {
   "cell_type": "markdown",
   "metadata": {},
   "source": [
    "## I tried to use the Geocoder Python package, but it wasn't working for me so I went ahead with the alternate method mentioned on the submission page\n",
    "\n",
    "I downloaded the Geospatial_Coordinates.csv file and renamed the headers to PostalCode, Latitude, Longitude."
   ]
  },
  {
   "cell_type": "code",
   "execution_count": 5,
   "metadata": {
    "scrolled": true
   },
   "outputs": [
    {
     "data": {
      "text/html": [
       "<div>\n",
       "<style scoped>\n",
       "    .dataframe tbody tr th:only-of-type {\n",
       "        vertical-align: middle;\n",
       "    }\n",
       "\n",
       "    .dataframe tbody tr th {\n",
       "        vertical-align: top;\n",
       "    }\n",
       "\n",
       "    .dataframe thead th {\n",
       "        text-align: right;\n",
       "    }\n",
       "</style>\n",
       "<table border=\"1\" class=\"dataframe\">\n",
       "  <thead>\n",
       "    <tr style=\"text-align: right;\">\n",
       "      <th></th>\n",
       "      <th>PostalCode</th>\n",
       "      <th>Latitude</th>\n",
       "      <th>Longitude</th>\n",
       "    </tr>\n",
       "  </thead>\n",
       "  <tbody>\n",
       "    <tr>\n",
       "      <th>0</th>\n",
       "      <td>M1B</td>\n",
       "      <td>43.806686</td>\n",
       "      <td>-79.194353</td>\n",
       "    </tr>\n",
       "    <tr>\n",
       "      <th>1</th>\n",
       "      <td>M1C</td>\n",
       "      <td>43.784535</td>\n",
       "      <td>-79.160497</td>\n",
       "    </tr>\n",
       "    <tr>\n",
       "      <th>2</th>\n",
       "      <td>M1E</td>\n",
       "      <td>43.763573</td>\n",
       "      <td>-79.188711</td>\n",
       "    </tr>\n",
       "    <tr>\n",
       "      <th>3</th>\n",
       "      <td>M1G</td>\n",
       "      <td>43.770992</td>\n",
       "      <td>-79.216917</td>\n",
       "    </tr>\n",
       "    <tr>\n",
       "      <th>4</th>\n",
       "      <td>M1H</td>\n",
       "      <td>43.773136</td>\n",
       "      <td>-79.239476</td>\n",
       "    </tr>\n",
       "  </tbody>\n",
       "</table>\n",
       "</div>"
      ],
      "text/plain": [
       "  PostalCode   Latitude  Longitude\n",
       "0        M1B  43.806686 -79.194353\n",
       "1        M1C  43.784535 -79.160497\n",
       "2        M1E  43.763573 -79.188711\n",
       "3        M1G  43.770992 -79.216917\n",
       "4        M1H  43.773136 -79.239476"
      ]
     },
     "execution_count": 5,
     "metadata": {},
     "output_type": "execute_result"
    }
   ],
   "source": [
    "cor_df = pd.read_csv(\"data/geospatial_coordinates.csv\")\n",
    "cor_df.columns = ['PostalCode', 'Latitude', 'Longitude']\n",
    "cor_df.head()"
   ]
  },
  {
   "cell_type": "markdown",
   "metadata": {},
   "source": [
    "We need to make sure that the datatypes of Latitude and Longitude are float. So I merged the imported csv file with my final dataframe on PostalCode i.e. merge the 2 dataframes in such a way that Postal code remains the same and the Latitude and Longitude for that PostalCode anr in corresponding cells."
   ]
  },
  {
   "cell_type": "code",
   "execution_count": 6,
   "metadata": {},
   "outputs": [
    {
     "data": {
      "text/html": [
       "<div>\n",
       "<style scoped>\n",
       "    .dataframe tbody tr th:only-of-type {\n",
       "        vertical-align: middle;\n",
       "    }\n",
       "\n",
       "    .dataframe tbody tr th {\n",
       "        vertical-align: top;\n",
       "    }\n",
       "\n",
       "    .dataframe thead th {\n",
       "        text-align: right;\n",
       "    }\n",
       "</style>\n",
       "<table border=\"1\" class=\"dataframe\">\n",
       "  <thead>\n",
       "    <tr style=\"text-align: right;\">\n",
       "      <th></th>\n",
       "      <th>PostalCode</th>\n",
       "      <th>Borough</th>\n",
       "      <th>Neighborhood</th>\n",
       "      <th>Latitude</th>\n",
       "      <th>Longitude</th>\n",
       "    </tr>\n",
       "  </thead>\n",
       "  <tbody>\n",
       "    <tr>\n",
       "      <th>0</th>\n",
       "      <td>M3A</td>\n",
       "      <td>North York</td>\n",
       "      <td>Parkwoods</td>\n",
       "      <td>43.753259</td>\n",
       "      <td>-79.329656</td>\n",
       "    </tr>\n",
       "    <tr>\n",
       "      <th>1</th>\n",
       "      <td>M4A</td>\n",
       "      <td>North York</td>\n",
       "      <td>Victoria Village</td>\n",
       "      <td>43.725882</td>\n",
       "      <td>-79.315572</td>\n",
       "    </tr>\n",
       "    <tr>\n",
       "      <th>2</th>\n",
       "      <td>M5A</td>\n",
       "      <td>Downtown Toronto</td>\n",
       "      <td>Regent Park, Harbourfront</td>\n",
       "      <td>43.654260</td>\n",
       "      <td>-79.360636</td>\n",
       "    </tr>\n",
       "    <tr>\n",
       "      <th>3</th>\n",
       "      <td>M6A</td>\n",
       "      <td>North York</td>\n",
       "      <td>Lawrence Manor, Lawrence Heights</td>\n",
       "      <td>43.718518</td>\n",
       "      <td>-79.464763</td>\n",
       "    </tr>\n",
       "    <tr>\n",
       "      <th>4</th>\n",
       "      <td>M7A</td>\n",
       "      <td>Downtown Toronto</td>\n",
       "      <td>Queen's Park, Ontario Provincial Government</td>\n",
       "      <td>43.662301</td>\n",
       "      <td>-79.389494</td>\n",
       "    </tr>\n",
       "  </tbody>\n",
       "</table>\n",
       "</div>"
      ],
      "text/plain": [
       "  PostalCode           Borough                                 Neighborhood  \\\n",
       "0        M3A        North York                                    Parkwoods   \n",
       "1        M4A        North York                             Victoria Village   \n",
       "2        M5A  Downtown Toronto                    Regent Park, Harbourfront   \n",
       "3        M6A        North York             Lawrence Manor, Lawrence Heights   \n",
       "4        M7A  Downtown Toronto  Queen's Park, Ontario Provincial Government   \n",
       "\n",
       "    Latitude  Longitude  \n",
       "0  43.753259 -79.329656  \n",
       "1  43.725882 -79.315572  \n",
       "2  43.654260 -79.360636  \n",
       "3  43.718518 -79.464763  \n",
       "4  43.662301 -79.389494  "
      ]
     },
     "execution_count": 6,
     "metadata": {},
     "output_type": "execute_result"
    }
   ],
   "source": [
    "final_df = pd.merge(table_df, cor_df, on=['PostalCode'])\n",
    "final_df[['Latitude', 'Longitude']] = final_df[['Latitude', 'Longitude']].astype(float)\n",
    "final_df.head()"
   ]
  },
  {
   "cell_type": "markdown",
   "metadata": {},
   "source": [
    "Let's get the geograpical coordinate of Toronto City."
   ]
  },
  {
   "cell_type": "code",
   "execution_count": 7,
   "metadata": {},
   "outputs": [
    {
     "name": "stdout",
     "output_type": "stream",
     "text": [
      "The geograpical coordinate of Toronto City are 43.6534817, -79.3839347.\n"
     ]
    }
   ],
   "source": [
    "address = 'Toronto, ON'\n",
    "\n",
    "geolocator = Nominatim(user_agent=\"http\")\n",
    "location = geolocator.geocode(address)\n",
    "latitude = location.latitude\n",
    "longitude = location.longitude\n",
    "print('The geograpical coordinate of Toronto City are {}, {}.'.format(latitude, longitude))"
   ]
  },
  {
   "cell_type": "markdown",
   "metadata": {},
   "source": [
    "Now let's create a map of Toronto displaying our data."
   ]
  },
  {
   "cell_type": "code",
   "execution_count": 8,
   "metadata": {},
   "outputs": [
    {
     "data": {
      "text/html": [
       "<div style=\"width:100%;\"><div style=\"position:relative;width:100%;height:0;padding-bottom:60%;\"><span style=\"color:#565656\">Make this Notebook Trusted to load map: File -> Trust Notebook</span><iframe src=\"about:blank\" style=\"position:absolute;width:100%;height:100%;left:0;top:0;border:none !important;\" data-html=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 onload=\"this.contentDocument.open();this.contentDocument.write(atob(this.getAttribute('data-html')));this.contentDocument.close();\" allowfullscreen webkitallowfullscreen mozallowfullscreen></iframe></div></div>"
      ],
      "text/plain": [
       "<folium.folium.Map at 0x1a24919f28>"
      ]
     },
     "execution_count": 8,
     "metadata": {},
     "output_type": "execute_result"
    }
   ],
   "source": [
    "# create map of Toronto using latitude and longitude values\n",
    "map_toronto = folium.Map(location=[latitude, longitude], zoom_start=10)\n",
    "\n",
    "# add markers to map\n",
    "for lat, lng, borough, neighborhood in zip(final_df['Latitude'],\n",
    "                                           final_df['Longitude'],\n",
    "                                           final_df['Borough'],\n",
    "                                           final_df['Neighborhood']):\n",
    "    label = '{}, {}'.format(neighborhood, borough)\n",
    "    label = folium.Popup(label, parse_html=True)\n",
    "    folium.CircleMarker(\n",
    "        [lat, lng],\n",
    "        radius=5,\n",
    "        popup=label,\n",
    "        color='blue',\n",
    "        fill=True,\n",
    "        fill_color='#3186cc',\n",
    "        fill_opacity=0.7,\n",
    "        parse_html=False).add_to(map_toronto)  \n",
    "    \n",
    "map_toronto"
   ]
  },
  {
   "cell_type": "markdown",
   "metadata": {},
   "source": [
    "I am working with only boroughs that contain the word Toronto. So I created a new dataframe which has this data by filtering data10"
   ]
  },
  {
   "cell_type": "code",
   "execution_count": 9,
   "metadata": {},
   "outputs": [
    {
     "data": {
      "text/html": [
       "<div>\n",
       "<style scoped>\n",
       "    .dataframe tbody tr th:only-of-type {\n",
       "        vertical-align: middle;\n",
       "    }\n",
       "\n",
       "    .dataframe tbody tr th {\n",
       "        vertical-align: top;\n",
       "    }\n",
       "\n",
       "    .dataframe thead th {\n",
       "        text-align: right;\n",
       "    }\n",
       "</style>\n",
       "<table border=\"1\" class=\"dataframe\">\n",
       "  <thead>\n",
       "    <tr style=\"text-align: right;\">\n",
       "      <th></th>\n",
       "      <th>PostalCode</th>\n",
       "      <th>Borough</th>\n",
       "      <th>Neighborhood</th>\n",
       "      <th>Latitude</th>\n",
       "      <th>Longitude</th>\n",
       "    </tr>\n",
       "  </thead>\n",
       "  <tbody>\n",
       "    <tr>\n",
       "      <th>0</th>\n",
       "      <td>M5A</td>\n",
       "      <td>Downtown Toronto</td>\n",
       "      <td>Regent Park, Harbourfront</td>\n",
       "      <td>43.654260</td>\n",
       "      <td>-79.360636</td>\n",
       "    </tr>\n",
       "    <tr>\n",
       "      <th>1</th>\n",
       "      <td>M7A</td>\n",
       "      <td>Downtown Toronto</td>\n",
       "      <td>Queen's Park, Ontario Provincial Government</td>\n",
       "      <td>43.662301</td>\n",
       "      <td>-79.389494</td>\n",
       "    </tr>\n",
       "    <tr>\n",
       "      <th>2</th>\n",
       "      <td>M5B</td>\n",
       "      <td>Downtown Toronto</td>\n",
       "      <td>Garden District, Ryerson</td>\n",
       "      <td>43.657162</td>\n",
       "      <td>-79.378937</td>\n",
       "    </tr>\n",
       "    <tr>\n",
       "      <th>3</th>\n",
       "      <td>M5C</td>\n",
       "      <td>Downtown Toronto</td>\n",
       "      <td>St. James Town</td>\n",
       "      <td>43.651494</td>\n",
       "      <td>-79.375418</td>\n",
       "    </tr>\n",
       "    <tr>\n",
       "      <th>4</th>\n",
       "      <td>M4E</td>\n",
       "      <td>East Toronto</td>\n",
       "      <td>The Beaches</td>\n",
       "      <td>43.676357</td>\n",
       "      <td>-79.293031</td>\n",
       "    </tr>\n",
       "  </tbody>\n",
       "</table>\n",
       "</div>"
      ],
      "text/plain": [
       "  PostalCode           Borough                                 Neighborhood  \\\n",
       "0        M5A  Downtown Toronto                    Regent Park, Harbourfront   \n",
       "1        M7A  Downtown Toronto  Queen's Park, Ontario Provincial Government   \n",
       "2        M5B  Downtown Toronto                     Garden District, Ryerson   \n",
       "3        M5C  Downtown Toronto                               St. James Town   \n",
       "4        M4E      East Toronto                                  The Beaches   \n",
       "\n",
       "    Latitude  Longitude  \n",
       "0  43.654260 -79.360636  \n",
       "1  43.662301 -79.389494  \n",
       "2  43.657162 -79.378937  \n",
       "3  43.651494 -79.375418  \n",
       "4  43.676357 -79.293031  "
      ]
     },
     "execution_count": 9,
     "metadata": {},
     "output_type": "execute_result"
    }
   ],
   "source": [
    "toronto_df = final_df[final_df['Borough'].str.contains('Toronto')].reset_index(drop=True)\n",
    "toronto_df.head()"
   ]
  },
  {
   "cell_type": "code",
   "execution_count": 10,
   "metadata": {
    "scrolled": true
   },
   "outputs": [],
   "source": [
    "# @hidden_cell\n",
    "from config import CLIENT_ID, CLIENT_SECRET\n",
    "VERSION = '20180604'\n",
    "LIMIT = 500"
   ]
  },
  {
   "cell_type": "markdown",
   "metadata": {},
   "source": [
    "#### Let's explore the first neighborhood in our dataframe.\n",
    "\n",
    "Get the neighborhood's name."
   ]
  },
  {
   "cell_type": "code",
   "execution_count": 11,
   "metadata": {},
   "outputs": [
    {
     "data": {
      "text/plain": [
       "'Regent Park, Harbourfront'"
      ]
     },
     "execution_count": 11,
     "metadata": {},
     "output_type": "execute_result"
    }
   ],
   "source": [
    "toronto_df.loc[0, 'Neighborhood']"
   ]
  },
  {
   "cell_type": "markdown",
   "metadata": {},
   "source": [
    "Get the neighborhood's latitude and longitude values."
   ]
  },
  {
   "cell_type": "code",
   "execution_count": 12,
   "metadata": {},
   "outputs": [
    {
     "name": "stdout",
     "output_type": "stream",
     "text": [
      "Latitude and longitude values of Regent Park, Harbourfront are 43.6542599, -79.3606359.\n"
     ]
    }
   ],
   "source": [
    "neighborhood_latitude = toronto_df.loc[0, 'Latitude'] # neighborhood latitude value\n",
    "neighborhood_longitude = toronto_df.loc[0, 'Longitude'] # neighborhood longitude value\n",
    "\n",
    "neighborhood_name = toronto_df.loc[0, 'Neighborhood'] # neighborhood name\n",
    "\n",
    "print('Latitude and longitude values of {} are {}, {}.'.format(neighborhood_name, \n",
    "                                                               neighborhood_latitude, \n",
    "                                                               neighborhood_longitude))"
   ]
  },
  {
   "cell_type": "markdown",
   "metadata": {},
   "source": [
    "#### Now, let's get the top 100 venues that are in The Beaches within a radius of 500 meters.\n",
    "\n",
    "First, let's create the GET request URL."
   ]
  },
  {
   "cell_type": "code",
   "execution_count": 13,
   "metadata": {},
   "outputs": [],
   "source": [
    "LIMIT = 500\n",
    "radius = 1000\n",
    "\n",
    "url_4s = 'https://api.foursquare.com/v2/venues/explore?&client_id={}&client_secret={}&v={}&ll={},{}&radius={}&limit={}'.format(\n",
    "    CLIENT_ID, \n",
    "    CLIENT_SECRET, \n",
    "    VERSION, \n",
    "    neighborhood_latitude, \n",
    "    neighborhood_longitude, \n",
    "    radius, \n",
    "    LIMIT)"
   ]
  },
  {
   "cell_type": "markdown",
   "metadata": {},
   "source": [
    "Send the GET request.\n",
    "Let's borrow the get_category_type function from the Foursquare lab and clean the json and structure it into a pandas dataframe."
   ]
  },
  {
   "cell_type": "code",
   "execution_count": 14,
   "metadata": {},
   "outputs": [
    {
     "data": {
      "text/html": [
       "<div>\n",
       "<style scoped>\n",
       "    .dataframe tbody tr th:only-of-type {\n",
       "        vertical-align: middle;\n",
       "    }\n",
       "\n",
       "    .dataframe tbody tr th {\n",
       "        vertical-align: top;\n",
       "    }\n",
       "\n",
       "    .dataframe thead th {\n",
       "        text-align: right;\n",
       "    }\n",
       "</style>\n",
       "<table border=\"1\" class=\"dataframe\">\n",
       "  <thead>\n",
       "    <tr style=\"text-align: right;\">\n",
       "      <th></th>\n",
       "      <th>name</th>\n",
       "      <th>categories</th>\n",
       "      <th>lat</th>\n",
       "      <th>lng</th>\n",
       "    </tr>\n",
       "  </thead>\n",
       "  <tbody>\n",
       "    <tr>\n",
       "      <th>0</th>\n",
       "      <td>Roselle Desserts</td>\n",
       "      <td>Bakery</td>\n",
       "      <td>43.653447</td>\n",
       "      <td>-79.362017</td>\n",
       "    </tr>\n",
       "    <tr>\n",
       "      <th>1</th>\n",
       "      <td>Tandem Coffee</td>\n",
       "      <td>Coffee Shop</td>\n",
       "      <td>43.653559</td>\n",
       "      <td>-79.361809</td>\n",
       "    </tr>\n",
       "    <tr>\n",
       "      <th>2</th>\n",
       "      <td>Impact Kitchen</td>\n",
       "      <td>Restaurant</td>\n",
       "      <td>43.656369</td>\n",
       "      <td>-79.356980</td>\n",
       "    </tr>\n",
       "    <tr>\n",
       "      <th>3</th>\n",
       "      <td>The Distillery Historic District</td>\n",
       "      <td>Historic Site</td>\n",
       "      <td>43.650244</td>\n",
       "      <td>-79.359323</td>\n",
       "    </tr>\n",
       "    <tr>\n",
       "      <th>4</th>\n",
       "      <td>Cooper Koo Family YMCA</td>\n",
       "      <td>Distribution Center</td>\n",
       "      <td>43.653249</td>\n",
       "      <td>-79.358008</td>\n",
       "    </tr>\n",
       "  </tbody>\n",
       "</table>\n",
       "</div>"
      ],
      "text/plain": [
       "                               name           categories        lat        lng\n",
       "0                  Roselle Desserts               Bakery  43.653447 -79.362017\n",
       "1                     Tandem Coffee          Coffee Shop  43.653559 -79.361809\n",
       "2                    Impact Kitchen           Restaurant  43.656369 -79.356980\n",
       "3  The Distillery Historic District        Historic Site  43.650244 -79.359323\n",
       "4            Cooper Koo Family YMCA  Distribution Center  43.653249 -79.358008"
      ]
     },
     "execution_count": 14,
     "metadata": {},
     "output_type": "execute_result"
    }
   ],
   "source": [
    "results = requests.get(url_4s).json()\n",
    "\n",
    "# function that extracts the category of the venue\n",
    "def get_category_type(row):\n",
    "    try:\n",
    "        categories_list = row['categories']\n",
    "    except:\n",
    "        categories_list = row['venue.categories']\n",
    "        \n",
    "    if len(categories_list) == 0:\n",
    "        return None\n",
    "    else:\n",
    "        return categories_list[0]['name']\n",
    "    \n",
    "venues = results['response']['groups'][0]['items']\n",
    "nearby_venues = json_normalize(venues) # flatten JSON\n",
    "# filter columns\n",
    "filtered_columns = ['venue.name',\n",
    "                    'venue.categories',\n",
    "                    'venue.location.lat',\n",
    "                    'venue.location.lng']\n",
    "nearby_venues =nearby_venues.loc[:, filtered_columns]\n",
    "# filter the category for each row\n",
    "nearby_venues['venue.categories'] = nearby_venues.apply(get_category_type, axis=1)\n",
    "# clean columns\n",
    "nearby_venues.columns = [col.split(\".\")[-1] for col in nearby_venues.columns]\n",
    "nearby_venues.head()"
   ]
  },
  {
   "cell_type": "code",
   "execution_count": 15,
   "metadata": {},
   "outputs": [
    {
     "name": "stdout",
     "output_type": "stream",
     "text": [
      "100 venues were returned by Foursquare.\n"
     ]
    }
   ],
   "source": [
    "print('{} venues were returned by Foursquare.'.format(nearby_venues.shape[0]))"
   ]
  },
  {
   "cell_type": "markdown",
   "metadata": {},
   "source": [
    "#### Let's create a function to repeat the same process to all the neighborhoods in Toronto"
   ]
  },
  {
   "cell_type": "code",
   "execution_count": 16,
   "metadata": {},
   "outputs": [],
   "source": [
    "def getNearbyVenues(names, latitudes, longitudes, radius=500):\n",
    "    \n",
    "    venues_list=[]\n",
    "    for name, lat, lng in zip(names, latitudes, longitudes):\n",
    "        print(name)\n",
    "\n",
    "        url_4s1 = 'https://api.foursquare.com/v2/venues/explore?&client_id={}&client_secret={}&v={}&ll={},{}&radius={}&limit={}'.format(\n",
    "            CLIENT_ID, \n",
    "            CLIENT_SECRET, \n",
    "            VERSION, \n",
    "            lat, \n",
    "            lng, \n",
    "            radius, \n",
    "            LIMIT)\n",
    "\n",
    "        results = requests.get(url_4s1).json()[\"response\"]['groups'][0]['items']\n",
    "\n",
    "        venues_list.append([(\n",
    "            name, \n",
    "            lat, \n",
    "            lng, \n",
    "            v['venue']['name'], \n",
    "            v['venue']['location']['lat'], \n",
    "            v['venue']['location']['lng'],  \n",
    "            v['venue']['categories'][0]['name']) for v in results])\n",
    "\n",
    "    nearby_venues = pd.DataFrame([item for venue_list in venues_list for item in venue_list])\n",
    "    nearby_venues.columns = ['Neighborhood', \n",
    "                  'Neighborhood Latitude', \n",
    "                  'Neighborhood Longitude', \n",
    "                  'Venue', \n",
    "                  'Venue Latitude', \n",
    "                  'Venue Longitude', \n",
    "                  'Venue Category']\n",
    "    \n",
    "    return(nearby_venues)"
   ]
  },
  {
   "cell_type": "markdown",
   "metadata": {},
   "source": [
    "#### Now we write the code to run the above function on each neighborhood and create a new dataframe called toronto_venues."
   ]
  },
  {
   "cell_type": "code",
   "execution_count": 17,
   "metadata": {},
   "outputs": [
    {
     "name": "stdout",
     "output_type": "stream",
     "text": [
      "Regent Park, Harbourfront\n",
      "Queen's Park, Ontario Provincial Government\n",
      "Garden District, Ryerson\n",
      "St. James Town\n",
      "The Beaches\n",
      "Berczy Park\n",
      "Central Bay Street\n",
      "Christie\n",
      "Richmond, Adelaide, King\n",
      "Dufferin, Dovercourt Village\n",
      "Harbourfront East, Union Station, Toronto Islands\n",
      "Little Portugal, Trinity\n",
      "The Danforth West, Riverdale\n",
      "Toronto Dominion Centre, Design Exchange\n",
      "Brockton, Parkdale Village, Exhibition Place\n",
      "India Bazaar, The Beaches West\n",
      "Commerce Court, Victoria Hotel\n",
      "Studio District\n",
      "Lawrence Park\n",
      "Roselawn\n",
      "Davisville North\n",
      "Forest Hill North & West, Forest Hill Road Park\n",
      "High Park, The Junction South\n",
      "North Toronto West, Lawrence Park\n",
      "The Annex, North Midtown, Yorkville\n",
      "Parkdale, Roncesvalles\n",
      "Davisville\n",
      "University of Toronto, Harbord\n",
      "Runnymede, Swansea\n",
      "Moore Park, Summerhill East\n",
      "Kensington Market, Chinatown, Grange Park\n",
      "Summerhill West, Rathnelly, South Hill, Forest Hill SE, Deer Park\n",
      "CN Tower, King and Spadina, Railway Lands, Harbourfront West, Bathurst Quay, South Niagara, Island airport\n",
      "Rosedale\n",
      "Stn A PO Boxes\n",
      "St. James Town, Cabbagetown\n",
      "First Canadian Place, Underground city\n",
      "Church and Wellesley\n",
      "Business reply mail Processing Centre, South Central Letter Processing Plant Toronto\n"
     ]
    }
   ],
   "source": [
    "toronto_venues = getNearbyVenues(names=toronto_df['Neighborhood'],\n",
    "                                   latitudes=toronto_df['Latitude'],\n",
    "                                   longitudes=toronto_df['Longitude']\n",
    "                                  )"
   ]
  },
  {
   "cell_type": "markdown",
   "metadata": {},
   "source": [
    "#### Let's check the size of the resulting dataframe"
   ]
  },
  {
   "cell_type": "code",
   "execution_count": 18,
   "metadata": {},
   "outputs": [
    {
     "name": "stdout",
     "output_type": "stream",
     "text": [
      "(1624, 7)\n"
     ]
    },
    {
     "data": {
      "text/html": [
       "<div>\n",
       "<style scoped>\n",
       "    .dataframe tbody tr th:only-of-type {\n",
       "        vertical-align: middle;\n",
       "    }\n",
       "\n",
       "    .dataframe tbody tr th {\n",
       "        vertical-align: top;\n",
       "    }\n",
       "\n",
       "    .dataframe thead th {\n",
       "        text-align: right;\n",
       "    }\n",
       "</style>\n",
       "<table border=\"1\" class=\"dataframe\">\n",
       "  <thead>\n",
       "    <tr style=\"text-align: right;\">\n",
       "      <th></th>\n",
       "      <th>Neighborhood</th>\n",
       "      <th>Neighborhood Latitude</th>\n",
       "      <th>Neighborhood Longitude</th>\n",
       "      <th>Venue</th>\n",
       "      <th>Venue Latitude</th>\n",
       "      <th>Venue Longitude</th>\n",
       "      <th>Venue Category</th>\n",
       "    </tr>\n",
       "  </thead>\n",
       "  <tbody>\n",
       "    <tr>\n",
       "      <th>0</th>\n",
       "      <td>Regent Park, Harbourfront</td>\n",
       "      <td>43.65426</td>\n",
       "      <td>-79.360636</td>\n",
       "      <td>Roselle Desserts</td>\n",
       "      <td>43.653447</td>\n",
       "      <td>-79.362017</td>\n",
       "      <td>Bakery</td>\n",
       "    </tr>\n",
       "    <tr>\n",
       "      <th>1</th>\n",
       "      <td>Regent Park, Harbourfront</td>\n",
       "      <td>43.65426</td>\n",
       "      <td>-79.360636</td>\n",
       "      <td>Tandem Coffee</td>\n",
       "      <td>43.653559</td>\n",
       "      <td>-79.361809</td>\n",
       "      <td>Coffee Shop</td>\n",
       "    </tr>\n",
       "    <tr>\n",
       "      <th>2</th>\n",
       "      <td>Regent Park, Harbourfront</td>\n",
       "      <td>43.65426</td>\n",
       "      <td>-79.360636</td>\n",
       "      <td>Cooper Koo Family YMCA</td>\n",
       "      <td>43.653249</td>\n",
       "      <td>-79.358008</td>\n",
       "      <td>Distribution Center</td>\n",
       "    </tr>\n",
       "    <tr>\n",
       "      <th>3</th>\n",
       "      <td>Regent Park, Harbourfront</td>\n",
       "      <td>43.65426</td>\n",
       "      <td>-79.360636</td>\n",
       "      <td>Body Blitz Spa East</td>\n",
       "      <td>43.654735</td>\n",
       "      <td>-79.359874</td>\n",
       "      <td>Spa</td>\n",
       "    </tr>\n",
       "    <tr>\n",
       "      <th>4</th>\n",
       "      <td>Regent Park, Harbourfront</td>\n",
       "      <td>43.65426</td>\n",
       "      <td>-79.360636</td>\n",
       "      <td>Impact Kitchen</td>\n",
       "      <td>43.656369</td>\n",
       "      <td>-79.356980</td>\n",
       "      <td>Restaurant</td>\n",
       "    </tr>\n",
       "  </tbody>\n",
       "</table>\n",
       "</div>"
      ],
      "text/plain": [
       "                Neighborhood  Neighborhood Latitude  Neighborhood Longitude  \\\n",
       "0  Regent Park, Harbourfront               43.65426              -79.360636   \n",
       "1  Regent Park, Harbourfront               43.65426              -79.360636   \n",
       "2  Regent Park, Harbourfront               43.65426              -79.360636   \n",
       "3  Regent Park, Harbourfront               43.65426              -79.360636   \n",
       "4  Regent Park, Harbourfront               43.65426              -79.360636   \n",
       "\n",
       "                    Venue  Venue Latitude  Venue Longitude  \\\n",
       "0        Roselle Desserts       43.653447       -79.362017   \n",
       "1           Tandem Coffee       43.653559       -79.361809   \n",
       "2  Cooper Koo Family YMCA       43.653249       -79.358008   \n",
       "3     Body Blitz Spa East       43.654735       -79.359874   \n",
       "4          Impact Kitchen       43.656369       -79.356980   \n",
       "\n",
       "        Venue Category  \n",
       "0               Bakery  \n",
       "1          Coffee Shop  \n",
       "2  Distribution Center  \n",
       "3                  Spa  \n",
       "4           Restaurant  "
      ]
     },
     "execution_count": 18,
     "metadata": {},
     "output_type": "execute_result"
    }
   ],
   "source": [
    "print(toronto_venues.shape)\n",
    "toronto_venues.head()"
   ]
  },
  {
   "cell_type": "markdown",
   "metadata": {},
   "source": [
    "#### Let's check how many venues were returned for each neighborhood and find out how many unique categories can be curated from all the returned venues"
   ]
  },
  {
   "cell_type": "code",
   "execution_count": 19,
   "metadata": {},
   "outputs": [
    {
     "name": "stdout",
     "output_type": "stream",
     "text": [
      "There are 237 uniques categories.\n"
     ]
    }
   ],
   "source": [
    "toronto_venues.groupby('Neighborhood').count()\n",
    "print('There are {} uniques categories.'.format(len(toronto_venues['Venue Category'].unique())))"
   ]
  },
  {
   "cell_type": "markdown",
   "metadata": {},
   "source": [
    "### Now let's analyze each neighborhood"
   ]
  },
  {
   "cell_type": "code",
   "execution_count": 20,
   "metadata": {},
   "outputs": [
    {
     "data": {
      "text/html": [
       "<div>\n",
       "<style scoped>\n",
       "    .dataframe tbody tr th:only-of-type {\n",
       "        vertical-align: middle;\n",
       "    }\n",
       "\n",
       "    .dataframe tbody tr th {\n",
       "        vertical-align: top;\n",
       "    }\n",
       "\n",
       "    .dataframe thead th {\n",
       "        text-align: right;\n",
       "    }\n",
       "</style>\n",
       "<table border=\"1\" class=\"dataframe\">\n",
       "  <thead>\n",
       "    <tr style=\"text-align: right;\">\n",
       "      <th></th>\n",
       "      <th>Yoga Studio</th>\n",
       "      <th>Afghan Restaurant</th>\n",
       "      <th>Airport</th>\n",
       "      <th>Airport Food Court</th>\n",
       "      <th>Airport Gate</th>\n",
       "      <th>Airport Lounge</th>\n",
       "      <th>Airport Service</th>\n",
       "      <th>Airport Terminal</th>\n",
       "      <th>American Restaurant</th>\n",
       "      <th>Antique Shop</th>\n",
       "      <th>...</th>\n",
       "      <th>Theater</th>\n",
       "      <th>Theme Restaurant</th>\n",
       "      <th>Toy / Game Store</th>\n",
       "      <th>Trail</th>\n",
       "      <th>Train Station</th>\n",
       "      <th>Vegetarian / Vegan Restaurant</th>\n",
       "      <th>Video Game Store</th>\n",
       "      <th>Vietnamese Restaurant</th>\n",
       "      <th>Wine Bar</th>\n",
       "      <th>Women's Store</th>\n",
       "    </tr>\n",
       "  </thead>\n",
       "  <tbody>\n",
       "    <tr>\n",
       "      <th>0</th>\n",
       "      <td>0</td>\n",
       "      <td>0</td>\n",
       "      <td>0</td>\n",
       "      <td>0</td>\n",
       "      <td>0</td>\n",
       "      <td>0</td>\n",
       "      <td>0</td>\n",
       "      <td>0</td>\n",
       "      <td>0</td>\n",
       "      <td>0</td>\n",
       "      <td>...</td>\n",
       "      <td>0</td>\n",
       "      <td>0</td>\n",
       "      <td>0</td>\n",
       "      <td>0</td>\n",
       "      <td>0</td>\n",
       "      <td>0</td>\n",
       "      <td>0</td>\n",
       "      <td>0</td>\n",
       "      <td>0</td>\n",
       "      <td>0</td>\n",
       "    </tr>\n",
       "    <tr>\n",
       "      <th>1</th>\n",
       "      <td>0</td>\n",
       "      <td>0</td>\n",
       "      <td>0</td>\n",
       "      <td>0</td>\n",
       "      <td>0</td>\n",
       "      <td>0</td>\n",
       "      <td>0</td>\n",
       "      <td>0</td>\n",
       "      <td>0</td>\n",
       "      <td>0</td>\n",
       "      <td>...</td>\n",
       "      <td>0</td>\n",
       "      <td>0</td>\n",
       "      <td>0</td>\n",
       "      <td>0</td>\n",
       "      <td>0</td>\n",
       "      <td>0</td>\n",
       "      <td>0</td>\n",
       "      <td>0</td>\n",
       "      <td>0</td>\n",
       "      <td>0</td>\n",
       "    </tr>\n",
       "    <tr>\n",
       "      <th>2</th>\n",
       "      <td>0</td>\n",
       "      <td>0</td>\n",
       "      <td>0</td>\n",
       "      <td>0</td>\n",
       "      <td>0</td>\n",
       "      <td>0</td>\n",
       "      <td>0</td>\n",
       "      <td>0</td>\n",
       "      <td>0</td>\n",
       "      <td>0</td>\n",
       "      <td>...</td>\n",
       "      <td>0</td>\n",
       "      <td>0</td>\n",
       "      <td>0</td>\n",
       "      <td>0</td>\n",
       "      <td>0</td>\n",
       "      <td>0</td>\n",
       "      <td>0</td>\n",
       "      <td>0</td>\n",
       "      <td>0</td>\n",
       "      <td>0</td>\n",
       "    </tr>\n",
       "    <tr>\n",
       "      <th>3</th>\n",
       "      <td>0</td>\n",
       "      <td>0</td>\n",
       "      <td>0</td>\n",
       "      <td>0</td>\n",
       "      <td>0</td>\n",
       "      <td>0</td>\n",
       "      <td>0</td>\n",
       "      <td>0</td>\n",
       "      <td>0</td>\n",
       "      <td>0</td>\n",
       "      <td>...</td>\n",
       "      <td>0</td>\n",
       "      <td>0</td>\n",
       "      <td>0</td>\n",
       "      <td>0</td>\n",
       "      <td>0</td>\n",
       "      <td>0</td>\n",
       "      <td>0</td>\n",
       "      <td>0</td>\n",
       "      <td>0</td>\n",
       "      <td>0</td>\n",
       "    </tr>\n",
       "    <tr>\n",
       "      <th>4</th>\n",
       "      <td>0</td>\n",
       "      <td>0</td>\n",
       "      <td>0</td>\n",
       "      <td>0</td>\n",
       "      <td>0</td>\n",
       "      <td>0</td>\n",
       "      <td>0</td>\n",
       "      <td>0</td>\n",
       "      <td>0</td>\n",
       "      <td>0</td>\n",
       "      <td>...</td>\n",
       "      <td>0</td>\n",
       "      <td>0</td>\n",
       "      <td>0</td>\n",
       "      <td>0</td>\n",
       "      <td>0</td>\n",
       "      <td>0</td>\n",
       "      <td>0</td>\n",
       "      <td>0</td>\n",
       "      <td>0</td>\n",
       "      <td>0</td>\n",
       "    </tr>\n",
       "  </tbody>\n",
       "</table>\n",
       "<p>5 rows × 237 columns</p>\n",
       "</div>"
      ],
      "text/plain": [
       "   Yoga Studio  Afghan Restaurant  Airport  Airport Food Court  Airport Gate  \\\n",
       "0            0                  0        0                   0             0   \n",
       "1            0                  0        0                   0             0   \n",
       "2            0                  0        0                   0             0   \n",
       "3            0                  0        0                   0             0   \n",
       "4            0                  0        0                   0             0   \n",
       "\n",
       "   Airport Lounge  Airport Service  Airport Terminal  American Restaurant  \\\n",
       "0               0                0                 0                    0   \n",
       "1               0                0                 0                    0   \n",
       "2               0                0                 0                    0   \n",
       "3               0                0                 0                    0   \n",
       "4               0                0                 0                    0   \n",
       "\n",
       "   Antique Shop  ...  Theater  Theme Restaurant  Toy / Game Store  Trail  \\\n",
       "0             0  ...        0                 0                 0      0   \n",
       "1             0  ...        0                 0                 0      0   \n",
       "2             0  ...        0                 0                 0      0   \n",
       "3             0  ...        0                 0                 0      0   \n",
       "4             0  ...        0                 0                 0      0   \n",
       "\n",
       "   Train Station  Vegetarian / Vegan Restaurant  Video Game Store  \\\n",
       "0              0                              0                 0   \n",
       "1              0                              0                 0   \n",
       "2              0                              0                 0   \n",
       "3              0                              0                 0   \n",
       "4              0                              0                 0   \n",
       "\n",
       "   Vietnamese Restaurant  Wine Bar  Women's Store  \n",
       "0                      0         0              0  \n",
       "1                      0         0              0  \n",
       "2                      0         0              0  \n",
       "3                      0         0              0  \n",
       "4                      0         0              0  \n",
       "\n",
       "[5 rows x 237 columns]"
      ]
     },
     "execution_count": 20,
     "metadata": {},
     "output_type": "execute_result"
    }
   ],
   "source": [
    "# one hot encoding\n",
    "toronto_onehot = pd.get_dummies(toronto_venues[['Venue Category']], prefix=\"\", prefix_sep=\"\")\n",
    "\n",
    "# add neighborhood column back to dataframe\n",
    "toronto_onehot['Neighborhood'] = toronto_venues['Neighborhood'] \n",
    "\n",
    "# move neighborhood column to the first column\n",
    "fixed_columns = [toronto_onehot.columns[-1]] + list(toronto_onehot.columns[:-1])\n",
    "toronto_onehot = toronto_onehot[fixed_columns]\n",
    "\n",
    "toronto_onehot.head()"
   ]
  },
  {
   "cell_type": "markdown",
   "metadata": {},
   "source": [
    "#### Next, let's group rows by neighborhood and by taking the mean of the frequency of occurrence of each category and let's print each neighborhood along with the top 5 most common venues"
   ]
  },
  {
   "cell_type": "code",
   "execution_count": 21,
   "metadata": {
    "scrolled": true
   },
   "outputs": [],
   "source": [
    "toronto_grouped = toronto_onehot.groupby('Neighborhood').mean().reset_index()\n",
    "num_top_venues = 5\n",
    "\n",
    "for hood in toronto_grouped['Neighborhood']:\n",
    "    #print(\"----\"+hood+\"----\")\n",
    "    temp = toronto_grouped[toronto_grouped['Neighborhood'] == hood].T.reset_index()\n",
    "    temp.columns = ['venue','freq']\n",
    "    temp = temp.iloc[1:]\n",
    "    temp['freq'] = temp['freq'].astype(float)\n",
    "    temp = temp.round({'freq': 2})\n",
    "    #print(temp.sort_values('freq', ascending=False).reset_index(drop=True).head(num_top_venues))\n",
    "    #print('\\n')"
   ]
  },
  {
   "cell_type": "markdown",
   "metadata": {},
   "source": [
    "#### Let's put that into a pandas dataframe\n",
    "\n",
    "First, let's write a function to sort the venues in descending order."
   ]
  },
  {
   "cell_type": "code",
   "execution_count": 22,
   "metadata": {},
   "outputs": [],
   "source": [
    "def return_most_common_venues(row, num_top_venues):\n",
    "    row_categories = row.iloc[1:]\n",
    "    row_categories_sorted = row_categories.sort_values(ascending=False)\n",
    "    \n",
    "    return row_categories_sorted.index.values[0:num_top_venues]"
   ]
  },
  {
   "cell_type": "markdown",
   "metadata": {},
   "source": [
    "Now let's create the new dataframe and display the top 10 venues for each neighborhood."
   ]
  },
  {
   "cell_type": "code",
   "execution_count": 23,
   "metadata": {},
   "outputs": [
    {
     "data": {
      "text/html": [
       "<div>\n",
       "<style scoped>\n",
       "    .dataframe tbody tr th:only-of-type {\n",
       "        vertical-align: middle;\n",
       "    }\n",
       "\n",
       "    .dataframe tbody tr th {\n",
       "        vertical-align: top;\n",
       "    }\n",
       "\n",
       "    .dataframe thead th {\n",
       "        text-align: right;\n",
       "    }\n",
       "</style>\n",
       "<table border=\"1\" class=\"dataframe\">\n",
       "  <thead>\n",
       "    <tr style=\"text-align: right;\">\n",
       "      <th></th>\n",
       "      <th>Neighborhood</th>\n",
       "      <th>1st Most Common Venue</th>\n",
       "      <th>2nd Most Common Venue</th>\n",
       "      <th>3rd Most Common Venue</th>\n",
       "      <th>4th Most Common Venue</th>\n",
       "      <th>5th Most Common Venue</th>\n",
       "      <th>6th Most Common Venue</th>\n",
       "      <th>7th Most Common Venue</th>\n",
       "      <th>8th Most Common Venue</th>\n",
       "      <th>9th Most Common Venue</th>\n",
       "      <th>10th Most Common Venue</th>\n",
       "    </tr>\n",
       "  </thead>\n",
       "  <tbody>\n",
       "    <tr>\n",
       "      <th>0</th>\n",
       "      <td>Berczy Park</td>\n",
       "      <td>Coffee Shop</td>\n",
       "      <td>Bakery</td>\n",
       "      <td>Restaurant</td>\n",
       "      <td>Cheese Shop</td>\n",
       "      <td>Beer Bar</td>\n",
       "      <td>Cocktail Bar</td>\n",
       "      <td>Seafood Restaurant</td>\n",
       "      <td>Farmers Market</td>\n",
       "      <td>Breakfast Spot</td>\n",
       "      <td>Pharmacy</td>\n",
       "    </tr>\n",
       "    <tr>\n",
       "      <th>1</th>\n",
       "      <td>Brockton, Parkdale Village, Exhibition Place</td>\n",
       "      <td>Café</td>\n",
       "      <td>Breakfast Spot</td>\n",
       "      <td>Nightclub</td>\n",
       "      <td>Coffee Shop</td>\n",
       "      <td>Grocery Store</td>\n",
       "      <td>Burrito Place</td>\n",
       "      <td>Bakery</td>\n",
       "      <td>Intersection</td>\n",
       "      <td>Italian Restaurant</td>\n",
       "      <td>Restaurant</td>\n",
       "    </tr>\n",
       "    <tr>\n",
       "      <th>2</th>\n",
       "      <td>Business reply mail Processing Centre, South C...</td>\n",
       "      <td>Park</td>\n",
       "      <td>Pizza Place</td>\n",
       "      <td>Skate Park</td>\n",
       "      <td>Brewery</td>\n",
       "      <td>Burrito Place</td>\n",
       "      <td>Farmers Market</td>\n",
       "      <td>Fast Food Restaurant</td>\n",
       "      <td>Restaurant</td>\n",
       "      <td>Butcher</td>\n",
       "      <td>Recording Studio</td>\n",
       "    </tr>\n",
       "    <tr>\n",
       "      <th>3</th>\n",
       "      <td>CN Tower, King and Spadina, Railway Lands, Har...</td>\n",
       "      <td>Airport Lounge</td>\n",
       "      <td>Airport Service</td>\n",
       "      <td>Sculpture Garden</td>\n",
       "      <td>Boutique</td>\n",
       "      <td>Plane</td>\n",
       "      <td>Rental Car Location</td>\n",
       "      <td>Coffee Shop</td>\n",
       "      <td>Boat or Ferry</td>\n",
       "      <td>Harbor / Marina</td>\n",
       "      <td>Bar</td>\n",
       "    </tr>\n",
       "    <tr>\n",
       "      <th>4</th>\n",
       "      <td>Central Bay Street</td>\n",
       "      <td>Coffee Shop</td>\n",
       "      <td>Café</td>\n",
       "      <td>Sandwich Place</td>\n",
       "      <td>Italian Restaurant</td>\n",
       "      <td>Burger Joint</td>\n",
       "      <td>Department Store</td>\n",
       "      <td>Bubble Tea Shop</td>\n",
       "      <td>Thai Restaurant</td>\n",
       "      <td>Japanese Restaurant</td>\n",
       "      <td>Salad Place</td>\n",
       "    </tr>\n",
       "  </tbody>\n",
       "</table>\n",
       "</div>"
      ],
      "text/plain": [
       "                                        Neighborhood 1st Most Common Venue  \\\n",
       "0                                        Berczy Park           Coffee Shop   \n",
       "1       Brockton, Parkdale Village, Exhibition Place                  Café   \n",
       "2  Business reply mail Processing Centre, South C...                  Park   \n",
       "3  CN Tower, King and Spadina, Railway Lands, Har...        Airport Lounge   \n",
       "4                                 Central Bay Street           Coffee Shop   \n",
       "\n",
       "  2nd Most Common Venue 3rd Most Common Venue 4th Most Common Venue  \\\n",
       "0                Bakery            Restaurant           Cheese Shop   \n",
       "1        Breakfast Spot             Nightclub           Coffee Shop   \n",
       "2           Pizza Place            Skate Park               Brewery   \n",
       "3       Airport Service      Sculpture Garden              Boutique   \n",
       "4                  Café        Sandwich Place    Italian Restaurant   \n",
       "\n",
       "  5th Most Common Venue 6th Most Common Venue 7th Most Common Venue  \\\n",
       "0              Beer Bar          Cocktail Bar    Seafood Restaurant   \n",
       "1         Grocery Store         Burrito Place                Bakery   \n",
       "2         Burrito Place        Farmers Market  Fast Food Restaurant   \n",
       "3                 Plane   Rental Car Location           Coffee Shop   \n",
       "4          Burger Joint      Department Store       Bubble Tea Shop   \n",
       "\n",
       "  8th Most Common Venue 9th Most Common Venue 10th Most Common Venue  \n",
       "0        Farmers Market        Breakfast Spot               Pharmacy  \n",
       "1          Intersection    Italian Restaurant             Restaurant  \n",
       "2            Restaurant               Butcher       Recording Studio  \n",
       "3         Boat or Ferry       Harbor / Marina                    Bar  \n",
       "4       Thai Restaurant   Japanese Restaurant            Salad Place  "
      ]
     },
     "execution_count": 23,
     "metadata": {},
     "output_type": "execute_result"
    }
   ],
   "source": [
    "num_top_venues = 10\n",
    "\n",
    "indicators = ['st', 'nd', 'rd']\n",
    "\n",
    "# create columns according to number of top venues\n",
    "columns = ['Neighborhood']\n",
    "for ind in np.arange(num_top_venues):\n",
    "    try:\n",
    "        columns.append('{}{} Most Common Venue'.format(ind+1, indicators[ind]))\n",
    "    except:\n",
    "        columns.append('{}th Most Common Venue'.format(ind+1))\n",
    "\n",
    "# create a new dataframe\n",
    "neighborhoods_venues_sorted = pd.DataFrame(columns=columns)\n",
    "neighborhoods_venues_sorted['Neighborhood'] = toronto_grouped['Neighborhood']\n",
    "\n",
    "for ind in np.arange(toronto_grouped.shape[0]):\n",
    "    neighborhoods_venues_sorted.iloc[ind, 1:] = return_most_common_venues(toronto_grouped.iloc[ind, :], num_top_venues)\n",
    "\n",
    "neighborhoods_venues_sorted.head()"
   ]
  },
  {
   "cell_type": "markdown",
   "metadata": {},
   "source": [
    "## Now we cluster our neighborhoods\n",
    "\n",
    "Run k-means to cluster the neighborhood into 5 clusters."
   ]
  },
  {
   "cell_type": "code",
   "execution_count": 24,
   "metadata": {},
   "outputs": [
    {
     "data": {
      "text/plain": [
       "array([0, 0, 0, 0, 0, 0, 0, 0, 0, 0], dtype=int32)"
      ]
     },
     "execution_count": 24,
     "metadata": {},
     "output_type": "execute_result"
    }
   ],
   "source": [
    "kclusters = 5\n",
    "\n",
    "toronto_grouped_clustering = toronto_grouped.drop('Neighborhood', 1)\n",
    "\n",
    "kmeans = KMeans(n_clusters=kclusters, random_state=0).fit(toronto_grouped_clustering)\n",
    "\n",
    "kmeans.labels_[0:10]"
   ]
  },
  {
   "cell_type": "markdown",
   "metadata": {},
   "source": [
    "Let's create a new dataframe that includes the cluster as well as the top 10 venues for each neighborhood."
   ]
  },
  {
   "cell_type": "code",
   "execution_count": 25,
   "metadata": {},
   "outputs": [
    {
     "data": {
      "text/html": [
       "<div>\n",
       "<style scoped>\n",
       "    .dataframe tbody tr th:only-of-type {\n",
       "        vertical-align: middle;\n",
       "    }\n",
       "\n",
       "    .dataframe tbody tr th {\n",
       "        vertical-align: top;\n",
       "    }\n",
       "\n",
       "    .dataframe thead th {\n",
       "        text-align: right;\n",
       "    }\n",
       "</style>\n",
       "<table border=\"1\" class=\"dataframe\">\n",
       "  <thead>\n",
       "    <tr style=\"text-align: right;\">\n",
       "      <th></th>\n",
       "      <th>PostalCode</th>\n",
       "      <th>Borough</th>\n",
       "      <th>Neighborhood</th>\n",
       "      <th>Latitude</th>\n",
       "      <th>Longitude</th>\n",
       "      <th>Cluster Labels</th>\n",
       "      <th>1st Most Common Venue</th>\n",
       "      <th>2nd Most Common Venue</th>\n",
       "      <th>3rd Most Common Venue</th>\n",
       "      <th>4th Most Common Venue</th>\n",
       "      <th>5th Most Common Venue</th>\n",
       "      <th>6th Most Common Venue</th>\n",
       "      <th>7th Most Common Venue</th>\n",
       "      <th>8th Most Common Venue</th>\n",
       "      <th>9th Most Common Venue</th>\n",
       "      <th>10th Most Common Venue</th>\n",
       "    </tr>\n",
       "  </thead>\n",
       "  <tbody>\n",
       "    <tr>\n",
       "      <th>0</th>\n",
       "      <td>M5A</td>\n",
       "      <td>Downtown Toronto</td>\n",
       "      <td>Regent Park, Harbourfront</td>\n",
       "      <td>43.654260</td>\n",
       "      <td>-79.360636</td>\n",
       "      <td>0</td>\n",
       "      <td>Coffee Shop</td>\n",
       "      <td>Park</td>\n",
       "      <td>Pub</td>\n",
       "      <td>Bakery</td>\n",
       "      <td>Café</td>\n",
       "      <td>Theater</td>\n",
       "      <td>Breakfast Spot</td>\n",
       "      <td>Brewery</td>\n",
       "      <td>Spa</td>\n",
       "      <td>Beer Store</td>\n",
       "    </tr>\n",
       "    <tr>\n",
       "      <th>1</th>\n",
       "      <td>M7A</td>\n",
       "      <td>Downtown Toronto</td>\n",
       "      <td>Queen's Park, Ontario Provincial Government</td>\n",
       "      <td>43.662301</td>\n",
       "      <td>-79.389494</td>\n",
       "      <td>0</td>\n",
       "      <td>Coffee Shop</td>\n",
       "      <td>Yoga Studio</td>\n",
       "      <td>Café</td>\n",
       "      <td>Smoothie Shop</td>\n",
       "      <td>Beer Bar</td>\n",
       "      <td>Italian Restaurant</td>\n",
       "      <td>Sandwich Place</td>\n",
       "      <td>Restaurant</td>\n",
       "      <td>Distribution Center</td>\n",
       "      <td>Diner</td>\n",
       "    </tr>\n",
       "    <tr>\n",
       "      <th>2</th>\n",
       "      <td>M5B</td>\n",
       "      <td>Downtown Toronto</td>\n",
       "      <td>Garden District, Ryerson</td>\n",
       "      <td>43.657162</td>\n",
       "      <td>-79.378937</td>\n",
       "      <td>0</td>\n",
       "      <td>Coffee Shop</td>\n",
       "      <td>Clothing Store</td>\n",
       "      <td>Café</td>\n",
       "      <td>Bubble Tea Shop</td>\n",
       "      <td>Japanese Restaurant</td>\n",
       "      <td>Cosmetics Shop</td>\n",
       "      <td>Italian Restaurant</td>\n",
       "      <td>Ramen Restaurant</td>\n",
       "      <td>Furniture / Home Store</td>\n",
       "      <td>Middle Eastern Restaurant</td>\n",
       "    </tr>\n",
       "    <tr>\n",
       "      <th>3</th>\n",
       "      <td>M5C</td>\n",
       "      <td>Downtown Toronto</td>\n",
       "      <td>St. James Town</td>\n",
       "      <td>43.651494</td>\n",
       "      <td>-79.375418</td>\n",
       "      <td>0</td>\n",
       "      <td>Coffee Shop</td>\n",
       "      <td>Café</td>\n",
       "      <td>Cocktail Bar</td>\n",
       "      <td>Restaurant</td>\n",
       "      <td>Gastropub</td>\n",
       "      <td>Beer Bar</td>\n",
       "      <td>American Restaurant</td>\n",
       "      <td>Lingerie Store</td>\n",
       "      <td>Hotel</td>\n",
       "      <td>Cosmetics Shop</td>\n",
       "    </tr>\n",
       "    <tr>\n",
       "      <th>4</th>\n",
       "      <td>M4E</td>\n",
       "      <td>East Toronto</td>\n",
       "      <td>The Beaches</td>\n",
       "      <td>43.676357</td>\n",
       "      <td>-79.293031</td>\n",
       "      <td>0</td>\n",
       "      <td>Pub</td>\n",
       "      <td>Trail</td>\n",
       "      <td>Health Food Store</td>\n",
       "      <td>Women's Store</td>\n",
       "      <td>Distribution Center</td>\n",
       "      <td>Dessert Shop</td>\n",
       "      <td>Dim Sum Restaurant</td>\n",
       "      <td>Diner</td>\n",
       "      <td>Discount Store</td>\n",
       "      <td>Doner Restaurant</td>\n",
       "    </tr>\n",
       "  </tbody>\n",
       "</table>\n",
       "</div>"
      ],
      "text/plain": [
       "  PostalCode           Borough                                 Neighborhood  \\\n",
       "0        M5A  Downtown Toronto                    Regent Park, Harbourfront   \n",
       "1        M7A  Downtown Toronto  Queen's Park, Ontario Provincial Government   \n",
       "2        M5B  Downtown Toronto                     Garden District, Ryerson   \n",
       "3        M5C  Downtown Toronto                               St. James Town   \n",
       "4        M4E      East Toronto                                  The Beaches   \n",
       "\n",
       "    Latitude  Longitude  Cluster Labels 1st Most Common Venue  \\\n",
       "0  43.654260 -79.360636               0           Coffee Shop   \n",
       "1  43.662301 -79.389494               0           Coffee Shop   \n",
       "2  43.657162 -79.378937               0           Coffee Shop   \n",
       "3  43.651494 -79.375418               0           Coffee Shop   \n",
       "4  43.676357 -79.293031               0                   Pub   \n",
       "\n",
       "  2nd Most Common Venue 3rd Most Common Venue 4th Most Common Venue  \\\n",
       "0                  Park                   Pub                Bakery   \n",
       "1           Yoga Studio                  Café         Smoothie Shop   \n",
       "2        Clothing Store                  Café       Bubble Tea Shop   \n",
       "3                  Café          Cocktail Bar            Restaurant   \n",
       "4                 Trail     Health Food Store         Women's Store   \n",
       "\n",
       "  5th Most Common Venue 6th Most Common Venue 7th Most Common Venue  \\\n",
       "0                  Café               Theater        Breakfast Spot   \n",
       "1              Beer Bar    Italian Restaurant        Sandwich Place   \n",
       "2   Japanese Restaurant        Cosmetics Shop    Italian Restaurant   \n",
       "3             Gastropub              Beer Bar   American Restaurant   \n",
       "4   Distribution Center          Dessert Shop    Dim Sum Restaurant   \n",
       "\n",
       "  8th Most Common Venue   9th Most Common Venue     10th Most Common Venue  \n",
       "0               Brewery                     Spa                 Beer Store  \n",
       "1            Restaurant     Distribution Center                      Diner  \n",
       "2      Ramen Restaurant  Furniture / Home Store  Middle Eastern Restaurant  \n",
       "3        Lingerie Store                   Hotel             Cosmetics Shop  \n",
       "4                 Diner          Discount Store           Doner Restaurant  "
      ]
     },
     "execution_count": 25,
     "metadata": {},
     "output_type": "execute_result"
    }
   ],
   "source": [
    "toronto_merged = toronto_df\n",
    "\n",
    "toronto_merged['Cluster Labels'] = kmeans.labels_\n",
    "\n",
    "toronto_merged = toronto_merged.join(neighborhoods_venues_sorted.set_index('Neighborhood'), on='Neighborhood')\n",
    "\n",
    "toronto_merged.head()"
   ]
  },
  {
   "cell_type": "markdown",
   "metadata": {},
   "source": [
    "Let's visualize the resulting clusters"
   ]
  },
  {
   "cell_type": "code",
   "execution_count": 26,
   "metadata": {},
   "outputs": [
    {
     "data": {
      "text/html": [
       "<div style=\"width:100%;\"><div style=\"position:relative;width:100%;height:0;padding-bottom:60%;\"><span style=\"color:#565656\">Make this Notebook Trusted to load map: File -> Trust Notebook</span><iframe src=\"about:blank\" style=\"position:absolute;width:100%;height:100%;left:0;top:0;border:none !important;\" data-html=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 onload=\"this.contentDocument.open();this.contentDocument.write(atob(this.getAttribute('data-html')));this.contentDocument.close();\" allowfullscreen webkitallowfullscreen mozallowfullscreen></iframe></div></div>"
      ],
      "text/plain": [
       "<folium.folium.Map at 0x1a25aaf240>"
      ]
     },
     "execution_count": 26,
     "metadata": {},
     "output_type": "execute_result"
    }
   ],
   "source": [
    "map_clusters = folium.Map(location=[latitude, longitude], zoom_start=11)\n",
    "\n",
    "# set color scheme for the clusters\n",
    "x = np.arange(kclusters)\n",
    "ys = [i+x+(i*x)**2 for i in range(kclusters)]\n",
    "colors_array = cm.rainbow(np.linspace(0, 1, len(ys)))\n",
    "rainbow = [colors.rgb2hex(i) for i in colors_array]\n",
    "\n",
    "# add markers to the map\n",
    "markers_colors = []\n",
    "for lat, lon, poi, cluster in zip(toronto_merged['Latitude'],\n",
    "                                  toronto_merged['Longitude'],\n",
    "                                  toronto_merged['Neighborhood'],\n",
    "                                  toronto_merged['Cluster Labels']):\n",
    "    label = folium.Popup(str(poi) + ' Cluster ' + str(cluster), parse_html=True)\n",
    "    folium.CircleMarker(\n",
    "        [lat, lon],\n",
    "        radius=5,\n",
    "        popup=label,\n",
    "        color=rainbow[cluster-1],\n",
    "        fill=True,\n",
    "        fill_color=rainbow[cluster-1],\n",
    "        fill_opacity=0.7).add_to(map_clusters)\n",
    "       \n",
    "map_clusters"
   ]
  },
  {
   "cell_type": "markdown",
   "metadata": {},
   "source": [
    "### Cluster 1"
   ]
  },
  {
   "cell_type": "code",
   "execution_count": 27,
   "metadata": {},
   "outputs": [
    {
     "data": {
      "text/html": [
       "<div>\n",
       "<style scoped>\n",
       "    .dataframe tbody tr th:only-of-type {\n",
       "        vertical-align: middle;\n",
       "    }\n",
       "\n",
       "    .dataframe tbody tr th {\n",
       "        vertical-align: top;\n",
       "    }\n",
       "\n",
       "    .dataframe thead th {\n",
       "        text-align: right;\n",
       "    }\n",
       "</style>\n",
       "<table border=\"1\" class=\"dataframe\">\n",
       "  <thead>\n",
       "    <tr style=\"text-align: right;\">\n",
       "      <th></th>\n",
       "      <th>Borough</th>\n",
       "      <th>1st Most Common Venue</th>\n",
       "      <th>2nd Most Common Venue</th>\n",
       "      <th>3rd Most Common Venue</th>\n",
       "      <th>4th Most Common Venue</th>\n",
       "      <th>5th Most Common Venue</th>\n",
       "      <th>6th Most Common Venue</th>\n",
       "      <th>7th Most Common Venue</th>\n",
       "      <th>8th Most Common Venue</th>\n",
       "      <th>9th Most Common Venue</th>\n",
       "      <th>10th Most Common Venue</th>\n",
       "    </tr>\n",
       "  </thead>\n",
       "  <tbody>\n",
       "    <tr>\n",
       "      <th>0</th>\n",
       "      <td>Downtown Toronto</td>\n",
       "      <td>Coffee Shop</td>\n",
       "      <td>Park</td>\n",
       "      <td>Pub</td>\n",
       "      <td>Bakery</td>\n",
       "      <td>Café</td>\n",
       "      <td>Theater</td>\n",
       "      <td>Breakfast Spot</td>\n",
       "      <td>Brewery</td>\n",
       "      <td>Spa</td>\n",
       "      <td>Beer Store</td>\n",
       "    </tr>\n",
       "    <tr>\n",
       "      <th>1</th>\n",
       "      <td>Downtown Toronto</td>\n",
       "      <td>Coffee Shop</td>\n",
       "      <td>Yoga Studio</td>\n",
       "      <td>Café</td>\n",
       "      <td>Smoothie Shop</td>\n",
       "      <td>Beer Bar</td>\n",
       "      <td>Italian Restaurant</td>\n",
       "      <td>Sandwich Place</td>\n",
       "      <td>Restaurant</td>\n",
       "      <td>Distribution Center</td>\n",
       "      <td>Diner</td>\n",
       "    </tr>\n",
       "    <tr>\n",
       "      <th>2</th>\n",
       "      <td>Downtown Toronto</td>\n",
       "      <td>Coffee Shop</td>\n",
       "      <td>Clothing Store</td>\n",
       "      <td>Café</td>\n",
       "      <td>Bubble Tea Shop</td>\n",
       "      <td>Japanese Restaurant</td>\n",
       "      <td>Cosmetics Shop</td>\n",
       "      <td>Italian Restaurant</td>\n",
       "      <td>Ramen Restaurant</td>\n",
       "      <td>Furniture / Home Store</td>\n",
       "      <td>Middle Eastern Restaurant</td>\n",
       "    </tr>\n",
       "    <tr>\n",
       "      <th>3</th>\n",
       "      <td>Downtown Toronto</td>\n",
       "      <td>Coffee Shop</td>\n",
       "      <td>Café</td>\n",
       "      <td>Cocktail Bar</td>\n",
       "      <td>Restaurant</td>\n",
       "      <td>Gastropub</td>\n",
       "      <td>Beer Bar</td>\n",
       "      <td>American Restaurant</td>\n",
       "      <td>Lingerie Store</td>\n",
       "      <td>Hotel</td>\n",
       "      <td>Cosmetics Shop</td>\n",
       "    </tr>\n",
       "    <tr>\n",
       "      <th>4</th>\n",
       "      <td>East Toronto</td>\n",
       "      <td>Pub</td>\n",
       "      <td>Trail</td>\n",
       "      <td>Health Food Store</td>\n",
       "      <td>Women's Store</td>\n",
       "      <td>Distribution Center</td>\n",
       "      <td>Dessert Shop</td>\n",
       "      <td>Dim Sum Restaurant</td>\n",
       "      <td>Diner</td>\n",
       "      <td>Discount Store</td>\n",
       "      <td>Doner Restaurant</td>\n",
       "    </tr>\n",
       "  </tbody>\n",
       "</table>\n",
       "</div>"
      ],
      "text/plain": [
       "            Borough 1st Most Common Venue 2nd Most Common Venue  \\\n",
       "0  Downtown Toronto           Coffee Shop                  Park   \n",
       "1  Downtown Toronto           Coffee Shop           Yoga Studio   \n",
       "2  Downtown Toronto           Coffee Shop        Clothing Store   \n",
       "3  Downtown Toronto           Coffee Shop                  Café   \n",
       "4      East Toronto                   Pub                 Trail   \n",
       "\n",
       "  3rd Most Common Venue 4th Most Common Venue 5th Most Common Venue  \\\n",
       "0                   Pub                Bakery                  Café   \n",
       "1                  Café         Smoothie Shop              Beer Bar   \n",
       "2                  Café       Bubble Tea Shop   Japanese Restaurant   \n",
       "3          Cocktail Bar            Restaurant             Gastropub   \n",
       "4     Health Food Store         Women's Store   Distribution Center   \n",
       "\n",
       "  6th Most Common Venue 7th Most Common Venue 8th Most Common Venue  \\\n",
       "0               Theater        Breakfast Spot               Brewery   \n",
       "1    Italian Restaurant        Sandwich Place            Restaurant   \n",
       "2        Cosmetics Shop    Italian Restaurant      Ramen Restaurant   \n",
       "3              Beer Bar   American Restaurant        Lingerie Store   \n",
       "4          Dessert Shop    Dim Sum Restaurant                 Diner   \n",
       "\n",
       "    9th Most Common Venue     10th Most Common Venue  \n",
       "0                     Spa                 Beer Store  \n",
       "1     Distribution Center                      Diner  \n",
       "2  Furniture / Home Store  Middle Eastern Restaurant  \n",
       "3                   Hotel             Cosmetics Shop  \n",
       "4          Discount Store           Doner Restaurant  "
      ]
     },
     "execution_count": 27,
     "metadata": {},
     "output_type": "execute_result"
    }
   ],
   "source": [
    "cluster_1a = toronto_merged.loc[toronto_merged['Cluster Labels'] == 0,\n",
    "                                 toronto_merged.columns[[1] + list(range(5, toronto_merged.shape[1]))]]\n",
    "cluster_1 = cluster_1a.drop(['Cluster Labels'], axis=1)\n",
    "cluster_1.head()"
   ]
  },
  {
   "cell_type": "code",
   "execution_count": 28,
   "metadata": {
    "scrolled": false
   },
   "outputs": [
    {
     "data": {
      "text/html": [
       "<div style=\"width:100%;\"><div style=\"position:relative;width:100%;height:0;padding-bottom:60%;\"><span style=\"color:#565656\">Make this Notebook Trusted to load map: File -> Trust Notebook</span><iframe src=\"about:blank\" style=\"position:absolute;width:100%;height:100%;left:0;top:0;border:none !important;\" data-html=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 onload=\"this.contentDocument.open();this.contentDocument.write(atob(this.getAttribute('data-html')));this.contentDocument.close();\" allowfullscreen webkitallowfullscreen mozallowfullscreen></iframe></div></div>"
      ],
      "text/plain": [
       "<folium.folium.Map at 0x1a25b55400>"
      ]
     },
     "execution_count": 28,
     "metadata": {},
     "output_type": "execute_result"
    }
   ],
   "source": [
    "map_clusters_1 = folium.Map(location=[latitude, longitude], zoom_start=11)\n",
    "\n",
    "# set color scheme for the clusters\n",
    "x = np.arange(kclusters)\n",
    "ys = [i+x+(i*x)**2 for i in range(kclusters)]\n",
    "colors_array = cm.rainbow(np.linspace(0, 1, len(ys)))\n",
    "rainbow = [colors.rgb2hex(i) for i in colors_array]\n",
    "\n",
    "# add markers to the map\n",
    "markers_colors = []\n",
    "for lat, lon, poi, cluster in zip(toronto_merged['Latitude'],\n",
    "                                  toronto_merged['Longitude'],\n",
    "                                  cluster_1['Borough'],\n",
    "                                  toronto_merged['Cluster Labels']):\n",
    "    label = folium.Popup(str(poi) + ' Cluster ' + str(cluster), parse_html=True)\n",
    "    folium.CircleMarker(\n",
    "        [lat, lon],\n",
    "        radius=5,\n",
    "        popup=label,\n",
    "        color=rainbow[cluster-1],\n",
    "        fill=True,\n",
    "        fill_color=rainbow[cluster-1],\n",
    "        fill_opacity=0.7).add_to(map_clusters_1)\n",
    "       \n",
    "map_clusters_1"
   ]
  },
  {
   "cell_type": "markdown",
   "metadata": {},
   "source": [
    "### Cluster 2"
   ]
  },
  {
   "cell_type": "code",
   "execution_count": 29,
   "metadata": {},
   "outputs": [
    {
     "data": {
      "text/html": [
       "<div>\n",
       "<style scoped>\n",
       "    .dataframe tbody tr th:only-of-type {\n",
       "        vertical-align: middle;\n",
       "    }\n",
       "\n",
       "    .dataframe tbody tr th {\n",
       "        vertical-align: top;\n",
       "    }\n",
       "\n",
       "    .dataframe thead th {\n",
       "        text-align: right;\n",
       "    }\n",
       "</style>\n",
       "<table border=\"1\" class=\"dataframe\">\n",
       "  <thead>\n",
       "    <tr style=\"text-align: right;\">\n",
       "      <th></th>\n",
       "      <th>Borough</th>\n",
       "      <th>1st Most Common Venue</th>\n",
       "      <th>2nd Most Common Venue</th>\n",
       "      <th>3rd Most Common Venue</th>\n",
       "      <th>4th Most Common Venue</th>\n",
       "      <th>5th Most Common Venue</th>\n",
       "      <th>6th Most Common Venue</th>\n",
       "      <th>7th Most Common Venue</th>\n",
       "      <th>8th Most Common Venue</th>\n",
       "      <th>9th Most Common Venue</th>\n",
       "      <th>10th Most Common Venue</th>\n",
       "    </tr>\n",
       "  </thead>\n",
       "  <tbody>\n",
       "    <tr>\n",
       "      <th>20</th>\n",
       "      <td>Central Toronto</td>\n",
       "      <td>Park</td>\n",
       "      <td>Sandwich Place</td>\n",
       "      <td>Dance Studio</td>\n",
       "      <td>Hotel</td>\n",
       "      <td>Food &amp; Drink Shop</td>\n",
       "      <td>Dog Run</td>\n",
       "      <td>Breakfast Spot</td>\n",
       "      <td>Gym / Fitness Center</td>\n",
       "      <td>Department Store</td>\n",
       "      <td>Donut Shop</td>\n",
       "    </tr>\n",
       "  </tbody>\n",
       "</table>\n",
       "</div>"
      ],
      "text/plain": [
       "            Borough 1st Most Common Venue 2nd Most Common Venue  \\\n",
       "20  Central Toronto                  Park        Sandwich Place   \n",
       "\n",
       "   3rd Most Common Venue 4th Most Common Venue 5th Most Common Venue  \\\n",
       "20          Dance Studio                 Hotel     Food & Drink Shop   \n",
       "\n",
       "   6th Most Common Venue 7th Most Common Venue 8th Most Common Venue  \\\n",
       "20               Dog Run        Breakfast Spot  Gym / Fitness Center   \n",
       "\n",
       "   9th Most Common Venue 10th Most Common Venue  \n",
       "20      Department Store             Donut Shop  "
      ]
     },
     "execution_count": 29,
     "metadata": {},
     "output_type": "execute_result"
    }
   ],
   "source": [
    "cluster_2a = toronto_merged.loc[toronto_merged['Cluster Labels'] == 1, \n",
    "                                toronto_merged.columns[[1] + list(range(5, toronto_merged.shape[1]))]]\n",
    "cluster_2 = cluster_2a.drop(['Cluster Labels'], axis=1)\n",
    "cluster_2.head()"
   ]
  },
  {
   "cell_type": "code",
   "execution_count": 30,
   "metadata": {},
   "outputs": [
    {
     "data": {
      "text/html": [
       "<div style=\"width:100%;\"><div style=\"position:relative;width:100%;height:0;padding-bottom:60%;\"><span style=\"color:#565656\">Make this Notebook Trusted to load map: File -> Trust Notebook</span><iframe src=\"about:blank\" style=\"position:absolute;width:100%;height:100%;left:0;top:0;border:none !important;\" data-html=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 onload=\"this.contentDocument.open();this.contentDocument.write(atob(this.getAttribute('data-html')));this.contentDocument.close();\" allowfullscreen webkitallowfullscreen mozallowfullscreen></iframe></div></div>"
      ],
      "text/plain": [
       "<folium.folium.Map at 0x1a25b760b8>"
      ]
     },
     "execution_count": 30,
     "metadata": {},
     "output_type": "execute_result"
    }
   ],
   "source": [
    "map_clusters_2 = folium.Map(location=[latitude, longitude], zoom_start=11)\n",
    "\n",
    "# set color scheme for the clusters\n",
    "x = np.arange(kclusters)\n",
    "ys = [i+x+(i*x)**2 for i in range(kclusters)]\n",
    "colors_array = cm.rainbow(np.linspace(0, 1, len(ys)))\n",
    "rainbow = [colors.rgb2hex(i) for i in colors_array]\n",
    "\n",
    "# add markers to the map\n",
    "markers_colors = []\n",
    "for lat, lon, poi, cluster in zip(toronto_merged['Latitude'],\n",
    "                                  toronto_merged['Longitude'],\n",
    "                                  cluster_2['Borough'],\n",
    "                                  toronto_merged['Cluster Labels']):\n",
    "    label = folium.Popup(str(poi) + ' Cluster ' + str(cluster), parse_html=True)\n",
    "    folium.CircleMarker(\n",
    "        [lat, lon],\n",
    "        radius=5,\n",
    "        popup=label,\n",
    "        color=rainbow[cluster-1],\n",
    "        fill=True,\n",
    "        fill_color=rainbow[cluster-1],\n",
    "        fill_opacity=0.7).add_to(map_clusters_2)\n",
    "       \n",
    "map_clusters_2"
   ]
  },
  {
   "cell_type": "markdown",
   "metadata": {},
   "source": [
    "### Cluster 3"
   ]
  },
  {
   "cell_type": "code",
   "execution_count": 31,
   "metadata": {},
   "outputs": [
    {
     "data": {
      "text/html": [
       "<div>\n",
       "<style scoped>\n",
       "    .dataframe tbody tr th:only-of-type {\n",
       "        vertical-align: middle;\n",
       "    }\n",
       "\n",
       "    .dataframe tbody tr th {\n",
       "        vertical-align: top;\n",
       "    }\n",
       "\n",
       "    .dataframe thead th {\n",
       "        text-align: right;\n",
       "    }\n",
       "</style>\n",
       "<table border=\"1\" class=\"dataframe\">\n",
       "  <thead>\n",
       "    <tr style=\"text-align: right;\">\n",
       "      <th></th>\n",
       "      <th>Borough</th>\n",
       "      <th>1st Most Common Venue</th>\n",
       "      <th>2nd Most Common Venue</th>\n",
       "      <th>3rd Most Common Venue</th>\n",
       "      <th>4th Most Common Venue</th>\n",
       "      <th>5th Most Common Venue</th>\n",
       "      <th>6th Most Common Venue</th>\n",
       "      <th>7th Most Common Venue</th>\n",
       "      <th>8th Most Common Venue</th>\n",
       "      <th>9th Most Common Venue</th>\n",
       "      <th>10th Most Common Venue</th>\n",
       "    </tr>\n",
       "  </thead>\n",
       "  <tbody>\n",
       "    <tr>\n",
       "      <th>12</th>\n",
       "      <td>East Toronto</td>\n",
       "      <td>Greek Restaurant</td>\n",
       "      <td>Coffee Shop</td>\n",
       "      <td>Italian Restaurant</td>\n",
       "      <td>Restaurant</td>\n",
       "      <td>Furniture / Home Store</td>\n",
       "      <td>Bookstore</td>\n",
       "      <td>Ice Cream Shop</td>\n",
       "      <td>Pub</td>\n",
       "      <td>Pizza Place</td>\n",
       "      <td>Lounge</td>\n",
       "    </tr>\n",
       "    <tr>\n",
       "      <th>26</th>\n",
       "      <td>Central Toronto</td>\n",
       "      <td>Sandwich Place</td>\n",
       "      <td>Dessert Shop</td>\n",
       "      <td>Pizza Place</td>\n",
       "      <td>Gym</td>\n",
       "      <td>Italian Restaurant</td>\n",
       "      <td>Sushi Restaurant</td>\n",
       "      <td>Café</td>\n",
       "      <td>Coffee Shop</td>\n",
       "      <td>Toy / Game Store</td>\n",
       "      <td>Indoor Play Area</td>\n",
       "    </tr>\n",
       "  </tbody>\n",
       "</table>\n",
       "</div>"
      ],
      "text/plain": [
       "            Borough 1st Most Common Venue 2nd Most Common Venue  \\\n",
       "12     East Toronto      Greek Restaurant           Coffee Shop   \n",
       "26  Central Toronto        Sandwich Place          Dessert Shop   \n",
       "\n",
       "   3rd Most Common Venue 4th Most Common Venue   5th Most Common Venue  \\\n",
       "12    Italian Restaurant            Restaurant  Furniture / Home Store   \n",
       "26           Pizza Place                   Gym      Italian Restaurant   \n",
       "\n",
       "   6th Most Common Venue 7th Most Common Venue 8th Most Common Venue  \\\n",
       "12             Bookstore        Ice Cream Shop                   Pub   \n",
       "26      Sushi Restaurant                  Café           Coffee Shop   \n",
       "\n",
       "   9th Most Common Venue 10th Most Common Venue  \n",
       "12           Pizza Place                 Lounge  \n",
       "26      Toy / Game Store       Indoor Play Area  "
      ]
     },
     "execution_count": 31,
     "metadata": {},
     "output_type": "execute_result"
    }
   ],
   "source": [
    "cluster_3a = toronto_merged.loc[toronto_merged['Cluster Labels'] == 2,\n",
    "                                toronto_merged.columns[[1] + list(range(5, toronto_merged.shape[1]))]]\n",
    "cluster_3 = cluster_3a.drop(['Cluster Labels'], axis=1)\n",
    "cluster_3.head()"
   ]
  },
  {
   "cell_type": "code",
   "execution_count": 32,
   "metadata": {},
   "outputs": [
    {
     "data": {
      "text/html": [
       "<div style=\"width:100%;\"><div style=\"position:relative;width:100%;height:0;padding-bottom:60%;\"><span style=\"color:#565656\">Make this Notebook Trusted to load map: File -> Trust Notebook</span><iframe src=\"about:blank\" style=\"position:absolute;width:100%;height:100%;left:0;top:0;border:none !important;\" data-html=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 onload=\"this.contentDocument.open();this.contentDocument.write(atob(this.getAttribute('data-html')));this.contentDocument.close();\" allowfullscreen webkitallowfullscreen mozallowfullscreen></iframe></div></div>"
      ],
      "text/plain": [
       "<folium.folium.Map at 0x1a25b7c128>"
      ]
     },
     "execution_count": 32,
     "metadata": {},
     "output_type": "execute_result"
    }
   ],
   "source": [
    "map_clusters_3 = folium.Map(location=[latitude, longitude], zoom_start=11)\n",
    "\n",
    "# set color scheme for the clusters\n",
    "x = np.arange(kclusters)\n",
    "ys = [i+x+(i*x)**2 for i in range(kclusters)]\n",
    "colors_array = cm.rainbow(np.linspace(0, 1, len(ys)))\n",
    "rainbow = [colors.rgb2hex(i) for i in colors_array]\n",
    "\n",
    "# add markers to the map\n",
    "markers_colors = []\n",
    "for lat, lon, poi, cluster in zip(toronto_merged['Latitude'],\n",
    "                                  toronto_merged['Longitude'],\n",
    "                                  cluster_3['Borough'],\n",
    "                                  toronto_merged['Cluster Labels']):\n",
    "    label = folium.Popup(str(poi) + ' Cluster ' + str(cluster), parse_html=True)\n",
    "    folium.CircleMarker(\n",
    "        [lat, lon],\n",
    "        radius=5,\n",
    "        popup=label,\n",
    "        color=rainbow[cluster-1],\n",
    "        fill=True,\n",
    "        fill_color=rainbow[cluster-1],\n",
    "        fill_opacity=0.7).add_to(map_clusters_3)\n",
    "       \n",
    "map_clusters_3"
   ]
  },
  {
   "cell_type": "markdown",
   "metadata": {},
   "source": [
    "### Cluster 4"
   ]
  },
  {
   "cell_type": "code",
   "execution_count": 33,
   "metadata": {},
   "outputs": [
    {
     "data": {
      "text/html": [
       "<div>\n",
       "<style scoped>\n",
       "    .dataframe tbody tr th:only-of-type {\n",
       "        vertical-align: middle;\n",
       "    }\n",
       "\n",
       "    .dataframe tbody tr th {\n",
       "        vertical-align: top;\n",
       "    }\n",
       "\n",
       "    .dataframe thead th {\n",
       "        text-align: right;\n",
       "    }\n",
       "</style>\n",
       "<table border=\"1\" class=\"dataframe\">\n",
       "  <thead>\n",
       "    <tr style=\"text-align: right;\">\n",
       "      <th></th>\n",
       "      <th>Borough</th>\n",
       "      <th>1st Most Common Venue</th>\n",
       "      <th>2nd Most Common Venue</th>\n",
       "      <th>3rd Most Common Venue</th>\n",
       "      <th>4th Most Common Venue</th>\n",
       "      <th>5th Most Common Venue</th>\n",
       "      <th>6th Most Common Venue</th>\n",
       "      <th>7th Most Common Venue</th>\n",
       "      <th>8th Most Common Venue</th>\n",
       "      <th>9th Most Common Venue</th>\n",
       "      <th>10th Most Common Venue</th>\n",
       "    </tr>\n",
       "  </thead>\n",
       "  <tbody>\n",
       "    <tr>\n",
       "      <th>27</th>\n",
       "      <td>Downtown Toronto</td>\n",
       "      <td>Café</td>\n",
       "      <td>Bookstore</td>\n",
       "      <td>Japanese Restaurant</td>\n",
       "      <td>Sandwich Place</td>\n",
       "      <td>Bar</td>\n",
       "      <td>Bakery</td>\n",
       "      <td>Beer Bar</td>\n",
       "      <td>Beer Store</td>\n",
       "      <td>Italian Restaurant</td>\n",
       "      <td>Comfort Food Restaurant</td>\n",
       "    </tr>\n",
       "  </tbody>\n",
       "</table>\n",
       "</div>"
      ],
      "text/plain": [
       "             Borough 1st Most Common Venue 2nd Most Common Venue  \\\n",
       "27  Downtown Toronto                  Café             Bookstore   \n",
       "\n",
       "   3rd Most Common Venue 4th Most Common Venue 5th Most Common Venue  \\\n",
       "27   Japanese Restaurant        Sandwich Place                   Bar   \n",
       "\n",
       "   6th Most Common Venue 7th Most Common Venue 8th Most Common Venue  \\\n",
       "27                Bakery              Beer Bar            Beer Store   \n",
       "\n",
       "   9th Most Common Venue   10th Most Common Venue  \n",
       "27    Italian Restaurant  Comfort Food Restaurant  "
      ]
     },
     "execution_count": 33,
     "metadata": {},
     "output_type": "execute_result"
    }
   ],
   "source": [
    "cluster_4a = toronto_merged.loc[toronto_merged['Cluster Labels'] == 3,\n",
    "                                toronto_merged.columns[[1] + list(range(5, toronto_merged.shape[1]))]]\n",
    "cluster_4 = cluster_4a.drop(['Cluster Labels'], axis=1)\n",
    "cluster_4.head()"
   ]
  },
  {
   "cell_type": "code",
   "execution_count": 34,
   "metadata": {},
   "outputs": [
    {
     "data": {
      "text/html": [
       "<div style=\"width:100%;\"><div style=\"position:relative;width:100%;height:0;padding-bottom:60%;\"><span style=\"color:#565656\">Make this Notebook Trusted to load map: File -> Trust Notebook</span><iframe src=\"about:blank\" style=\"position:absolute;width:100%;height:100%;left:0;top:0;border:none !important;\" data-html=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 onload=\"this.contentDocument.open();this.contentDocument.write(atob(this.getAttribute('data-html')));this.contentDocument.close();\" allowfullscreen webkitallowfullscreen mozallowfullscreen></iframe></div></div>"
      ],
      "text/plain": [
       "<folium.folium.Map at 0x1a25bb7400>"
      ]
     },
     "execution_count": 34,
     "metadata": {},
     "output_type": "execute_result"
    }
   ],
   "source": [
    "map_clusters_4 = folium.Map(location=[latitude, longitude], zoom_start=11)\n",
    "\n",
    "# set color scheme for the clusters\n",
    "x = np.arange(kclusters)\n",
    "ys = [i+x+(i*x)**2 for i in range(kclusters)]\n",
    "colors_array = cm.rainbow(np.linspace(0, 1, len(ys)))\n",
    "rainbow = [colors.rgb2hex(i) for i in colors_array]\n",
    "\n",
    "# add markers to the map\n",
    "markers_colors = []\n",
    "for lat, lon, poi, cluster in zip(toronto_merged['Latitude'],\n",
    "                                  toronto_merged['Longitude'],\n",
    "                                  cluster_4['Borough'],\n",
    "                                  toronto_merged['Cluster Labels']):\n",
    "    label = folium.Popup(str(poi) + ' Cluster ' + str(cluster), parse_html=True)\n",
    "    folium.CircleMarker(\n",
    "        [lat, lon],\n",
    "        radius=5,\n",
    "        popup=label,\n",
    "        color=rainbow[cluster-1],\n",
    "        fill=True,\n",
    "        fill_color=rainbow[cluster-1],\n",
    "        fill_opacity=0.7).add_to(map_clusters_4)\n",
    "       \n",
    "map_clusters_4"
   ]
  },
  {
   "cell_type": "markdown",
   "metadata": {},
   "source": [
    "### Cluster 5"
   ]
  },
  {
   "cell_type": "code",
   "execution_count": 35,
   "metadata": {},
   "outputs": [
    {
     "data": {
      "text/html": [
       "<div>\n",
       "<style scoped>\n",
       "    .dataframe tbody tr th:only-of-type {\n",
       "        vertical-align: middle;\n",
       "    }\n",
       "\n",
       "    .dataframe tbody tr th {\n",
       "        vertical-align: top;\n",
       "    }\n",
       "\n",
       "    .dataframe thead th {\n",
       "        text-align: right;\n",
       "    }\n",
       "</style>\n",
       "<table border=\"1\" class=\"dataframe\">\n",
       "  <thead>\n",
       "    <tr style=\"text-align: right;\">\n",
       "      <th></th>\n",
       "      <th>Borough</th>\n",
       "      <th>1st Most Common Venue</th>\n",
       "      <th>2nd Most Common Venue</th>\n",
       "      <th>3rd Most Common Venue</th>\n",
       "      <th>4th Most Common Venue</th>\n",
       "      <th>5th Most Common Venue</th>\n",
       "      <th>6th Most Common Venue</th>\n",
       "      <th>7th Most Common Venue</th>\n",
       "      <th>8th Most Common Venue</th>\n",
       "      <th>9th Most Common Venue</th>\n",
       "      <th>10th Most Common Venue</th>\n",
       "    </tr>\n",
       "  </thead>\n",
       "  <tbody>\n",
       "    <tr>\n",
       "      <th>18</th>\n",
       "      <td>Central Toronto</td>\n",
       "      <td>Park</td>\n",
       "      <td>Swim School</td>\n",
       "      <td>Bus Line</td>\n",
       "      <td>Electronics Store</td>\n",
       "      <td>Eastern European Restaurant</td>\n",
       "      <td>Dumpling Restaurant</td>\n",
       "      <td>Donut Shop</td>\n",
       "      <td>Doner Restaurant</td>\n",
       "      <td>Dog Run</td>\n",
       "      <td>Distribution Center</td>\n",
       "    </tr>\n",
       "  </tbody>\n",
       "</table>\n",
       "</div>"
      ],
      "text/plain": [
       "            Borough 1st Most Common Venue 2nd Most Common Venue  \\\n",
       "18  Central Toronto                  Park           Swim School   \n",
       "\n",
       "   3rd Most Common Venue 4th Most Common Venue        5th Most Common Venue  \\\n",
       "18              Bus Line     Electronics Store  Eastern European Restaurant   \n",
       "\n",
       "   6th Most Common Venue 7th Most Common Venue 8th Most Common Venue  \\\n",
       "18   Dumpling Restaurant            Donut Shop      Doner Restaurant   \n",
       "\n",
       "   9th Most Common Venue 10th Most Common Venue  \n",
       "18               Dog Run    Distribution Center  "
      ]
     },
     "execution_count": 35,
     "metadata": {},
     "output_type": "execute_result"
    }
   ],
   "source": [
    "cluster_5a = toronto_merged.loc[toronto_merged['Cluster Labels'] == 4,\n",
    "                                toronto_merged.columns[[1] + list(range(5, toronto_merged.shape[1]))]]\n",
    "cluster_5 = cluster_5a.drop(['Cluster Labels'], axis=1)\n",
    "cluster_5.head()"
   ]
  },
  {
   "cell_type": "code",
   "execution_count": 36,
   "metadata": {},
   "outputs": [
    {
     "data": {
      "text/html": [
       "<div style=\"width:100%;\"><div style=\"position:relative;width:100%;height:0;padding-bottom:60%;\"><span style=\"color:#565656\">Make this Notebook Trusted to load map: File -> Trust Notebook</span><iframe src=\"about:blank\" style=\"position:absolute;width:100%;height:100%;left:0;top:0;border:none !important;\" data-html=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 onload=\"this.contentDocument.open();this.contentDocument.write(atob(this.getAttribute('data-html')));this.contentDocument.close();\" allowfullscreen webkitallowfullscreen mozallowfullscreen></iframe></div></div>"
      ],
      "text/plain": [
       "<folium.folium.Map at 0x1a25b21828>"
      ]
     },
     "execution_count": 36,
     "metadata": {},
     "output_type": "execute_result"
    }
   ],
   "source": [
    "map_clusters_5 = folium.Map(location=[latitude, longitude], zoom_start=11)\n",
    "\n",
    "# set color scheme for the clusters\n",
    "x = np.arange(kclusters)\n",
    "ys = [i+x+(i*x)**2 for i in range(kclusters)]\n",
    "colors_array = cm.rainbow(np.linspace(0, 1, len(ys)))\n",
    "rainbow = [colors.rgb2hex(i) for i in colors_array]\n",
    "\n",
    "# add markers to the map\n",
    "markers_colors = []\n",
    "for lat, lon, poi, cluster in zip(toronto_merged['Latitude'],\n",
    "                                  toronto_merged['Longitude'],\n",
    "                                  cluster_5['Borough'],\n",
    "                                  toronto_merged['Cluster Labels']):\n",
    "    label = folium.Popup(str(poi) + ' Cluster ' + str(cluster), parse_html=True)\n",
    "    folium.CircleMarker(\n",
    "        [lat, lon],\n",
    "        radius=5,\n",
    "        popup=label,\n",
    "        color=rainbow[cluster-1],\n",
    "        fill=True,\n",
    "        fill_color=rainbow[cluster-1],\n",
    "        fill_opacity=0.7).add_to(map_clusters_5)\n",
    "       \n",
    "map_clusters_5"
   ]
  },
  {
   "cell_type": "code",
   "execution_count": null,
   "metadata": {},
   "outputs": [],
   "source": []
  }
 ],
 "metadata": {
  "kernelspec": {
   "display_name": "Python 3",
   "language": "python",
   "name": "python3"
  },
  "language_info": {
   "codemirror_mode": {
    "name": "ipython",
    "version": 3
   },
   "file_extension": ".py",
   "mimetype": "text/x-python",
   "name": "python",
   "nbconvert_exporter": "python",
   "pygments_lexer": "ipython3",
   "version": "3.7.3"
  }
 },
 "nbformat": 4,
 "nbformat_minor": 2
}
