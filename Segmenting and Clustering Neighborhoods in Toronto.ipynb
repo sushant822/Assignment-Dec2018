{
 "cells": [
  {
   "cell_type": "markdown",
   "metadata": {},
   "source": [
    "# <center>Segmenting and Clustering Neighborhoods in Toronto</center>\n",
    "\n",
    "### <center>by Sushant Deshpande</center>"
   ]
  },
  {
   "cell_type": "markdown",
   "metadata": {},
   "source": [
    "Let's start by importing all the libraries that will be used in this notebook"
   ]
  },
  {
   "cell_type": "code",
   "execution_count": 1,
   "metadata": {},
   "outputs": [
    {
     "name": "stdout",
     "output_type": "stream",
     "text": [
      "Libraries imported.\n"
     ]
    }
   ],
   "source": [
    "from bs4 import BeautifulSoup\n",
    "import csv\n",
    "import matplotlib as mpl\n",
    "import matplotlib.pyplot as plt\n",
    "import seaborn as sns\n",
    "import numpy as np\n",
    "import pandas as pd\n",
    "import json\n",
    "from geopy.geocoders import Nominatim\n",
    "import requests\n",
    "from pandas.io.json import json_normalize\n",
    "import matplotlib.cm as cm\n",
    "import matplotlib.colors as colors\n",
    "from sklearn.cluster import KMeans\n",
    "import folium # map rendering library\n",
    "import warnings\n",
    "warnings.filterwarnings('ignore')\n",
    "print('Libraries imported.')"
   ]
  },
  {
   "cell_type": "markdown",
   "metadata": {},
   "source": [
    "### Accessing the webpage\n",
    "Let's access the wikipedia paage that lista all the postal codes for Toronto and save it in a pandas dataframe"
   ]
  },
  {
   "cell_type": "code",
   "execution_count": 2,
   "metadata": {},
   "outputs": [
    {
     "data": {
      "text/html": [
       "<div>\n",
       "<style scoped>\n",
       "    .dataframe tbody tr th:only-of-type {\n",
       "        vertical-align: middle;\n",
       "    }\n",
       "\n",
       "    .dataframe tbody tr th {\n",
       "        vertical-align: top;\n",
       "    }\n",
       "\n",
       "    .dataframe thead th {\n",
       "        text-align: right;\n",
       "    }\n",
       "</style>\n",
       "<table border=\"1\" class=\"dataframe\">\n",
       "  <thead>\n",
       "    <tr style=\"text-align: right;\">\n",
       "      <th></th>\n",
       "      <th>Postal Code</th>\n",
       "      <th>Borough</th>\n",
       "      <th>Neighbourhood</th>\n",
       "    </tr>\n",
       "  </thead>\n",
       "  <tbody>\n",
       "    <tr>\n",
       "      <th>0</th>\n",
       "      <td>M1A</td>\n",
       "      <td>Not assigned</td>\n",
       "      <td>Not assigned</td>\n",
       "    </tr>\n",
       "    <tr>\n",
       "      <th>1</th>\n",
       "      <td>M2A</td>\n",
       "      <td>Not assigned</td>\n",
       "      <td>Not assigned</td>\n",
       "    </tr>\n",
       "    <tr>\n",
       "      <th>2</th>\n",
       "      <td>M3A</td>\n",
       "      <td>North York</td>\n",
       "      <td>Parkwoods</td>\n",
       "    </tr>\n",
       "    <tr>\n",
       "      <th>3</th>\n",
       "      <td>M4A</td>\n",
       "      <td>North York</td>\n",
       "      <td>Victoria Village</td>\n",
       "    </tr>\n",
       "    <tr>\n",
       "      <th>4</th>\n",
       "      <td>M5A</td>\n",
       "      <td>Downtown Toronto</td>\n",
       "      <td>Regent Park, Harbourfront</td>\n",
       "    </tr>\n",
       "  </tbody>\n",
       "</table>\n",
       "</div>"
      ],
      "text/plain": [
       "  Postal Code           Borough              Neighbourhood\n",
       "0         M1A      Not assigned               Not assigned\n",
       "1         M2A      Not assigned               Not assigned\n",
       "2         M3A        North York                  Parkwoods\n",
       "3         M4A        North York           Victoria Village\n",
       "4         M5A  Downtown Toronto  Regent Park, Harbourfront"
      ]
     },
     "execution_count": 2,
     "metadata": {},
     "output_type": "execute_result"
    }
   ],
   "source": [
    "url = \"https://en.wikipedia.org/wiki/List_of_postal_codes_of_Canada:_M\"\n",
    "tables = pd.read_html(url)\n",
    "table_df = tables[0]\n",
    "table_df.head()"
   ]
  },
  {
   "cell_type": "markdown",
   "metadata": {},
   "source": [
    "### Data cleanup"
   ]
  },
  {
   "cell_type": "code",
   "execution_count": 3,
   "metadata": {},
   "outputs": [
    {
     "data": {
      "text/html": [
       "<div>\n",
       "<style scoped>\n",
       "    .dataframe tbody tr th:only-of-type {\n",
       "        vertical-align: middle;\n",
       "    }\n",
       "\n",
       "    .dataframe tbody tr th {\n",
       "        vertical-align: top;\n",
       "    }\n",
       "\n",
       "    .dataframe thead th {\n",
       "        text-align: right;\n",
       "    }\n",
       "</style>\n",
       "<table border=\"1\" class=\"dataframe\">\n",
       "  <thead>\n",
       "    <tr style=\"text-align: right;\">\n",
       "      <th></th>\n",
       "      <th>PostalCode</th>\n",
       "      <th>Borough</th>\n",
       "      <th>Neighborhood</th>\n",
       "    </tr>\n",
       "  </thead>\n",
       "  <tbody>\n",
       "    <tr>\n",
       "      <th>0</th>\n",
       "      <td>M1A</td>\n",
       "      <td>Not assigned</td>\n",
       "      <td>Not assigned</td>\n",
       "    </tr>\n",
       "    <tr>\n",
       "      <th>1</th>\n",
       "      <td>M2A</td>\n",
       "      <td>Not assigned</td>\n",
       "      <td>Not assigned</td>\n",
       "    </tr>\n",
       "    <tr>\n",
       "      <th>2</th>\n",
       "      <td>M3A</td>\n",
       "      <td>North York</td>\n",
       "      <td>Parkwoods</td>\n",
       "    </tr>\n",
       "    <tr>\n",
       "      <th>3</th>\n",
       "      <td>M4A</td>\n",
       "      <td>North York</td>\n",
       "      <td>Victoria Village</td>\n",
       "    </tr>\n",
       "    <tr>\n",
       "      <th>4</th>\n",
       "      <td>M5A</td>\n",
       "      <td>Downtown Toronto</td>\n",
       "      <td>Regent Park, Harbourfront</td>\n",
       "    </tr>\n",
       "  </tbody>\n",
       "</table>\n",
       "</div>"
      ],
      "text/plain": [
       "  PostalCode           Borough               Neighborhood\n",
       "0        M1A      Not assigned               Not assigned\n",
       "1        M2A      Not assigned               Not assigned\n",
       "2        M3A        North York                  Parkwoods\n",
       "3        M4A        North York           Victoria Village\n",
       "4        M5A  Downtown Toronto  Regent Park, Harbourfront"
      ]
     },
     "execution_count": 3,
     "metadata": {},
     "output_type": "execute_result"
    }
   ],
   "source": [
    "table_df.columns = ['PostalCode', 'Borough', 'Neighborhood']\n",
    "table_df.head()"
   ]
  },
  {
   "cell_type": "markdown",
   "metadata": {},
   "source": [
    "Delete the cells that contain NaN values and reset index."
   ]
  },
  {
   "cell_type": "markdown",
   "metadata": {},
   "source": [
    "Finally, we need to get the shape of our dataframe, so I used the .shape method"
   ]
  },
  {
   "cell_type": "code",
   "execution_count": 4,
   "metadata": {},
   "outputs": [
    {
     "data": {
      "text/plain": [
       "(180, 3)"
      ]
     },
     "execution_count": 4,
     "metadata": {},
     "output_type": "execute_result"
    }
   ],
   "source": [
    "table_df.shape"
   ]
  },
  {
   "cell_type": "markdown",
   "metadata": {},
   "source": [
    "## I tried to use the Geocoder Python package, but it wasn't working for me so I went ahead with the alternate method mentioned on the submission page\n",
    "\n",
    "I downloaded the Geospatial_Coordinates.csv file and renamed the headers to PostalCode, Latitude, Longitude."
   ]
  },
  {
   "cell_type": "code",
   "execution_count": 5,
   "metadata": {
    "scrolled": true
   },
   "outputs": [
    {
     "data": {
      "text/html": [
       "<div>\n",
       "<style scoped>\n",
       "    .dataframe tbody tr th:only-of-type {\n",
       "        vertical-align: middle;\n",
       "    }\n",
       "\n",
       "    .dataframe tbody tr th {\n",
       "        vertical-align: top;\n",
       "    }\n",
       "\n",
       "    .dataframe thead th {\n",
       "        text-align: right;\n",
       "    }\n",
       "</style>\n",
       "<table border=\"1\" class=\"dataframe\">\n",
       "  <thead>\n",
       "    <tr style=\"text-align: right;\">\n",
       "      <th></th>\n",
       "      <th>PostalCode</th>\n",
       "      <th>Latitude</th>\n",
       "      <th>Longitude</th>\n",
       "    </tr>\n",
       "  </thead>\n",
       "  <tbody>\n",
       "    <tr>\n",
       "      <th>0</th>\n",
       "      <td>M1B</td>\n",
       "      <td>43.806686</td>\n",
       "      <td>-79.194353</td>\n",
       "    </tr>\n",
       "    <tr>\n",
       "      <th>1</th>\n",
       "      <td>M1C</td>\n",
       "      <td>43.784535</td>\n",
       "      <td>-79.160497</td>\n",
       "    </tr>\n",
       "    <tr>\n",
       "      <th>2</th>\n",
       "      <td>M1E</td>\n",
       "      <td>43.763573</td>\n",
       "      <td>-79.188711</td>\n",
       "    </tr>\n",
       "    <tr>\n",
       "      <th>3</th>\n",
       "      <td>M1G</td>\n",
       "      <td>43.770992</td>\n",
       "      <td>-79.216917</td>\n",
       "    </tr>\n",
       "    <tr>\n",
       "      <th>4</th>\n",
       "      <td>M1H</td>\n",
       "      <td>43.773136</td>\n",
       "      <td>-79.239476</td>\n",
       "    </tr>\n",
       "  </tbody>\n",
       "</table>\n",
       "</div>"
      ],
      "text/plain": [
       "  PostalCode   Latitude  Longitude\n",
       "0        M1B  43.806686 -79.194353\n",
       "1        M1C  43.784535 -79.160497\n",
       "2        M1E  43.763573 -79.188711\n",
       "3        M1G  43.770992 -79.216917\n",
       "4        M1H  43.773136 -79.239476"
      ]
     },
     "execution_count": 5,
     "metadata": {},
     "output_type": "execute_result"
    }
   ],
   "source": [
    "cor_df = pd.read_csv(\"data/geospatial_coordinates.csv\")\n",
    "cor_df.columns = ['PostalCode', 'Latitude', 'Longitude']\n",
    "cor_df.head()"
   ]
  },
  {
   "cell_type": "markdown",
   "metadata": {},
   "source": [
    "We need to make sure that the datatypes of Latitude and Longitude are float. So I merged the imported csv file with my final dataframe on PostalCode i.e. merge the 2 dataframes in such a way that Postal code remains the same and the Latitude and Longitude for that PostalCode anr in corresponding cells."
   ]
  },
  {
   "cell_type": "code",
   "execution_count": 6,
   "metadata": {},
   "outputs": [
    {
     "data": {
      "text/html": [
       "<div>\n",
       "<style scoped>\n",
       "    .dataframe tbody tr th:only-of-type {\n",
       "        vertical-align: middle;\n",
       "    }\n",
       "\n",
       "    .dataframe tbody tr th {\n",
       "        vertical-align: top;\n",
       "    }\n",
       "\n",
       "    .dataframe thead th {\n",
       "        text-align: right;\n",
       "    }\n",
       "</style>\n",
       "<table border=\"1\" class=\"dataframe\">\n",
       "  <thead>\n",
       "    <tr style=\"text-align: right;\">\n",
       "      <th></th>\n",
       "      <th>PostalCode</th>\n",
       "      <th>Borough</th>\n",
       "      <th>Neighborhood</th>\n",
       "      <th>Latitude</th>\n",
       "      <th>Longitude</th>\n",
       "    </tr>\n",
       "  </thead>\n",
       "  <tbody>\n",
       "    <tr>\n",
       "      <th>0</th>\n",
       "      <td>M3A</td>\n",
       "      <td>North York</td>\n",
       "      <td>Parkwoods</td>\n",
       "      <td>43.753259</td>\n",
       "      <td>-79.329656</td>\n",
       "    </tr>\n",
       "    <tr>\n",
       "      <th>1</th>\n",
       "      <td>M4A</td>\n",
       "      <td>North York</td>\n",
       "      <td>Victoria Village</td>\n",
       "      <td>43.725882</td>\n",
       "      <td>-79.315572</td>\n",
       "    </tr>\n",
       "    <tr>\n",
       "      <th>2</th>\n",
       "      <td>M5A</td>\n",
       "      <td>Downtown Toronto</td>\n",
       "      <td>Regent Park, Harbourfront</td>\n",
       "      <td>43.654260</td>\n",
       "      <td>-79.360636</td>\n",
       "    </tr>\n",
       "    <tr>\n",
       "      <th>3</th>\n",
       "      <td>M6A</td>\n",
       "      <td>North York</td>\n",
       "      <td>Lawrence Manor, Lawrence Heights</td>\n",
       "      <td>43.718518</td>\n",
       "      <td>-79.464763</td>\n",
       "    </tr>\n",
       "    <tr>\n",
       "      <th>4</th>\n",
       "      <td>M7A</td>\n",
       "      <td>Downtown Toronto</td>\n",
       "      <td>Queen's Park, Ontario Provincial Government</td>\n",
       "      <td>43.662301</td>\n",
       "      <td>-79.389494</td>\n",
       "    </tr>\n",
       "  </tbody>\n",
       "</table>\n",
       "</div>"
      ],
      "text/plain": [
       "  PostalCode           Borough                                 Neighborhood  \\\n",
       "0        M3A        North York                                    Parkwoods   \n",
       "1        M4A        North York                             Victoria Village   \n",
       "2        M5A  Downtown Toronto                    Regent Park, Harbourfront   \n",
       "3        M6A        North York             Lawrence Manor, Lawrence Heights   \n",
       "4        M7A  Downtown Toronto  Queen's Park, Ontario Provincial Government   \n",
       "\n",
       "    Latitude  Longitude  \n",
       "0  43.753259 -79.329656  \n",
       "1  43.725882 -79.315572  \n",
       "2  43.654260 -79.360636  \n",
       "3  43.718518 -79.464763  \n",
       "4  43.662301 -79.389494  "
      ]
     },
     "execution_count": 6,
     "metadata": {},
     "output_type": "execute_result"
    }
   ],
   "source": [
    "final_df = pd.merge(table_df, cor_df, on=['PostalCode'])\n",
    "final_df[['Latitude', 'Longitude']] = final_df[['Latitude', 'Longitude']].astype(float)\n",
    "final_df.head()"
   ]
  },
  {
   "cell_type": "markdown",
   "metadata": {},
   "source": [
    "Let's get the geograpical coordinate of Toronto City."
   ]
  },
  {
   "cell_type": "code",
   "execution_count": 7,
   "metadata": {},
   "outputs": [
    {
     "name": "stdout",
     "output_type": "stream",
     "text": [
      "The geograpical coordinate of Toronto City are 43.6534817, -79.3839347.\n"
     ]
    }
   ],
   "source": [
    "address = 'Toronto, ON'\n",
    "\n",
    "geolocator = Nominatim(user_agent=\"http\")\n",
    "location = geolocator.geocode(address)\n",
    "latitude = location.latitude\n",
    "longitude = location.longitude\n",
    "print('The geograpical coordinate of Toronto City are {}, {}.'.format(latitude, longitude))"
   ]
  },
  {
   "cell_type": "markdown",
   "metadata": {},
   "source": [
    "Now let's create a map of Toronto displaying our data."
   ]
  },
  {
   "cell_type": "code",
   "execution_count": 8,
   "metadata": {},
   "outputs": [
    {
     "data": {
      "text/html": [
       "<div style=\"width:100%;\"><div style=\"position:relative;width:100%;height:0;padding-bottom:60%;\"><span style=\"color:#565656\">Make this Notebook Trusted to load map: File -> Trust Notebook</span><iframe src=\"about:blank\" style=\"position:absolute;width:100%;height:100%;left:0;top:0;border:none !important;\" data-html=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 onload=\"this.contentDocument.open();this.contentDocument.write(atob(this.getAttribute('data-html')));this.contentDocument.close();\" allowfullscreen webkitallowfullscreen mozallowfullscreen></iframe></div></div>"
      ],
      "text/plain": [
       "<folium.folium.Map at 0x1a28eaa2b0>"
      ]
     },
     "execution_count": 8,
     "metadata": {},
     "output_type": "execute_result"
    }
   ],
   "source": [
    "# create map of Toronto using latitude and longitude values\n",
    "map_toronto = folium.Map(location=[latitude, longitude], zoom_start=10)\n",
    "\n",
    "# add markers to map\n",
    "for lat, lng, borough, neighborhood in zip(final_df['Latitude'],\n",
    "                                           final_df['Longitude'],\n",
    "                                           final_df['Borough'],\n",
    "                                           final_df['Neighborhood']):\n",
    "    label = '{}, {}'.format(neighborhood, borough)\n",
    "    label = folium.Popup(label, parse_html=True)\n",
    "    folium.CircleMarker(\n",
    "        [lat, lng],\n",
    "        radius=5,\n",
    "        popup=label,\n",
    "        color='blue',\n",
    "        fill=True,\n",
    "        fill_color='#3186cc',\n",
    "        fill_opacity=0.7,\n",
    "        parse_html=False).add_to(map_toronto)  \n",
    "    \n",
    "map_toronto"
   ]
  },
  {
   "cell_type": "markdown",
   "metadata": {},
   "source": [
    "I am working with only boroughs that contain the word Toronto. So I created a new dataframe which has this data by filtering data10"
   ]
  },
  {
   "cell_type": "code",
   "execution_count": 9,
   "metadata": {},
   "outputs": [
    {
     "data": {
      "text/html": [
       "<div>\n",
       "<style scoped>\n",
       "    .dataframe tbody tr th:only-of-type {\n",
       "        vertical-align: middle;\n",
       "    }\n",
       "\n",
       "    .dataframe tbody tr th {\n",
       "        vertical-align: top;\n",
       "    }\n",
       "\n",
       "    .dataframe thead th {\n",
       "        text-align: right;\n",
       "    }\n",
       "</style>\n",
       "<table border=\"1\" class=\"dataframe\">\n",
       "  <thead>\n",
       "    <tr style=\"text-align: right;\">\n",
       "      <th></th>\n",
       "      <th>PostalCode</th>\n",
       "      <th>Borough</th>\n",
       "      <th>Neighborhood</th>\n",
       "      <th>Latitude</th>\n",
       "      <th>Longitude</th>\n",
       "    </tr>\n",
       "  </thead>\n",
       "  <tbody>\n",
       "    <tr>\n",
       "      <th>0</th>\n",
       "      <td>M5A</td>\n",
       "      <td>Downtown Toronto</td>\n",
       "      <td>Regent Park, Harbourfront</td>\n",
       "      <td>43.654260</td>\n",
       "      <td>-79.360636</td>\n",
       "    </tr>\n",
       "    <tr>\n",
       "      <th>1</th>\n",
       "      <td>M7A</td>\n",
       "      <td>Downtown Toronto</td>\n",
       "      <td>Queen's Park, Ontario Provincial Government</td>\n",
       "      <td>43.662301</td>\n",
       "      <td>-79.389494</td>\n",
       "    </tr>\n",
       "    <tr>\n",
       "      <th>2</th>\n",
       "      <td>M5B</td>\n",
       "      <td>Downtown Toronto</td>\n",
       "      <td>Garden District, Ryerson</td>\n",
       "      <td>43.657162</td>\n",
       "      <td>-79.378937</td>\n",
       "    </tr>\n",
       "    <tr>\n",
       "      <th>3</th>\n",
       "      <td>M5C</td>\n",
       "      <td>Downtown Toronto</td>\n",
       "      <td>St. James Town</td>\n",
       "      <td>43.651494</td>\n",
       "      <td>-79.375418</td>\n",
       "    </tr>\n",
       "    <tr>\n",
       "      <th>4</th>\n",
       "      <td>M4E</td>\n",
       "      <td>East Toronto</td>\n",
       "      <td>The Beaches</td>\n",
       "      <td>43.676357</td>\n",
       "      <td>-79.293031</td>\n",
       "    </tr>\n",
       "  </tbody>\n",
       "</table>\n",
       "</div>"
      ],
      "text/plain": [
       "  PostalCode           Borough                                 Neighborhood  \\\n",
       "0        M5A  Downtown Toronto                    Regent Park, Harbourfront   \n",
       "1        M7A  Downtown Toronto  Queen's Park, Ontario Provincial Government   \n",
       "2        M5B  Downtown Toronto                     Garden District, Ryerson   \n",
       "3        M5C  Downtown Toronto                               St. James Town   \n",
       "4        M4E      East Toronto                                  The Beaches   \n",
       "\n",
       "    Latitude  Longitude  \n",
       "0  43.654260 -79.360636  \n",
       "1  43.662301 -79.389494  \n",
       "2  43.657162 -79.378937  \n",
       "3  43.651494 -79.375418  \n",
       "4  43.676357 -79.293031  "
      ]
     },
     "execution_count": 9,
     "metadata": {},
     "output_type": "execute_result"
    }
   ],
   "source": [
    "toronto_df = final_df[final_df['Borough'].str.contains('Toronto')].reset_index(drop=True)\n",
    "toronto_df.head()"
   ]
  },
  {
   "cell_type": "code",
   "execution_count": 10,
   "metadata": {
    "scrolled": true
   },
   "outputs": [],
   "source": [
    "# @hidden_cell\n",
    "from config import CLIENT_ID, CLIENT_SECRET\n",
    "VERSION = '20180604'\n",
    "LIMIT = 500"
   ]
  },
  {
   "cell_type": "markdown",
   "metadata": {},
   "source": [
    "#### Let's explore the first neighborhood in our dataframe.\n",
    "\n",
    "Get the neighborhood's name."
   ]
  },
  {
   "cell_type": "code",
   "execution_count": 11,
   "metadata": {},
   "outputs": [
    {
     "data": {
      "text/plain": [
       "'Regent Park, Harbourfront'"
      ]
     },
     "execution_count": 11,
     "metadata": {},
     "output_type": "execute_result"
    }
   ],
   "source": [
    "toronto_df.loc[0, 'Neighborhood']"
   ]
  },
  {
   "cell_type": "markdown",
   "metadata": {},
   "source": [
    "Get the neighborhood's latitude and longitude values."
   ]
  },
  {
   "cell_type": "code",
   "execution_count": 12,
   "metadata": {},
   "outputs": [
    {
     "name": "stdout",
     "output_type": "stream",
     "text": [
      "Latitude and longitude values of Regent Park, Harbourfront are 43.6542599, -79.3606359.\n"
     ]
    }
   ],
   "source": [
    "neighborhood_latitude = toronto_df.loc[0, 'Latitude'] # neighborhood latitude value\n",
    "neighborhood_longitude = toronto_df.loc[0, 'Longitude'] # neighborhood longitude value\n",
    "\n",
    "neighborhood_name = toronto_df.loc[0, 'Neighborhood'] # neighborhood name\n",
    "\n",
    "print('Latitude and longitude values of {} are {}, {}.'.format(neighborhood_name, \n",
    "                                                               neighborhood_latitude, \n",
    "                                                               neighborhood_longitude))"
   ]
  },
  {
   "cell_type": "markdown",
   "metadata": {},
   "source": [
    "#### Now, let's get the top 100 venues that are in The Beaches within a radius of 500 meters.\n",
    "\n",
    "First, let's create the GET request URL."
   ]
  },
  {
   "cell_type": "code",
   "execution_count": 13,
   "metadata": {},
   "outputs": [],
   "source": [
    "LIMIT = 500\n",
    "radius = 1000\n",
    "\n",
    "url_4s = 'https://api.foursquare.com/v2/venues/explore?&client_id={}&client_secret={}&v={}&ll={},{}&radius={}&limit={}'.format(\n",
    "    CLIENT_ID, \n",
    "    CLIENT_SECRET, \n",
    "    VERSION, \n",
    "    neighborhood_latitude, \n",
    "    neighborhood_longitude, \n",
    "    radius, \n",
    "    LIMIT)"
   ]
  },
  {
   "cell_type": "markdown",
   "metadata": {},
   "source": [
    "Send the GET request.\n",
    "Let's borrow the get_category_type function from the Foursquare lab and clean the json and structure it into a pandas dataframe."
   ]
  },
  {
   "cell_type": "code",
   "execution_count": 14,
   "metadata": {},
   "outputs": [
    {
     "data": {
      "text/html": [
       "<div>\n",
       "<style scoped>\n",
       "    .dataframe tbody tr th:only-of-type {\n",
       "        vertical-align: middle;\n",
       "    }\n",
       "\n",
       "    .dataframe tbody tr th {\n",
       "        vertical-align: top;\n",
       "    }\n",
       "\n",
       "    .dataframe thead th {\n",
       "        text-align: right;\n",
       "    }\n",
       "</style>\n",
       "<table border=\"1\" class=\"dataframe\">\n",
       "  <thead>\n",
       "    <tr style=\"text-align: right;\">\n",
       "      <th></th>\n",
       "      <th>name</th>\n",
       "      <th>categories</th>\n",
       "      <th>lat</th>\n",
       "      <th>lng</th>\n",
       "    </tr>\n",
       "  </thead>\n",
       "  <tbody>\n",
       "    <tr>\n",
       "      <th>0</th>\n",
       "      <td>Roselle Desserts</td>\n",
       "      <td>Bakery</td>\n",
       "      <td>43.653447</td>\n",
       "      <td>-79.362017</td>\n",
       "    </tr>\n",
       "    <tr>\n",
       "      <th>1</th>\n",
       "      <td>Tandem Coffee</td>\n",
       "      <td>Coffee Shop</td>\n",
       "      <td>43.653559</td>\n",
       "      <td>-79.361809</td>\n",
       "    </tr>\n",
       "    <tr>\n",
       "      <th>2</th>\n",
       "      <td>Cooper Koo Family YMCA</td>\n",
       "      <td>Distribution Center</td>\n",
       "      <td>43.653249</td>\n",
       "      <td>-79.358008</td>\n",
       "    </tr>\n",
       "    <tr>\n",
       "      <th>3</th>\n",
       "      <td>Impact Kitchen</td>\n",
       "      <td>Restaurant</td>\n",
       "      <td>43.656369</td>\n",
       "      <td>-79.356980</td>\n",
       "    </tr>\n",
       "    <tr>\n",
       "      <th>4</th>\n",
       "      <td>The Distillery Historic District</td>\n",
       "      <td>Historic Site</td>\n",
       "      <td>43.650244</td>\n",
       "      <td>-79.359323</td>\n",
       "    </tr>\n",
       "  </tbody>\n",
       "</table>\n",
       "</div>"
      ],
      "text/plain": [
       "                               name           categories        lat        lng\n",
       "0                  Roselle Desserts               Bakery  43.653447 -79.362017\n",
       "1                     Tandem Coffee          Coffee Shop  43.653559 -79.361809\n",
       "2            Cooper Koo Family YMCA  Distribution Center  43.653249 -79.358008\n",
       "3                    Impact Kitchen           Restaurant  43.656369 -79.356980\n",
       "4  The Distillery Historic District        Historic Site  43.650244 -79.359323"
      ]
     },
     "execution_count": 14,
     "metadata": {},
     "output_type": "execute_result"
    }
   ],
   "source": [
    "results = requests.get(url_4s).json()\n",
    "\n",
    "# function that extracts the category of the venue\n",
    "def get_category_type(row):\n",
    "    try:\n",
    "        categories_list = row['categories']\n",
    "    except:\n",
    "        categories_list = row['venue.categories']\n",
    "        \n",
    "    if len(categories_list) == 0:\n",
    "        return None\n",
    "    else:\n",
    "        return categories_list[0]['name']\n",
    "    \n",
    "venues = results['response']['groups'][0]['items']\n",
    "nearby_venues = json_normalize(venues) # flatten JSON\n",
    "# filter columns\n",
    "filtered_columns = ['venue.name',\n",
    "                    'venue.categories',\n",
    "                    'venue.location.lat',\n",
    "                    'venue.location.lng']\n",
    "nearby_venues =nearby_venues.loc[:, filtered_columns]\n",
    "# filter the category for each row\n",
    "nearby_venues['venue.categories'] = nearby_venues.apply(get_category_type, axis=1)\n",
    "# clean columns\n",
    "nearby_venues.columns = [col.split(\".\")[-1] for col in nearby_venues.columns]\n",
    "nearby_venues.head()"
   ]
  },
  {
   "cell_type": "code",
   "execution_count": 15,
   "metadata": {},
   "outputs": [
    {
     "name": "stdout",
     "output_type": "stream",
     "text": [
      "100 venues were returned by Foursquare.\n"
     ]
    }
   ],
   "source": [
    "print('{} venues were returned by Foursquare.'.format(nearby_venues.shape[0]))"
   ]
  },
  {
   "cell_type": "markdown",
   "metadata": {},
   "source": [
    "#### Let's create a function to repeat the same process to all the neighborhoods in Toronto"
   ]
  },
  {
   "cell_type": "code",
   "execution_count": 16,
   "metadata": {},
   "outputs": [],
   "source": [
    "def getNearbyVenues(names, latitudes, longitudes, radius=500):\n",
    "    \n",
    "    venues_list=[]\n",
    "    for name, lat, lng in zip(names, latitudes, longitudes):\n",
    "        print(name)\n",
    "\n",
    "        url_4s1 = 'https://api.foursquare.com/v2/venues/explore?&client_id={}&client_secret={}&v={}&ll={},{}&radius={}&limit={}'.format(\n",
    "            CLIENT_ID, \n",
    "            CLIENT_SECRET, \n",
    "            VERSION, \n",
    "            lat, \n",
    "            lng, \n",
    "            radius, \n",
    "            LIMIT)\n",
    "\n",
    "        results = requests.get(url_4s1).json()[\"response\"]['groups'][0]['items']\n",
    "\n",
    "        venues_list.append([(\n",
    "            name, \n",
    "            lat, \n",
    "            lng, \n",
    "            v['venue']['name'], \n",
    "            v['venue']['location']['lat'], \n",
    "            v['venue']['location']['lng'],  \n",
    "            v['venue']['categories'][0]['name']) for v in results])\n",
    "\n",
    "    nearby_venues = pd.DataFrame([item for venue_list in venues_list for item in venue_list])\n",
    "    nearby_venues.columns = ['Neighborhood', \n",
    "                  'Neighborhood Latitude', \n",
    "                  'Neighborhood Longitude', \n",
    "                  'Venue', \n",
    "                  'Venue Latitude', \n",
    "                  'Venue Longitude', \n",
    "                  'Venue Category']\n",
    "    \n",
    "    return(nearby_venues)"
   ]
  },
  {
   "cell_type": "markdown",
   "metadata": {},
   "source": [
    "#### Now we write the code to run the above function on each neighborhood and create a new dataframe called toronto_venues."
   ]
  },
  {
   "cell_type": "code",
   "execution_count": 17,
   "metadata": {},
   "outputs": [
    {
     "name": "stdout",
     "output_type": "stream",
     "text": [
      "Regent Park, Harbourfront\n",
      "Queen's Park, Ontario Provincial Government\n",
      "Garden District, Ryerson\n",
      "St. James Town\n",
      "The Beaches\n",
      "Berczy Park\n",
      "Central Bay Street\n",
      "Christie\n",
      "Richmond, Adelaide, King\n",
      "Dufferin, Dovercourt Village\n",
      "Harbourfront East, Union Station, Toronto Islands\n",
      "Little Portugal, Trinity\n",
      "The Danforth West, Riverdale\n",
      "Toronto Dominion Centre, Design Exchange\n",
      "Brockton, Parkdale Village, Exhibition Place\n",
      "India Bazaar, The Beaches West\n",
      "Commerce Court, Victoria Hotel\n",
      "Studio District\n",
      "Lawrence Park\n",
      "Roselawn\n",
      "Davisville North\n",
      "Forest Hill North & West, Forest Hill Road Park\n",
      "High Park, The Junction South\n",
      "North Toronto West, Lawrence Park\n",
      "The Annex, North Midtown, Yorkville\n",
      "Parkdale, Roncesvalles\n",
      "Davisville\n",
      "University of Toronto, Harbord\n",
      "Runnymede, Swansea\n",
      "Moore Park, Summerhill East\n",
      "Kensington Market, Chinatown, Grange Park\n",
      "Summerhill West, Rathnelly, South Hill, Forest Hill SE, Deer Park\n",
      "CN Tower, King and Spadina, Railway Lands, Harbourfront West, Bathurst Quay, South Niagara, Island airport\n",
      "Rosedale\n",
      "Stn A PO Boxes\n",
      "St. James Town, Cabbagetown\n",
      "First Canadian Place, Underground city\n",
      "Church and Wellesley\n",
      "Business reply mail Processing Centre, South Central Letter Processing Plant Toronto\n"
     ]
    }
   ],
   "source": [
    "toronto_venues = getNearbyVenues(names=toronto_df['Neighborhood'],\n",
    "                                   latitudes=toronto_df['Latitude'],\n",
    "                                   longitudes=toronto_df['Longitude']\n",
    "                                  )"
   ]
  },
  {
   "cell_type": "markdown",
   "metadata": {},
   "source": [
    "#### Let's check the size of the resulting dataframe"
   ]
  },
  {
   "cell_type": "code",
   "execution_count": 18,
   "metadata": {},
   "outputs": [
    {
     "name": "stdout",
     "output_type": "stream",
     "text": [
      "(1634, 7)\n"
     ]
    },
    {
     "data": {
      "text/html": [
       "<div>\n",
       "<style scoped>\n",
       "    .dataframe tbody tr th:only-of-type {\n",
       "        vertical-align: middle;\n",
       "    }\n",
       "\n",
       "    .dataframe tbody tr th {\n",
       "        vertical-align: top;\n",
       "    }\n",
       "\n",
       "    .dataframe thead th {\n",
       "        text-align: right;\n",
       "    }\n",
       "</style>\n",
       "<table border=\"1\" class=\"dataframe\">\n",
       "  <thead>\n",
       "    <tr style=\"text-align: right;\">\n",
       "      <th></th>\n",
       "      <th>Neighborhood</th>\n",
       "      <th>Neighborhood Latitude</th>\n",
       "      <th>Neighborhood Longitude</th>\n",
       "      <th>Venue</th>\n",
       "      <th>Venue Latitude</th>\n",
       "      <th>Venue Longitude</th>\n",
       "      <th>Venue Category</th>\n",
       "    </tr>\n",
       "  </thead>\n",
       "  <tbody>\n",
       "    <tr>\n",
       "      <th>0</th>\n",
       "      <td>Regent Park, Harbourfront</td>\n",
       "      <td>43.65426</td>\n",
       "      <td>-79.360636</td>\n",
       "      <td>Roselle Desserts</td>\n",
       "      <td>43.653447</td>\n",
       "      <td>-79.362017</td>\n",
       "      <td>Bakery</td>\n",
       "    </tr>\n",
       "    <tr>\n",
       "      <th>1</th>\n",
       "      <td>Regent Park, Harbourfront</td>\n",
       "      <td>43.65426</td>\n",
       "      <td>-79.360636</td>\n",
       "      <td>Tandem Coffee</td>\n",
       "      <td>43.653559</td>\n",
       "      <td>-79.361809</td>\n",
       "      <td>Coffee Shop</td>\n",
       "    </tr>\n",
       "    <tr>\n",
       "      <th>2</th>\n",
       "      <td>Regent Park, Harbourfront</td>\n",
       "      <td>43.65426</td>\n",
       "      <td>-79.360636</td>\n",
       "      <td>Cooper Koo Family YMCA</td>\n",
       "      <td>43.653249</td>\n",
       "      <td>-79.358008</td>\n",
       "      <td>Distribution Center</td>\n",
       "    </tr>\n",
       "    <tr>\n",
       "      <th>3</th>\n",
       "      <td>Regent Park, Harbourfront</td>\n",
       "      <td>43.65426</td>\n",
       "      <td>-79.360636</td>\n",
       "      <td>Body Blitz Spa East</td>\n",
       "      <td>43.654735</td>\n",
       "      <td>-79.359874</td>\n",
       "      <td>Spa</td>\n",
       "    </tr>\n",
       "    <tr>\n",
       "      <th>4</th>\n",
       "      <td>Regent Park, Harbourfront</td>\n",
       "      <td>43.65426</td>\n",
       "      <td>-79.360636</td>\n",
       "      <td>Impact Kitchen</td>\n",
       "      <td>43.656369</td>\n",
       "      <td>-79.356980</td>\n",
       "      <td>Restaurant</td>\n",
       "    </tr>\n",
       "  </tbody>\n",
       "</table>\n",
       "</div>"
      ],
      "text/plain": [
       "                Neighborhood  Neighborhood Latitude  Neighborhood Longitude  \\\n",
       "0  Regent Park, Harbourfront               43.65426              -79.360636   \n",
       "1  Regent Park, Harbourfront               43.65426              -79.360636   \n",
       "2  Regent Park, Harbourfront               43.65426              -79.360636   \n",
       "3  Regent Park, Harbourfront               43.65426              -79.360636   \n",
       "4  Regent Park, Harbourfront               43.65426              -79.360636   \n",
       "\n",
       "                    Venue  Venue Latitude  Venue Longitude  \\\n",
       "0        Roselle Desserts       43.653447       -79.362017   \n",
       "1           Tandem Coffee       43.653559       -79.361809   \n",
       "2  Cooper Koo Family YMCA       43.653249       -79.358008   \n",
       "3     Body Blitz Spa East       43.654735       -79.359874   \n",
       "4          Impact Kitchen       43.656369       -79.356980   \n",
       "\n",
       "        Venue Category  \n",
       "0               Bakery  \n",
       "1          Coffee Shop  \n",
       "2  Distribution Center  \n",
       "3                  Spa  \n",
       "4           Restaurant  "
      ]
     },
     "execution_count": 18,
     "metadata": {},
     "output_type": "execute_result"
    }
   ],
   "source": [
    "print(toronto_venues.shape)\n",
    "toronto_venues.head()"
   ]
  },
  {
   "cell_type": "markdown",
   "metadata": {},
   "source": [
    "#### Let's check how many venues were returned for each neighborhood and find out how many unique categories can be curated from all the returned venues"
   ]
  },
  {
   "cell_type": "code",
   "execution_count": 19,
   "metadata": {},
   "outputs": [
    {
     "name": "stdout",
     "output_type": "stream",
     "text": [
      "There are 238 uniques categories.\n"
     ]
    }
   ],
   "source": [
    "toronto_venues.groupby('Neighborhood').count()\n",
    "print('There are {} uniques categories.'.format(len(toronto_venues['Venue Category'].unique())))"
   ]
  },
  {
   "cell_type": "markdown",
   "metadata": {},
   "source": [
    "### Now let's analyze each neighborhood"
   ]
  },
  {
   "cell_type": "code",
   "execution_count": 20,
   "metadata": {},
   "outputs": [
    {
     "data": {
      "text/html": [
       "<div>\n",
       "<style scoped>\n",
       "    .dataframe tbody tr th:only-of-type {\n",
       "        vertical-align: middle;\n",
       "    }\n",
       "\n",
       "    .dataframe tbody tr th {\n",
       "        vertical-align: top;\n",
       "    }\n",
       "\n",
       "    .dataframe thead th {\n",
       "        text-align: right;\n",
       "    }\n",
       "</style>\n",
       "<table border=\"1\" class=\"dataframe\">\n",
       "  <thead>\n",
       "    <tr style=\"text-align: right;\">\n",
       "      <th></th>\n",
       "      <th>Yoga Studio</th>\n",
       "      <th>Afghan Restaurant</th>\n",
       "      <th>Airport</th>\n",
       "      <th>Airport Food Court</th>\n",
       "      <th>Airport Gate</th>\n",
       "      <th>Airport Lounge</th>\n",
       "      <th>Airport Service</th>\n",
       "      <th>Airport Terminal</th>\n",
       "      <th>American Restaurant</th>\n",
       "      <th>Antique Shop</th>\n",
       "      <th>...</th>\n",
       "      <th>Theater</th>\n",
       "      <th>Theme Restaurant</th>\n",
       "      <th>Toy / Game Store</th>\n",
       "      <th>Trail</th>\n",
       "      <th>Train Station</th>\n",
       "      <th>Vegetarian / Vegan Restaurant</th>\n",
       "      <th>Video Game Store</th>\n",
       "      <th>Vietnamese Restaurant</th>\n",
       "      <th>Wine Bar</th>\n",
       "      <th>Women's Store</th>\n",
       "    </tr>\n",
       "  </thead>\n",
       "  <tbody>\n",
       "    <tr>\n",
       "      <th>0</th>\n",
       "      <td>0</td>\n",
       "      <td>0</td>\n",
       "      <td>0</td>\n",
       "      <td>0</td>\n",
       "      <td>0</td>\n",
       "      <td>0</td>\n",
       "      <td>0</td>\n",
       "      <td>0</td>\n",
       "      <td>0</td>\n",
       "      <td>0</td>\n",
       "      <td>...</td>\n",
       "      <td>0</td>\n",
       "      <td>0</td>\n",
       "      <td>0</td>\n",
       "      <td>0</td>\n",
       "      <td>0</td>\n",
       "      <td>0</td>\n",
       "      <td>0</td>\n",
       "      <td>0</td>\n",
       "      <td>0</td>\n",
       "      <td>0</td>\n",
       "    </tr>\n",
       "    <tr>\n",
       "      <th>1</th>\n",
       "      <td>0</td>\n",
       "      <td>0</td>\n",
       "      <td>0</td>\n",
       "      <td>0</td>\n",
       "      <td>0</td>\n",
       "      <td>0</td>\n",
       "      <td>0</td>\n",
       "      <td>0</td>\n",
       "      <td>0</td>\n",
       "      <td>0</td>\n",
       "      <td>...</td>\n",
       "      <td>0</td>\n",
       "      <td>0</td>\n",
       "      <td>0</td>\n",
       "      <td>0</td>\n",
       "      <td>0</td>\n",
       "      <td>0</td>\n",
       "      <td>0</td>\n",
       "      <td>0</td>\n",
       "      <td>0</td>\n",
       "      <td>0</td>\n",
       "    </tr>\n",
       "    <tr>\n",
       "      <th>2</th>\n",
       "      <td>0</td>\n",
       "      <td>0</td>\n",
       "      <td>0</td>\n",
       "      <td>0</td>\n",
       "      <td>0</td>\n",
       "      <td>0</td>\n",
       "      <td>0</td>\n",
       "      <td>0</td>\n",
       "      <td>0</td>\n",
       "      <td>0</td>\n",
       "      <td>...</td>\n",
       "      <td>0</td>\n",
       "      <td>0</td>\n",
       "      <td>0</td>\n",
       "      <td>0</td>\n",
       "      <td>0</td>\n",
       "      <td>0</td>\n",
       "      <td>0</td>\n",
       "      <td>0</td>\n",
       "      <td>0</td>\n",
       "      <td>0</td>\n",
       "    </tr>\n",
       "    <tr>\n",
       "      <th>3</th>\n",
       "      <td>0</td>\n",
       "      <td>0</td>\n",
       "      <td>0</td>\n",
       "      <td>0</td>\n",
       "      <td>0</td>\n",
       "      <td>0</td>\n",
       "      <td>0</td>\n",
       "      <td>0</td>\n",
       "      <td>0</td>\n",
       "      <td>0</td>\n",
       "      <td>...</td>\n",
       "      <td>0</td>\n",
       "      <td>0</td>\n",
       "      <td>0</td>\n",
       "      <td>0</td>\n",
       "      <td>0</td>\n",
       "      <td>0</td>\n",
       "      <td>0</td>\n",
       "      <td>0</td>\n",
       "      <td>0</td>\n",
       "      <td>0</td>\n",
       "    </tr>\n",
       "    <tr>\n",
       "      <th>4</th>\n",
       "      <td>0</td>\n",
       "      <td>0</td>\n",
       "      <td>0</td>\n",
       "      <td>0</td>\n",
       "      <td>0</td>\n",
       "      <td>0</td>\n",
       "      <td>0</td>\n",
       "      <td>0</td>\n",
       "      <td>0</td>\n",
       "      <td>0</td>\n",
       "      <td>...</td>\n",
       "      <td>0</td>\n",
       "      <td>0</td>\n",
       "      <td>0</td>\n",
       "      <td>0</td>\n",
       "      <td>0</td>\n",
       "      <td>0</td>\n",
       "      <td>0</td>\n",
       "      <td>0</td>\n",
       "      <td>0</td>\n",
       "      <td>0</td>\n",
       "    </tr>\n",
       "  </tbody>\n",
       "</table>\n",
       "<p>5 rows × 238 columns</p>\n",
       "</div>"
      ],
      "text/plain": [
       "   Yoga Studio  Afghan Restaurant  Airport  Airport Food Court  Airport Gate  \\\n",
       "0            0                  0        0                   0             0   \n",
       "1            0                  0        0                   0             0   \n",
       "2            0                  0        0                   0             0   \n",
       "3            0                  0        0                   0             0   \n",
       "4            0                  0        0                   0             0   \n",
       "\n",
       "   Airport Lounge  Airport Service  Airport Terminal  American Restaurant  \\\n",
       "0               0                0                 0                    0   \n",
       "1               0                0                 0                    0   \n",
       "2               0                0                 0                    0   \n",
       "3               0                0                 0                    0   \n",
       "4               0                0                 0                    0   \n",
       "\n",
       "   Antique Shop  ...  Theater  Theme Restaurant  Toy / Game Store  Trail  \\\n",
       "0             0  ...        0                 0                 0      0   \n",
       "1             0  ...        0                 0                 0      0   \n",
       "2             0  ...        0                 0                 0      0   \n",
       "3             0  ...        0                 0                 0      0   \n",
       "4             0  ...        0                 0                 0      0   \n",
       "\n",
       "   Train Station  Vegetarian / Vegan Restaurant  Video Game Store  \\\n",
       "0              0                              0                 0   \n",
       "1              0                              0                 0   \n",
       "2              0                              0                 0   \n",
       "3              0                              0                 0   \n",
       "4              0                              0                 0   \n",
       "\n",
       "   Vietnamese Restaurant  Wine Bar  Women's Store  \n",
       "0                      0         0              0  \n",
       "1                      0         0              0  \n",
       "2                      0         0              0  \n",
       "3                      0         0              0  \n",
       "4                      0         0              0  \n",
       "\n",
       "[5 rows x 238 columns]"
      ]
     },
     "execution_count": 20,
     "metadata": {},
     "output_type": "execute_result"
    }
   ],
   "source": [
    "# one hot encoding\n",
    "toronto_onehot = pd.get_dummies(toronto_venues[['Venue Category']], prefix=\"\", prefix_sep=\"\")\n",
    "\n",
    "# add neighborhood column back to dataframe\n",
    "toronto_onehot['Neighborhood'] = toronto_venues['Neighborhood'] \n",
    "\n",
    "# move neighborhood column to the first column\n",
    "fixed_columns = [toronto_onehot.columns[-1]] + list(toronto_onehot.columns[:-1])\n",
    "toronto_onehot = toronto_onehot[fixed_columns]\n",
    "\n",
    "toronto_onehot.head()"
   ]
  },
  {
   "cell_type": "markdown",
   "metadata": {},
   "source": [
    "#### Next, let's group rows by neighborhood and by taking the mean of the frequency of occurrence of each category and let's print each neighborhood along with the top 5 most common venues"
   ]
  },
  {
   "cell_type": "code",
   "execution_count": 21,
   "metadata": {
    "scrolled": true
   },
   "outputs": [],
   "source": [
    "toronto_grouped = toronto_onehot.groupby('Neighborhood').mean().reset_index()\n",
    "num_top_venues = 5\n",
    "\n",
    "for hood in toronto_grouped['Neighborhood']:\n",
    "    #print(\"----\"+hood+\"----\")\n",
    "    temp = toronto_grouped[toronto_grouped['Neighborhood'] == hood].T.reset_index()\n",
    "    temp.columns = ['venue','freq']\n",
    "    temp = temp.iloc[1:]\n",
    "    temp['freq'] = temp['freq'].astype(float)\n",
    "    temp = temp.round({'freq': 2})\n",
    "    #print(temp.sort_values('freq', ascending=False).reset_index(drop=True).head(num_top_venues))\n",
    "    #print('\\n')"
   ]
  },
  {
   "cell_type": "markdown",
   "metadata": {},
   "source": [
    "#### Let's put that into a pandas dataframe\n",
    "\n",
    "First, let's write a function to sort the venues in descending order."
   ]
  },
  {
   "cell_type": "code",
   "execution_count": 22,
   "metadata": {},
   "outputs": [],
   "source": [
    "def return_most_common_venues(row, num_top_venues):\n",
    "    row_categories = row.iloc[1:]\n",
    "    row_categories_sorted = row_categories.sort_values(ascending=False)\n",
    "    \n",
    "    return row_categories_sorted.index.values[0:num_top_venues]"
   ]
  },
  {
   "cell_type": "markdown",
   "metadata": {},
   "source": [
    "Now let's create the new dataframe and display the top 10 venues for each neighborhood."
   ]
  },
  {
   "cell_type": "code",
   "execution_count": 23,
   "metadata": {},
   "outputs": [
    {
     "data": {
      "text/html": [
       "<div>\n",
       "<style scoped>\n",
       "    .dataframe tbody tr th:only-of-type {\n",
       "        vertical-align: middle;\n",
       "    }\n",
       "\n",
       "    .dataframe tbody tr th {\n",
       "        vertical-align: top;\n",
       "    }\n",
       "\n",
       "    .dataframe thead th {\n",
       "        text-align: right;\n",
       "    }\n",
       "</style>\n",
       "<table border=\"1\" class=\"dataframe\">\n",
       "  <thead>\n",
       "    <tr style=\"text-align: right;\">\n",
       "      <th></th>\n",
       "      <th>Neighborhood</th>\n",
       "      <th>1st Most Common Venue</th>\n",
       "      <th>2nd Most Common Venue</th>\n",
       "      <th>3rd Most Common Venue</th>\n",
       "      <th>4th Most Common Venue</th>\n",
       "      <th>5th Most Common Venue</th>\n",
       "      <th>6th Most Common Venue</th>\n",
       "      <th>7th Most Common Venue</th>\n",
       "      <th>8th Most Common Venue</th>\n",
       "      <th>9th Most Common Venue</th>\n",
       "      <th>10th Most Common Venue</th>\n",
       "    </tr>\n",
       "  </thead>\n",
       "  <tbody>\n",
       "    <tr>\n",
       "      <th>0</th>\n",
       "      <td>Berczy Park</td>\n",
       "      <td>Coffee Shop</td>\n",
       "      <td>Bakery</td>\n",
       "      <td>Cheese Shop</td>\n",
       "      <td>Beer Bar</td>\n",
       "      <td>Seafood Restaurant</td>\n",
       "      <td>Cocktail Bar</td>\n",
       "      <td>Restaurant</td>\n",
       "      <td>Farmers Market</td>\n",
       "      <td>Pharmacy</td>\n",
       "      <td>Breakfast Spot</td>\n",
       "    </tr>\n",
       "    <tr>\n",
       "      <th>1</th>\n",
       "      <td>Brockton, Parkdale Village, Exhibition Place</td>\n",
       "      <td>Café</td>\n",
       "      <td>Coffee Shop</td>\n",
       "      <td>Breakfast Spot</td>\n",
       "      <td>Nightclub</td>\n",
       "      <td>Pet Store</td>\n",
       "      <td>Bar</td>\n",
       "      <td>Burrito Place</td>\n",
       "      <td>Restaurant</td>\n",
       "      <td>Climbing Gym</td>\n",
       "      <td>Performing Arts Venue</td>\n",
       "    </tr>\n",
       "    <tr>\n",
       "      <th>2</th>\n",
       "      <td>Business reply mail Processing Centre, South C...</td>\n",
       "      <td>Recording Studio</td>\n",
       "      <td>Farmers Market</td>\n",
       "      <td>Brewery</td>\n",
       "      <td>Skate Park</td>\n",
       "      <td>Comic Shop</td>\n",
       "      <td>Park</td>\n",
       "      <td>Gym / Fitness Center</td>\n",
       "      <td>Butcher</td>\n",
       "      <td>Garden Center</td>\n",
       "      <td>Garden</td>\n",
       "    </tr>\n",
       "    <tr>\n",
       "      <th>3</th>\n",
       "      <td>CN Tower, King and Spadina, Railway Lands, Har...</td>\n",
       "      <td>Airport Lounge</td>\n",
       "      <td>Airport Service</td>\n",
       "      <td>Coffee Shop</td>\n",
       "      <td>Harbor / Marina</td>\n",
       "      <td>Boutique</td>\n",
       "      <td>Boat or Ferry</td>\n",
       "      <td>Rental Car Location</td>\n",
       "      <td>Bar</td>\n",
       "      <td>Plane</td>\n",
       "      <td>Sculpture Garden</td>\n",
       "    </tr>\n",
       "    <tr>\n",
       "      <th>4</th>\n",
       "      <td>Central Bay Street</td>\n",
       "      <td>Coffee Shop</td>\n",
       "      <td>Café</td>\n",
       "      <td>Sandwich Place</td>\n",
       "      <td>Italian Restaurant</td>\n",
       "      <td>Salad Place</td>\n",
       "      <td>Bubble Tea Shop</td>\n",
       "      <td>Burger Joint</td>\n",
       "      <td>Juice Bar</td>\n",
       "      <td>Japanese Restaurant</td>\n",
       "      <td>Thai Restaurant</td>\n",
       "    </tr>\n",
       "  </tbody>\n",
       "</table>\n",
       "</div>"
      ],
      "text/plain": [
       "                                        Neighborhood 1st Most Common Venue  \\\n",
       "0                                        Berczy Park           Coffee Shop   \n",
       "1       Brockton, Parkdale Village, Exhibition Place                  Café   \n",
       "2  Business reply mail Processing Centre, South C...      Recording Studio   \n",
       "3  CN Tower, King and Spadina, Railway Lands, Har...        Airport Lounge   \n",
       "4                                 Central Bay Street           Coffee Shop   \n",
       "\n",
       "  2nd Most Common Venue 3rd Most Common Venue 4th Most Common Venue  \\\n",
       "0                Bakery           Cheese Shop              Beer Bar   \n",
       "1           Coffee Shop        Breakfast Spot             Nightclub   \n",
       "2        Farmers Market               Brewery            Skate Park   \n",
       "3       Airport Service           Coffee Shop       Harbor / Marina   \n",
       "4                  Café        Sandwich Place    Italian Restaurant   \n",
       "\n",
       "  5th Most Common Venue 6th Most Common Venue 7th Most Common Venue  \\\n",
       "0    Seafood Restaurant          Cocktail Bar            Restaurant   \n",
       "1             Pet Store                   Bar         Burrito Place   \n",
       "2            Comic Shop                  Park  Gym / Fitness Center   \n",
       "3              Boutique         Boat or Ferry   Rental Car Location   \n",
       "4           Salad Place       Bubble Tea Shop          Burger Joint   \n",
       "\n",
       "  8th Most Common Venue 9th Most Common Venue 10th Most Common Venue  \n",
       "0        Farmers Market              Pharmacy         Breakfast Spot  \n",
       "1            Restaurant          Climbing Gym  Performing Arts Venue  \n",
       "2               Butcher         Garden Center                 Garden  \n",
       "3                   Bar                 Plane       Sculpture Garden  \n",
       "4             Juice Bar   Japanese Restaurant        Thai Restaurant  "
      ]
     },
     "execution_count": 23,
     "metadata": {},
     "output_type": "execute_result"
    }
   ],
   "source": [
    "num_top_venues = 10\n",
    "\n",
    "indicators = ['st', 'nd', 'rd']\n",
    "\n",
    "# create columns according to number of top venues\n",
    "columns = ['Neighborhood']\n",
    "for ind in np.arange(num_top_venues):\n",
    "    try:\n",
    "        columns.append('{}{} Most Common Venue'.format(ind+1, indicators[ind]))\n",
    "    except:\n",
    "        columns.append('{}th Most Common Venue'.format(ind+1))\n",
    "\n",
    "# create a new dataframe\n",
    "neighborhoods_venues_sorted = pd.DataFrame(columns=columns)\n",
    "neighborhoods_venues_sorted['Neighborhood'] = toronto_grouped['Neighborhood']\n",
    "\n",
    "for ind in np.arange(toronto_grouped.shape[0]):\n",
    "    neighborhoods_venues_sorted.iloc[ind, 1:] = return_most_common_venues(toronto_grouped.iloc[ind, :], num_top_venues)\n",
    "\n",
    "neighborhoods_venues_sorted.head()"
   ]
  },
  {
   "cell_type": "markdown",
   "metadata": {},
   "source": [
    "## Now we cluster our neighborhoods\n",
    "\n",
    "Run k-means to cluster the neighborhood into 5 clusters."
   ]
  },
  {
   "cell_type": "code",
   "execution_count": 24,
   "metadata": {},
   "outputs": [
    {
     "data": {
      "text/plain": [
       "array([0, 0, 0, 0, 0, 0, 0, 0, 0, 0], dtype=int32)"
      ]
     },
     "execution_count": 24,
     "metadata": {},
     "output_type": "execute_result"
    }
   ],
   "source": [
    "kclusters = 5\n",
    "\n",
    "toronto_grouped_clustering = toronto_grouped.drop('Neighborhood', 1)\n",
    "\n",
    "kmeans = KMeans(n_clusters=kclusters, random_state=0).fit(toronto_grouped_clustering)\n",
    "\n",
    "kmeans.labels_[0:10]"
   ]
  },
  {
   "cell_type": "markdown",
   "metadata": {},
   "source": [
    "Let's create a new dataframe that includes the cluster as well as the top 10 venues for each neighborhood."
   ]
  },
  {
   "cell_type": "code",
   "execution_count": 25,
   "metadata": {},
   "outputs": [
    {
     "data": {
      "text/html": [
       "<div>\n",
       "<style scoped>\n",
       "    .dataframe tbody tr th:only-of-type {\n",
       "        vertical-align: middle;\n",
       "    }\n",
       "\n",
       "    .dataframe tbody tr th {\n",
       "        vertical-align: top;\n",
       "    }\n",
       "\n",
       "    .dataframe thead th {\n",
       "        text-align: right;\n",
       "    }\n",
       "</style>\n",
       "<table border=\"1\" class=\"dataframe\">\n",
       "  <thead>\n",
       "    <tr style=\"text-align: right;\">\n",
       "      <th></th>\n",
       "      <th>PostalCode</th>\n",
       "      <th>Borough</th>\n",
       "      <th>Neighborhood</th>\n",
       "      <th>Latitude</th>\n",
       "      <th>Longitude</th>\n",
       "      <th>Cluster Labels</th>\n",
       "      <th>1st Most Common Venue</th>\n",
       "      <th>2nd Most Common Venue</th>\n",
       "      <th>3rd Most Common Venue</th>\n",
       "      <th>4th Most Common Venue</th>\n",
       "      <th>5th Most Common Venue</th>\n",
       "      <th>6th Most Common Venue</th>\n",
       "      <th>7th Most Common Venue</th>\n",
       "      <th>8th Most Common Venue</th>\n",
       "      <th>9th Most Common Venue</th>\n",
       "      <th>10th Most Common Venue</th>\n",
       "    </tr>\n",
       "  </thead>\n",
       "  <tbody>\n",
       "    <tr>\n",
       "      <th>0</th>\n",
       "      <td>M5A</td>\n",
       "      <td>Downtown Toronto</td>\n",
       "      <td>Regent Park, Harbourfront</td>\n",
       "      <td>43.654260</td>\n",
       "      <td>-79.360636</td>\n",
       "      <td>0</td>\n",
       "      <td>Coffee Shop</td>\n",
       "      <td>Pub</td>\n",
       "      <td>Park</td>\n",
       "      <td>Bakery</td>\n",
       "      <td>Café</td>\n",
       "      <td>Theater</td>\n",
       "      <td>Breakfast Spot</td>\n",
       "      <td>Brewery</td>\n",
       "      <td>Spa</td>\n",
       "      <td>Beer Store</td>\n",
       "    </tr>\n",
       "    <tr>\n",
       "      <th>1</th>\n",
       "      <td>M7A</td>\n",
       "      <td>Downtown Toronto</td>\n",
       "      <td>Queen's Park, Ontario Provincial Government</td>\n",
       "      <td>43.662301</td>\n",
       "      <td>-79.389494</td>\n",
       "      <td>0</td>\n",
       "      <td>Coffee Shop</td>\n",
       "      <td>Yoga Studio</td>\n",
       "      <td>Portuguese Restaurant</td>\n",
       "      <td>Smoothie Shop</td>\n",
       "      <td>Beer Bar</td>\n",
       "      <td>Sandwich Place</td>\n",
       "      <td>Restaurant</td>\n",
       "      <td>Distribution Center</td>\n",
       "      <td>Diner</td>\n",
       "      <td>Café</td>\n",
       "    </tr>\n",
       "    <tr>\n",
       "      <th>2</th>\n",
       "      <td>M5B</td>\n",
       "      <td>Downtown Toronto</td>\n",
       "      <td>Garden District, Ryerson</td>\n",
       "      <td>43.657162</td>\n",
       "      <td>-79.378937</td>\n",
       "      <td>0</td>\n",
       "      <td>Clothing Store</td>\n",
       "      <td>Coffee Shop</td>\n",
       "      <td>Café</td>\n",
       "      <td>Cosmetics Shop</td>\n",
       "      <td>Japanese Restaurant</td>\n",
       "      <td>Bubble Tea Shop</td>\n",
       "      <td>Fast Food Restaurant</td>\n",
       "      <td>Diner</td>\n",
       "      <td>Lingerie Store</td>\n",
       "      <td>Pizza Place</td>\n",
       "    </tr>\n",
       "    <tr>\n",
       "      <th>3</th>\n",
       "      <td>M5C</td>\n",
       "      <td>Downtown Toronto</td>\n",
       "      <td>St. James Town</td>\n",
       "      <td>43.651494</td>\n",
       "      <td>-79.375418</td>\n",
       "      <td>0</td>\n",
       "      <td>Coffee Shop</td>\n",
       "      <td>Café</td>\n",
       "      <td>Cocktail Bar</td>\n",
       "      <td>Restaurant</td>\n",
       "      <td>Gastropub</td>\n",
       "      <td>American Restaurant</td>\n",
       "      <td>Beer Bar</td>\n",
       "      <td>Clothing Store</td>\n",
       "      <td>Gym</td>\n",
       "      <td>Seafood Restaurant</td>\n",
       "    </tr>\n",
       "    <tr>\n",
       "      <th>4</th>\n",
       "      <td>M4E</td>\n",
       "      <td>East Toronto</td>\n",
       "      <td>The Beaches</td>\n",
       "      <td>43.676357</td>\n",
       "      <td>-79.293031</td>\n",
       "      <td>0</td>\n",
       "      <td>Health Food Store</td>\n",
       "      <td>Pub</td>\n",
       "      <td>Trail</td>\n",
       "      <td>Distribution Center</td>\n",
       "      <td>Department Store</td>\n",
       "      <td>Dessert Shop</td>\n",
       "      <td>Dim Sum Restaurant</td>\n",
       "      <td>Diner</td>\n",
       "      <td>Discount Store</td>\n",
       "      <td>Women's Store</td>\n",
       "    </tr>\n",
       "  </tbody>\n",
       "</table>\n",
       "</div>"
      ],
      "text/plain": [
       "  PostalCode           Borough                                 Neighborhood  \\\n",
       "0        M5A  Downtown Toronto                    Regent Park, Harbourfront   \n",
       "1        M7A  Downtown Toronto  Queen's Park, Ontario Provincial Government   \n",
       "2        M5B  Downtown Toronto                     Garden District, Ryerson   \n",
       "3        M5C  Downtown Toronto                               St. James Town   \n",
       "4        M4E      East Toronto                                  The Beaches   \n",
       "\n",
       "    Latitude  Longitude  Cluster Labels 1st Most Common Venue  \\\n",
       "0  43.654260 -79.360636               0           Coffee Shop   \n",
       "1  43.662301 -79.389494               0           Coffee Shop   \n",
       "2  43.657162 -79.378937               0        Clothing Store   \n",
       "3  43.651494 -79.375418               0           Coffee Shop   \n",
       "4  43.676357 -79.293031               0     Health Food Store   \n",
       "\n",
       "  2nd Most Common Venue  3rd Most Common Venue 4th Most Common Venue  \\\n",
       "0                   Pub                   Park                Bakery   \n",
       "1           Yoga Studio  Portuguese Restaurant         Smoothie Shop   \n",
       "2           Coffee Shop                   Café        Cosmetics Shop   \n",
       "3                  Café           Cocktail Bar            Restaurant   \n",
       "4                   Pub                  Trail   Distribution Center   \n",
       "\n",
       "  5th Most Common Venue 6th Most Common Venue 7th Most Common Venue  \\\n",
       "0                  Café               Theater        Breakfast Spot   \n",
       "1              Beer Bar        Sandwich Place            Restaurant   \n",
       "2   Japanese Restaurant       Bubble Tea Shop  Fast Food Restaurant   \n",
       "3             Gastropub   American Restaurant              Beer Bar   \n",
       "4      Department Store          Dessert Shop    Dim Sum Restaurant   \n",
       "\n",
       "  8th Most Common Venue 9th Most Common Venue 10th Most Common Venue  \n",
       "0               Brewery                   Spa             Beer Store  \n",
       "1   Distribution Center                 Diner                   Café  \n",
       "2                 Diner        Lingerie Store            Pizza Place  \n",
       "3        Clothing Store                   Gym     Seafood Restaurant  \n",
       "4                 Diner        Discount Store          Women's Store  "
      ]
     },
     "execution_count": 25,
     "metadata": {},
     "output_type": "execute_result"
    }
   ],
   "source": [
    "toronto_merged = toronto_df\n",
    "\n",
    "toronto_merged['Cluster Labels'] = kmeans.labels_\n",
    "\n",
    "toronto_merged = toronto_merged.join(neighborhoods_venues_sorted.set_index('Neighborhood'), on='Neighborhood')\n",
    "\n",
    "toronto_merged.head()"
   ]
  },
  {
   "cell_type": "markdown",
   "metadata": {},
   "source": [
    "Let's visualize the resulting clusters"
   ]
  },
  {
   "cell_type": "code",
   "execution_count": 26,
   "metadata": {},
   "outputs": [
    {
     "data": {
      "text/html": [
       "<div style=\"width:100%;\"><div style=\"position:relative;width:100%;height:0;padding-bottom:60%;\"><span style=\"color:#565656\">Make this Notebook Trusted to load map: File -> Trust Notebook</span><iframe src=\"about:blank\" style=\"position:absolute;width:100%;height:100%;left:0;top:0;border:none !important;\" data-html=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 onload=\"this.contentDocument.open();this.contentDocument.write(atob(this.getAttribute('data-html')));this.contentDocument.close();\" allowfullscreen webkitallowfullscreen mozallowfullscreen></iframe></div></div>"
      ],
      "text/plain": [
       "<folium.folium.Map at 0x1a2a0fa390>"
      ]
     },
     "execution_count": 26,
     "metadata": {},
     "output_type": "execute_result"
    }
   ],
   "source": [
    "map_clusters = folium.Map(location=[latitude, longitude], zoom_start=11)\n",
    "\n",
    "# set color scheme for the clusters\n",
    "x = np.arange(kclusters)\n",
    "ys = [i+x+(i*x)**2 for i in range(kclusters)]\n",
    "colors_array = cm.rainbow(np.linspace(0, 1, len(ys)))\n",
    "rainbow = [colors.rgb2hex(i) for i in colors_array]\n",
    "\n",
    "# add markers to the map\n",
    "markers_colors = []\n",
    "for lat, lon, poi, cluster in zip(toronto_merged['Latitude'],\n",
    "                                  toronto_merged['Longitude'],\n",
    "                                  toronto_merged['Neighborhood'],\n",
    "                                  toronto_merged['Cluster Labels']):\n",
    "    label = folium.Popup(str(poi) + ' Cluster ' + str(cluster), parse_html=True)\n",
    "    folium.CircleMarker(\n",
    "        [lat, lon],\n",
    "        radius=5,\n",
    "        popup=label,\n",
    "        color=rainbow[cluster-1],\n",
    "        fill=True,\n",
    "        fill_color=rainbow[cluster-1],\n",
    "        fill_opacity=0.7).add_to(map_clusters)\n",
    "       \n",
    "map_clusters"
   ]
  },
  {
   "cell_type": "markdown",
   "metadata": {},
   "source": [
    "### Cluster 1"
   ]
  },
  {
   "cell_type": "code",
   "execution_count": 27,
   "metadata": {},
   "outputs": [
    {
     "data": {
      "text/html": [
       "<div>\n",
       "<style scoped>\n",
       "    .dataframe tbody tr th:only-of-type {\n",
       "        vertical-align: middle;\n",
       "    }\n",
       "\n",
       "    .dataframe tbody tr th {\n",
       "        vertical-align: top;\n",
       "    }\n",
       "\n",
       "    .dataframe thead th {\n",
       "        text-align: right;\n",
       "    }\n",
       "</style>\n",
       "<table border=\"1\" class=\"dataframe\">\n",
       "  <thead>\n",
       "    <tr style=\"text-align: right;\">\n",
       "      <th></th>\n",
       "      <th>Borough</th>\n",
       "      <th>1st Most Common Venue</th>\n",
       "      <th>2nd Most Common Venue</th>\n",
       "      <th>3rd Most Common Venue</th>\n",
       "      <th>4th Most Common Venue</th>\n",
       "      <th>5th Most Common Venue</th>\n",
       "      <th>6th Most Common Venue</th>\n",
       "      <th>7th Most Common Venue</th>\n",
       "      <th>8th Most Common Venue</th>\n",
       "      <th>9th Most Common Venue</th>\n",
       "      <th>10th Most Common Venue</th>\n",
       "    </tr>\n",
       "  </thead>\n",
       "  <tbody>\n",
       "    <tr>\n",
       "      <th>0</th>\n",
       "      <td>Downtown Toronto</td>\n",
       "      <td>Coffee Shop</td>\n",
       "      <td>Pub</td>\n",
       "      <td>Park</td>\n",
       "      <td>Bakery</td>\n",
       "      <td>Café</td>\n",
       "      <td>Theater</td>\n",
       "      <td>Breakfast Spot</td>\n",
       "      <td>Brewery</td>\n",
       "      <td>Spa</td>\n",
       "      <td>Beer Store</td>\n",
       "    </tr>\n",
       "    <tr>\n",
       "      <th>1</th>\n",
       "      <td>Downtown Toronto</td>\n",
       "      <td>Coffee Shop</td>\n",
       "      <td>Yoga Studio</td>\n",
       "      <td>Portuguese Restaurant</td>\n",
       "      <td>Smoothie Shop</td>\n",
       "      <td>Beer Bar</td>\n",
       "      <td>Sandwich Place</td>\n",
       "      <td>Restaurant</td>\n",
       "      <td>Distribution Center</td>\n",
       "      <td>Diner</td>\n",
       "      <td>Café</td>\n",
       "    </tr>\n",
       "    <tr>\n",
       "      <th>2</th>\n",
       "      <td>Downtown Toronto</td>\n",
       "      <td>Clothing Store</td>\n",
       "      <td>Coffee Shop</td>\n",
       "      <td>Café</td>\n",
       "      <td>Cosmetics Shop</td>\n",
       "      <td>Japanese Restaurant</td>\n",
       "      <td>Bubble Tea Shop</td>\n",
       "      <td>Fast Food Restaurant</td>\n",
       "      <td>Diner</td>\n",
       "      <td>Lingerie Store</td>\n",
       "      <td>Pizza Place</td>\n",
       "    </tr>\n",
       "    <tr>\n",
       "      <th>3</th>\n",
       "      <td>Downtown Toronto</td>\n",
       "      <td>Coffee Shop</td>\n",
       "      <td>Café</td>\n",
       "      <td>Cocktail Bar</td>\n",
       "      <td>Restaurant</td>\n",
       "      <td>Gastropub</td>\n",
       "      <td>American Restaurant</td>\n",
       "      <td>Beer Bar</td>\n",
       "      <td>Clothing Store</td>\n",
       "      <td>Gym</td>\n",
       "      <td>Seafood Restaurant</td>\n",
       "    </tr>\n",
       "    <tr>\n",
       "      <th>4</th>\n",
       "      <td>East Toronto</td>\n",
       "      <td>Health Food Store</td>\n",
       "      <td>Pub</td>\n",
       "      <td>Trail</td>\n",
       "      <td>Distribution Center</td>\n",
       "      <td>Department Store</td>\n",
       "      <td>Dessert Shop</td>\n",
       "      <td>Dim Sum Restaurant</td>\n",
       "      <td>Diner</td>\n",
       "      <td>Discount Store</td>\n",
       "      <td>Women's Store</td>\n",
       "    </tr>\n",
       "  </tbody>\n",
       "</table>\n",
       "</div>"
      ],
      "text/plain": [
       "            Borough 1st Most Common Venue 2nd Most Common Venue  \\\n",
       "0  Downtown Toronto           Coffee Shop                   Pub   \n",
       "1  Downtown Toronto           Coffee Shop           Yoga Studio   \n",
       "2  Downtown Toronto        Clothing Store           Coffee Shop   \n",
       "3  Downtown Toronto           Coffee Shop                  Café   \n",
       "4      East Toronto     Health Food Store                   Pub   \n",
       "\n",
       "   3rd Most Common Venue 4th Most Common Venue 5th Most Common Venue  \\\n",
       "0                   Park                Bakery                  Café   \n",
       "1  Portuguese Restaurant         Smoothie Shop              Beer Bar   \n",
       "2                   Café        Cosmetics Shop   Japanese Restaurant   \n",
       "3           Cocktail Bar            Restaurant             Gastropub   \n",
       "4                  Trail   Distribution Center      Department Store   \n",
       "\n",
       "  6th Most Common Venue 7th Most Common Venue 8th Most Common Venue  \\\n",
       "0               Theater        Breakfast Spot               Brewery   \n",
       "1        Sandwich Place            Restaurant   Distribution Center   \n",
       "2       Bubble Tea Shop  Fast Food Restaurant                 Diner   \n",
       "3   American Restaurant              Beer Bar        Clothing Store   \n",
       "4          Dessert Shop    Dim Sum Restaurant                 Diner   \n",
       "\n",
       "  9th Most Common Venue 10th Most Common Venue  \n",
       "0                   Spa             Beer Store  \n",
       "1                 Diner                   Café  \n",
       "2        Lingerie Store            Pizza Place  \n",
       "3                   Gym     Seafood Restaurant  \n",
       "4        Discount Store          Women's Store  "
      ]
     },
     "execution_count": 27,
     "metadata": {},
     "output_type": "execute_result"
    }
   ],
   "source": [
    "cluster_1a = toronto_merged.loc[toronto_merged['Cluster Labels'] == 0,\n",
    "                                 toronto_merged.columns[[1] + list(range(5, toronto_merged.shape[1]))]]\n",
    "cluster_1 = cluster_1a.drop(['Cluster Labels'], axis=1)\n",
    "cluster_1.head()"
   ]
  },
  {
   "cell_type": "code",
   "execution_count": 28,
   "metadata": {
    "scrolled": false
   },
   "outputs": [
    {
     "data": {
      "text/html": [
       "<div style=\"width:100%;\"><div style=\"position:relative;width:100%;height:0;padding-bottom:60%;\"><span style=\"color:#565656\">Make this Notebook Trusted to load map: File -> Trust Notebook</span><iframe src=\"about:blank\" style=\"position:absolute;width:100%;height:100%;left:0;top:0;border:none !important;\" data-html=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 onload=\"this.contentDocument.open();this.contentDocument.write(atob(this.getAttribute('data-html')));this.contentDocument.close();\" allowfullscreen webkitallowfullscreen mozallowfullscreen></iframe></div></div>"
      ],
      "text/plain": [
       "<folium.folium.Map at 0x1a2a139c88>"
      ]
     },
     "execution_count": 28,
     "metadata": {},
     "output_type": "execute_result"
    }
   ],
   "source": [
    "map_clusters_1 = folium.Map(location=[latitude, longitude], zoom_start=11)\n",
    "\n",
    "# set color scheme for the clusters\n",
    "x = np.arange(kclusters)\n",
    "ys = [i+x+(i*x)**2 for i in range(kclusters)]\n",
    "colors_array = cm.rainbow(np.linspace(0, 1, len(ys)))\n",
    "rainbow = [colors.rgb2hex(i) for i in colors_array]\n",
    "\n",
    "# add markers to the map\n",
    "markers_colors = []\n",
    "for lat, lon, poi, cluster in zip(toronto_merged['Latitude'],\n",
    "                                  toronto_merged['Longitude'],\n",
    "                                  cluster_1['Borough'],\n",
    "                                  toronto_merged['Cluster Labels']):\n",
    "    label = folium.Popup(str(poi) + ' Cluster ' + str(cluster), parse_html=True)\n",
    "    folium.CircleMarker(\n",
    "        [lat, lon],\n",
    "        radius=5,\n",
    "        popup=label,\n",
    "        color=rainbow[cluster-1],\n",
    "        fill=True,\n",
    "        fill_color=rainbow[cluster-1],\n",
    "        fill_opacity=0.7).add_to(map_clusters_1)\n",
    "       \n",
    "map_clusters_1"
   ]
  },
  {
   "cell_type": "markdown",
   "metadata": {},
   "source": [
    "### Cluster 2"
   ]
  },
  {
   "cell_type": "code",
   "execution_count": 29,
   "metadata": {},
   "outputs": [
    {
     "data": {
      "text/html": [
       "<div>\n",
       "<style scoped>\n",
       "    .dataframe tbody tr th:only-of-type {\n",
       "        vertical-align: middle;\n",
       "    }\n",
       "\n",
       "    .dataframe tbody tr th {\n",
       "        vertical-align: top;\n",
       "    }\n",
       "\n",
       "    .dataframe thead th {\n",
       "        text-align: right;\n",
       "    }\n",
       "</style>\n",
       "<table border=\"1\" class=\"dataframe\">\n",
       "  <thead>\n",
       "    <tr style=\"text-align: right;\">\n",
       "      <th></th>\n",
       "      <th>Borough</th>\n",
       "      <th>1st Most Common Venue</th>\n",
       "      <th>2nd Most Common Venue</th>\n",
       "      <th>3rd Most Common Venue</th>\n",
       "      <th>4th Most Common Venue</th>\n",
       "      <th>5th Most Common Venue</th>\n",
       "      <th>6th Most Common Venue</th>\n",
       "      <th>7th Most Common Venue</th>\n",
       "      <th>8th Most Common Venue</th>\n",
       "      <th>9th Most Common Venue</th>\n",
       "      <th>10th Most Common Venue</th>\n",
       "    </tr>\n",
       "  </thead>\n",
       "  <tbody>\n",
       "    <tr>\n",
       "      <th>20</th>\n",
       "      <td>Central Toronto</td>\n",
       "      <td>Park</td>\n",
       "      <td>Hotel</td>\n",
       "      <td>Breakfast Spot</td>\n",
       "      <td>Dog Run</td>\n",
       "      <td>Sandwich Place</td>\n",
       "      <td>Food &amp; Drink Shop</td>\n",
       "      <td>Department Store</td>\n",
       "      <td>Dance Studio</td>\n",
       "      <td>Gym / Fitness Center</td>\n",
       "      <td>Concert Hall</td>\n",
       "    </tr>\n",
       "  </tbody>\n",
       "</table>\n",
       "</div>"
      ],
      "text/plain": [
       "            Borough 1st Most Common Venue 2nd Most Common Venue  \\\n",
       "20  Central Toronto                  Park                 Hotel   \n",
       "\n",
       "   3rd Most Common Venue 4th Most Common Venue 5th Most Common Venue  \\\n",
       "20        Breakfast Spot               Dog Run        Sandwich Place   \n",
       "\n",
       "   6th Most Common Venue 7th Most Common Venue 8th Most Common Venue  \\\n",
       "20     Food & Drink Shop      Department Store          Dance Studio   \n",
       "\n",
       "   9th Most Common Venue 10th Most Common Venue  \n",
       "20  Gym / Fitness Center           Concert Hall  "
      ]
     },
     "execution_count": 29,
     "metadata": {},
     "output_type": "execute_result"
    }
   ],
   "source": [
    "cluster_2a = toronto_merged.loc[toronto_merged['Cluster Labels'] == 1, \n",
    "                                toronto_merged.columns[[1] + list(range(5, toronto_merged.shape[1]))]]\n",
    "cluster_2 = cluster_2a.drop(['Cluster Labels'], axis=1)\n",
    "cluster_2.head()"
   ]
  },
  {
   "cell_type": "code",
   "execution_count": 30,
   "metadata": {},
   "outputs": [
    {
     "data": {
      "text/html": [
       "<div style=\"width:100%;\"><div style=\"position:relative;width:100%;height:0;padding-bottom:60%;\"><span style=\"color:#565656\">Make this Notebook Trusted to load map: File -> Trust Notebook</span><iframe src=\"about:blank\" style=\"position:absolute;width:100%;height:100%;left:0;top:0;border:none !important;\" data-html=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 onload=\"this.contentDocument.open();this.contentDocument.write(atob(this.getAttribute('data-html')));this.contentDocument.close();\" allowfullscreen webkitallowfullscreen mozallowfullscreen></iframe></div></div>"
      ],
      "text/plain": [
       "<folium.folium.Map at 0x1a2a177be0>"
      ]
     },
     "execution_count": 30,
     "metadata": {},
     "output_type": "execute_result"
    }
   ],
   "source": [
    "map_clusters_2 = folium.Map(location=[latitude, longitude], zoom_start=11)\n",
    "\n",
    "# set color scheme for the clusters\n",
    "x = np.arange(kclusters)\n",
    "ys = [i+x+(i*x)**2 for i in range(kclusters)]\n",
    "colors_array = cm.rainbow(np.linspace(0, 1, len(ys)))\n",
    "rainbow = [colors.rgb2hex(i) for i in colors_array]\n",
    "\n",
    "# add markers to the map\n",
    "markers_colors = []\n",
    "for lat, lon, poi, cluster in zip(toronto_merged['Latitude'],\n",
    "                                  toronto_merged['Longitude'],\n",
    "                                  cluster_2['Borough'],\n",
    "                                  toronto_merged['Cluster Labels']):\n",
    "    label = folium.Popup(str(poi) + ' Cluster ' + str(cluster), parse_html=True)\n",
    "    folium.CircleMarker(\n",
    "        [lat, lon],\n",
    "        radius=5,\n",
    "        popup=label,\n",
    "        color=rainbow[cluster-1],\n",
    "        fill=True,\n",
    "        fill_color=rainbow[cluster-1],\n",
    "        fill_opacity=0.7).add_to(map_clusters_2)\n",
    "       \n",
    "map_clusters_2"
   ]
  },
  {
   "cell_type": "markdown",
   "metadata": {},
   "source": [
    "### Cluster 3"
   ]
  },
  {
   "cell_type": "code",
   "execution_count": 31,
   "metadata": {},
   "outputs": [
    {
     "data": {
      "text/html": [
       "<div>\n",
       "<style scoped>\n",
       "    .dataframe tbody tr th:only-of-type {\n",
       "        vertical-align: middle;\n",
       "    }\n",
       "\n",
       "    .dataframe tbody tr th {\n",
       "        vertical-align: top;\n",
       "    }\n",
       "\n",
       "    .dataframe thead th {\n",
       "        text-align: right;\n",
       "    }\n",
       "</style>\n",
       "<table border=\"1\" class=\"dataframe\">\n",
       "  <thead>\n",
       "    <tr style=\"text-align: right;\">\n",
       "      <th></th>\n",
       "      <th>Borough</th>\n",
       "      <th>1st Most Common Venue</th>\n",
       "      <th>2nd Most Common Venue</th>\n",
       "      <th>3rd Most Common Venue</th>\n",
       "      <th>4th Most Common Venue</th>\n",
       "      <th>5th Most Common Venue</th>\n",
       "      <th>6th Most Common Venue</th>\n",
       "      <th>7th Most Common Venue</th>\n",
       "      <th>8th Most Common Venue</th>\n",
       "      <th>9th Most Common Venue</th>\n",
       "      <th>10th Most Common Venue</th>\n",
       "    </tr>\n",
       "  </thead>\n",
       "  <tbody>\n",
       "    <tr>\n",
       "      <th>12</th>\n",
       "      <td>East Toronto</td>\n",
       "      <td>Greek Restaurant</td>\n",
       "      <td>Coffee Shop</td>\n",
       "      <td>Italian Restaurant</td>\n",
       "      <td>Restaurant</td>\n",
       "      <td>Furniture / Home Store</td>\n",
       "      <td>Bookstore</td>\n",
       "      <td>Ice Cream Shop</td>\n",
       "      <td>Pub</td>\n",
       "      <td>Pizza Place</td>\n",
       "      <td>Lounge</td>\n",
       "    </tr>\n",
       "    <tr>\n",
       "      <th>26</th>\n",
       "      <td>Central Toronto</td>\n",
       "      <td>Pizza Place</td>\n",
       "      <td>Sandwich Place</td>\n",
       "      <td>Dessert Shop</td>\n",
       "      <td>Sushi Restaurant</td>\n",
       "      <td>Coffee Shop</td>\n",
       "      <td>Italian Restaurant</td>\n",
       "      <td>Gym</td>\n",
       "      <td>Café</td>\n",
       "      <td>Restaurant</td>\n",
       "      <td>Seafood Restaurant</td>\n",
       "    </tr>\n",
       "  </tbody>\n",
       "</table>\n",
       "</div>"
      ],
      "text/plain": [
       "            Borough 1st Most Common Venue 2nd Most Common Venue  \\\n",
       "12     East Toronto      Greek Restaurant           Coffee Shop   \n",
       "26  Central Toronto           Pizza Place        Sandwich Place   \n",
       "\n",
       "   3rd Most Common Venue 4th Most Common Venue   5th Most Common Venue  \\\n",
       "12    Italian Restaurant            Restaurant  Furniture / Home Store   \n",
       "26          Dessert Shop      Sushi Restaurant             Coffee Shop   \n",
       "\n",
       "   6th Most Common Venue 7th Most Common Venue 8th Most Common Venue  \\\n",
       "12             Bookstore        Ice Cream Shop                   Pub   \n",
       "26    Italian Restaurant                   Gym                  Café   \n",
       "\n",
       "   9th Most Common Venue 10th Most Common Venue  \n",
       "12           Pizza Place                 Lounge  \n",
       "26            Restaurant     Seafood Restaurant  "
      ]
     },
     "execution_count": 31,
     "metadata": {},
     "output_type": "execute_result"
    }
   ],
   "source": [
    "cluster_3a = toronto_merged.loc[toronto_merged['Cluster Labels'] == 2,\n",
    "                                toronto_merged.columns[[1] + list(range(5, toronto_merged.shape[1]))]]\n",
    "cluster_3 = cluster_3a.drop(['Cluster Labels'], axis=1)\n",
    "cluster_3.head()"
   ]
  },
  {
   "cell_type": "code",
   "execution_count": 32,
   "metadata": {},
   "outputs": [
    {
     "data": {
      "text/html": [
       "<div style=\"width:100%;\"><div style=\"position:relative;width:100%;height:0;padding-bottom:60%;\"><span style=\"color:#565656\">Make this Notebook Trusted to load map: File -> Trust Notebook</span><iframe src=\"about:blank\" style=\"position:absolute;width:100%;height:100%;left:0;top:0;border:none !important;\" data-html=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 onload=\"this.contentDocument.open();this.contentDocument.write(atob(this.getAttribute('data-html')));this.contentDocument.close();\" allowfullscreen webkitallowfullscreen mozallowfullscreen></iframe></div></div>"
      ],
      "text/plain": [
       "<folium.folium.Map at 0x1a2a0f68d0>"
      ]
     },
     "execution_count": 32,
     "metadata": {},
     "output_type": "execute_result"
    }
   ],
   "source": [
    "map_clusters_3 = folium.Map(location=[latitude, longitude], zoom_start=11)\n",
    "\n",
    "# set color scheme for the clusters\n",
    "x = np.arange(kclusters)\n",
    "ys = [i+x+(i*x)**2 for i in range(kclusters)]\n",
    "colors_array = cm.rainbow(np.linspace(0, 1, len(ys)))\n",
    "rainbow = [colors.rgb2hex(i) for i in colors_array]\n",
    "\n",
    "# add markers to the map\n",
    "markers_colors = []\n",
    "for lat, lon, poi, cluster in zip(toronto_merged['Latitude'],\n",
    "                                  toronto_merged['Longitude'],\n",
    "                                  cluster_3['Borough'],\n",
    "                                  toronto_merged['Cluster Labels']):\n",
    "    label = folium.Popup(str(poi) + ' Cluster ' + str(cluster), parse_html=True)\n",
    "    folium.CircleMarker(\n",
    "        [lat, lon],\n",
    "        radius=5,\n",
    "        popup=label,\n",
    "        color=rainbow[cluster-1],\n",
    "        fill=True,\n",
    "        fill_color=rainbow[cluster-1],\n",
    "        fill_opacity=0.7).add_to(map_clusters_3)\n",
    "       \n",
    "map_clusters_3"
   ]
  },
  {
   "cell_type": "markdown",
   "metadata": {},
   "source": [
    "### Cluster 4"
   ]
  },
  {
   "cell_type": "code",
   "execution_count": 33,
   "metadata": {},
   "outputs": [
    {
     "data": {
      "text/html": [
       "<div>\n",
       "<style scoped>\n",
       "    .dataframe tbody tr th:only-of-type {\n",
       "        vertical-align: middle;\n",
       "    }\n",
       "\n",
       "    .dataframe tbody tr th {\n",
       "        vertical-align: top;\n",
       "    }\n",
       "\n",
       "    .dataframe thead th {\n",
       "        text-align: right;\n",
       "    }\n",
       "</style>\n",
       "<table border=\"1\" class=\"dataframe\">\n",
       "  <thead>\n",
       "    <tr style=\"text-align: right;\">\n",
       "      <th></th>\n",
       "      <th>Borough</th>\n",
       "      <th>1st Most Common Venue</th>\n",
       "      <th>2nd Most Common Venue</th>\n",
       "      <th>3rd Most Common Venue</th>\n",
       "      <th>4th Most Common Venue</th>\n",
       "      <th>5th Most Common Venue</th>\n",
       "      <th>6th Most Common Venue</th>\n",
       "      <th>7th Most Common Venue</th>\n",
       "      <th>8th Most Common Venue</th>\n",
       "      <th>9th Most Common Venue</th>\n",
       "      <th>10th Most Common Venue</th>\n",
       "    </tr>\n",
       "  </thead>\n",
       "  <tbody>\n",
       "    <tr>\n",
       "      <th>27</th>\n",
       "      <td>Downtown Toronto</td>\n",
       "      <td>Café</td>\n",
       "      <td>Bookstore</td>\n",
       "      <td>Bakery</td>\n",
       "      <td>Bar</td>\n",
       "      <td>Sandwich Place</td>\n",
       "      <td>Japanese Restaurant</td>\n",
       "      <td>Coffee Shop</td>\n",
       "      <td>Chinese Restaurant</td>\n",
       "      <td>Dessert Shop</td>\n",
       "      <td>College Arts Building</td>\n",
       "    </tr>\n",
       "  </tbody>\n",
       "</table>\n",
       "</div>"
      ],
      "text/plain": [
       "             Borough 1st Most Common Venue 2nd Most Common Venue  \\\n",
       "27  Downtown Toronto                  Café             Bookstore   \n",
       "\n",
       "   3rd Most Common Venue 4th Most Common Venue 5th Most Common Venue  \\\n",
       "27                Bakery                   Bar        Sandwich Place   \n",
       "\n",
       "   6th Most Common Venue 7th Most Common Venue 8th Most Common Venue  \\\n",
       "27   Japanese Restaurant           Coffee Shop    Chinese Restaurant   \n",
       "\n",
       "   9th Most Common Venue 10th Most Common Venue  \n",
       "27          Dessert Shop  College Arts Building  "
      ]
     },
     "execution_count": 33,
     "metadata": {},
     "output_type": "execute_result"
    }
   ],
   "source": [
    "cluster_4a = toronto_merged.loc[toronto_merged['Cluster Labels'] == 3,\n",
    "                                toronto_merged.columns[[1] + list(range(5, toronto_merged.shape[1]))]]\n",
    "cluster_4 = cluster_4a.drop(['Cluster Labels'], axis=1)\n",
    "cluster_4.head()"
   ]
  },
  {
   "cell_type": "code",
   "execution_count": 34,
   "metadata": {},
   "outputs": [
    {
     "data": {
      "text/html": [
       "<div style=\"width:100%;\"><div style=\"position:relative;width:100%;height:0;padding-bottom:60%;\"><span style=\"color:#565656\">Make this Notebook Trusted to load map: File -> Trust Notebook</span><iframe src=\"about:blank\" style=\"position:absolute;width:100%;height:100%;left:0;top:0;border:none !important;\" data-html=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 onload=\"this.contentDocument.open();this.contentDocument.write(atob(this.getAttribute('data-html')));this.contentDocument.close();\" allowfullscreen webkitallowfullscreen mozallowfullscreen></iframe></div></div>"
      ],
      "text/plain": [
       "<folium.folium.Map at 0x1a2a1c5a90>"
      ]
     },
     "execution_count": 34,
     "metadata": {},
     "output_type": "execute_result"
    }
   ],
   "source": [
    "map_clusters_4 = folium.Map(location=[latitude, longitude], zoom_start=11)\n",
    "\n",
    "# set color scheme for the clusters\n",
    "x = np.arange(kclusters)\n",
    "ys = [i+x+(i*x)**2 for i in range(kclusters)]\n",
    "colors_array = cm.rainbow(np.linspace(0, 1, len(ys)))\n",
    "rainbow = [colors.rgb2hex(i) for i in colors_array]\n",
    "\n",
    "# add markers to the map\n",
    "markers_colors = []\n",
    "for lat, lon, poi, cluster in zip(toronto_merged['Latitude'],\n",
    "                                  toronto_merged['Longitude'],\n",
    "                                  cluster_4['Borough'],\n",
    "                                  toronto_merged['Cluster Labels']):\n",
    "    label = folium.Popup(str(poi) + ' Cluster ' + str(cluster), parse_html=True)\n",
    "    folium.CircleMarker(\n",
    "        [lat, lon],\n",
    "        radius=5,\n",
    "        popup=label,\n",
    "        color=rainbow[cluster-1],\n",
    "        fill=True,\n",
    "        fill_color=rainbow[cluster-1],\n",
    "        fill_opacity=0.7).add_to(map_clusters_4)\n",
    "       \n",
    "map_clusters_4"
   ]
  },
  {
   "cell_type": "markdown",
   "metadata": {},
   "source": [
    "### Cluster 5"
   ]
  },
  {
   "cell_type": "code",
   "execution_count": 35,
   "metadata": {},
   "outputs": [
    {
     "data": {
      "text/html": [
       "<div>\n",
       "<style scoped>\n",
       "    .dataframe tbody tr th:only-of-type {\n",
       "        vertical-align: middle;\n",
       "    }\n",
       "\n",
       "    .dataframe tbody tr th {\n",
       "        vertical-align: top;\n",
       "    }\n",
       "\n",
       "    .dataframe thead th {\n",
       "        text-align: right;\n",
       "    }\n",
       "</style>\n",
       "<table border=\"1\" class=\"dataframe\">\n",
       "  <thead>\n",
       "    <tr style=\"text-align: right;\">\n",
       "      <th></th>\n",
       "      <th>Borough</th>\n",
       "      <th>1st Most Common Venue</th>\n",
       "      <th>2nd Most Common Venue</th>\n",
       "      <th>3rd Most Common Venue</th>\n",
       "      <th>4th Most Common Venue</th>\n",
       "      <th>5th Most Common Venue</th>\n",
       "      <th>6th Most Common Venue</th>\n",
       "      <th>7th Most Common Venue</th>\n",
       "      <th>8th Most Common Venue</th>\n",
       "      <th>9th Most Common Venue</th>\n",
       "      <th>10th Most Common Venue</th>\n",
       "    </tr>\n",
       "  </thead>\n",
       "  <tbody>\n",
       "    <tr>\n",
       "      <th>18</th>\n",
       "      <td>Central Toronto</td>\n",
       "      <td>Park</td>\n",
       "      <td>Bus Line</td>\n",
       "      <td>Swim School</td>\n",
       "      <td>College Gym</td>\n",
       "      <td>College Rec Center</td>\n",
       "      <td>Eastern European Restaurant</td>\n",
       "      <td>Dumpling Restaurant</td>\n",
       "      <td>Donut Shop</td>\n",
       "      <td>Doner Restaurant</td>\n",
       "      <td>Dog Run</td>\n",
       "    </tr>\n",
       "  </tbody>\n",
       "</table>\n",
       "</div>"
      ],
      "text/plain": [
       "            Borough 1st Most Common Venue 2nd Most Common Venue  \\\n",
       "18  Central Toronto                  Park              Bus Line   \n",
       "\n",
       "   3rd Most Common Venue 4th Most Common Venue 5th Most Common Venue  \\\n",
       "18           Swim School           College Gym    College Rec Center   \n",
       "\n",
       "          6th Most Common Venue 7th Most Common Venue 8th Most Common Venue  \\\n",
       "18  Eastern European Restaurant   Dumpling Restaurant            Donut Shop   \n",
       "\n",
       "   9th Most Common Venue 10th Most Common Venue  \n",
       "18      Doner Restaurant                Dog Run  "
      ]
     },
     "execution_count": 35,
     "metadata": {},
     "output_type": "execute_result"
    }
   ],
   "source": [
    "cluster_5a = toronto_merged.loc[toronto_merged['Cluster Labels'] == 4,\n",
    "                                toronto_merged.columns[[1] + list(range(5, toronto_merged.shape[1]))]]\n",
    "cluster_5 = cluster_5a.drop(['Cluster Labels'], axis=1)\n",
    "cluster_5.head()"
   ]
  },
  {
   "cell_type": "code",
   "execution_count": 36,
   "metadata": {},
   "outputs": [
    {
     "data": {
      "text/html": [
       "<div style=\"width:100%;\"><div style=\"position:relative;width:100%;height:0;padding-bottom:60%;\"><span style=\"color:#565656\">Make this Notebook Trusted to load map: File -> Trust Notebook</span><iframe src=\"about:blank\" style=\"position:absolute;width:100%;height:100%;left:0;top:0;border:none !important;\" data-html=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 onload=\"this.contentDocument.open();this.contentDocument.write(atob(this.getAttribute('data-html')));this.contentDocument.close();\" allowfullscreen webkitallowfullscreen mozallowfullscreen></iframe></div></div>"
      ],
      "text/plain": [
       "<folium.folium.Map at 0x1a2a1205f8>"
      ]
     },
     "execution_count": 36,
     "metadata": {},
     "output_type": "execute_result"
    }
   ],
   "source": [
    "map_clusters_5 = folium.Map(location=[latitude, longitude], zoom_start=11)\n",
    "\n",
    "# set color scheme for the clusters\n",
    "x = np.arange(kclusters)\n",
    "ys = [i+x+(i*x)**2 for i in range(kclusters)]\n",
    "colors_array = cm.rainbow(np.linspace(0, 1, len(ys)))\n",
    "rainbow = [colors.rgb2hex(i) for i in colors_array]\n",
    "\n",
    "# add markers to the map\n",
    "markers_colors = []\n",
    "for lat, lon, poi, cluster in zip(toronto_merged['Latitude'],\n",
    "                                  toronto_merged['Longitude'],\n",
    "                                  cluster_5['Borough'],\n",
    "                                  toronto_merged['Cluster Labels']):\n",
    "    label = folium.Popup(str(poi) + ' Cluster ' + str(cluster), parse_html=True)\n",
    "    folium.CircleMarker(\n",
    "        [lat, lon],\n",
    "        radius=5,\n",
    "        popup=label,\n",
    "        color=rainbow[cluster-1],\n",
    "        fill=True,\n",
    "        fill_color=rainbow[cluster-1],\n",
    "        fill_opacity=0.7).add_to(map_clusters_5)\n",
    "       \n",
    "map_clusters_5"
   ]
  },
  {
   "cell_type": "code",
   "execution_count": null,
   "metadata": {},
   "outputs": [],
   "source": []
  }
 ],
 "metadata": {
  "kernelspec": {
   "display_name": "Python 3",
   "language": "python",
   "name": "python3"
  },
  "language_info": {
   "codemirror_mode": {
    "name": "ipython",
    "version": 3
   },
   "file_extension": ".py",
   "mimetype": "text/x-python",
   "name": "python",
   "nbconvert_exporter": "python",
   "pygments_lexer": "ipython3",
   "version": "3.7.3"
  }
 },
 "nbformat": 4,
 "nbformat_minor": 2
}
